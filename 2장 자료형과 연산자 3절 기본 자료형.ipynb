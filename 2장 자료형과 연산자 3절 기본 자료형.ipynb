{
 "cells": [
  {
   "cell_type": "markdown",
   "id": "a6c9adfd",
   "metadata": {},
   "source": [
    "### 정수"
   ]
  },
  {
   "cell_type": "code",
   "execution_count": 3,
   "id": "9ad402cb",
   "metadata": {},
   "outputs": [
    {
     "name": "stdout",
     "output_type": "stream",
     "text": [
      "2147483647\n"
     ]
    }
   ],
   "source": [
    "print(2**31-1)"
   ]
  },
  {
   "cell_type": "code",
   "execution_count": 6,
   "id": "677c7c9b",
   "metadata": {},
   "outputs": [
    {
     "data": {
      "text/plain": [
       "int"
      ]
     },
     "execution_count": 6,
     "metadata": {},
     "output_type": "execute_result"
    }
   ],
   "source": [
    "type(1231238914812412849021849021)"
   ]
  },
  {
   "cell_type": "code",
   "execution_count": 10,
   "id": "c8eecc20",
   "metadata": {},
   "outputs": [
    {
     "data": {
      "text/plain": [
       "9223372036854775807"
      ]
     },
     "execution_count": 10,
     "metadata": {},
     "output_type": "execute_result"
    }
   ],
   "source": [
    "import sys\n",
    "sys.maxsize"
   ]
  },
  {
   "cell_type": "code",
   "execution_count": 12,
   "id": "9d150aa2",
   "metadata": {},
   "outputs": [
    {
     "data": {
      "text/plain": [
       "int"
      ]
     },
     "execution_count": 12,
     "metadata": {},
     "output_type": "execute_result"
    }
   ],
   "source": [
    "type(sys.maxsize)"
   ]
  },
  {
   "cell_type": "code",
   "execution_count": 13,
   "id": "6042751d",
   "metadata": {},
   "outputs": [
    {
     "data": {
      "text/plain": [
       "int"
      ]
     },
     "execution_count": 13,
     "metadata": {},
     "output_type": "execute_result"
    }
   ],
   "source": [
    "type(sys.maxsize+1)"
   ]
  },
  {
   "cell_type": "code",
   "execution_count": 14,
   "id": "c509c5ec",
   "metadata": {},
   "outputs": [
    {
     "data": {
      "text/plain": [
       "int"
      ]
     },
     "execution_count": 14,
     "metadata": {},
     "output_type": "execute_result"
    }
   ],
   "source": [
    "type(2**402)"
   ]
  },
  {
   "cell_type": "markdown",
   "id": "66ddfe71",
   "metadata": {},
   "source": [
    "### 실수"
   ]
  },
  {
   "cell_type": "code",
   "execution_count": 16,
   "id": "6c325c3f",
   "metadata": {},
   "outputs": [
    {
     "data": {
      "text/plain": [
       "float"
      ]
     },
     "execution_count": 16,
     "metadata": {},
     "output_type": "execute_result"
    }
   ],
   "source": [
    "t=3.5\n",
    "type(t)"
   ]
  },
  {
   "cell_type": "code",
   "execution_count": 17,
   "id": "7a93b44e",
   "metadata": {},
   "outputs": [
    {
     "name": "stdout",
     "output_type": "stream",
     "text": [
      "Variable   Type      Data/Info\n",
      "------------------------------\n",
      "sys        module    <module 'sys' (built-in)>\n",
      "t          float     3.5\n"
     ]
    }
   ],
   "source": [
    "whos"
   ]
  },
  {
   "cell_type": "code",
   "execution_count": 18,
   "id": "d5171b67",
   "metadata": {},
   "outputs": [
    {
     "data": {
      "text/plain": [
       "3.3333333333333335"
      ]
     },
     "execution_count": 18,
     "metadata": {},
     "output_type": "execute_result"
    }
   ],
   "source": [
    "10/3"
   ]
  },
  {
   "cell_type": "code",
   "execution_count": 20,
   "id": "7e4b1270",
   "metadata": {},
   "outputs": [
    {
     "data": {
      "text/plain": [
       "2.0"
      ]
     },
     "execution_count": 20,
     "metadata": {},
     "output_type": "execute_result"
    }
   ],
   "source": [
    "10/5"
   ]
  },
  {
   "cell_type": "code",
   "execution_count": 21,
   "id": "f190b205",
   "metadata": {},
   "outputs": [
    {
     "data": {
      "text/plain": [
       "float"
      ]
     },
     "execution_count": 21,
     "metadata": {},
     "output_type": "execute_result"
    }
   ],
   "source": [
    "type(10/2)"
   ]
  },
  {
   "cell_type": "code",
   "execution_count": 22,
   "id": "ed015bb9",
   "metadata": {},
   "outputs": [
    {
     "data": {
      "text/plain": [
       "1234.56"
      ]
     },
     "execution_count": 22,
     "metadata": {},
     "output_type": "execute_result"
    }
   ],
   "source": [
    "1.23456e3"
   ]
  },
  {
   "cell_type": "markdown",
   "id": "9826bfa0",
   "metadata": {},
   "source": [
    "### 복소수"
   ]
  },
  {
   "cell_type": "code",
   "execution_count": 26,
   "id": "6abe9fcb",
   "metadata": {},
   "outputs": [
    {
     "name": "stdout",
     "output_type": "stream",
     "text": [
      "(3+2j)\n"
     ]
    },
    {
     "data": {
      "text/plain": [
       "complex"
      ]
     },
     "execution_count": 26,
     "metadata": {},
     "output_type": "execute_result"
    }
   ],
   "source": [
    "d= 3+2j\n",
    "print(d)\n",
    "type(d)"
   ]
  },
  {
   "cell_type": "code",
   "execution_count": 27,
   "id": "9a82fa4c",
   "metadata": {},
   "outputs": [
    {
     "name": "stdout",
     "output_type": "stream",
     "text": [
      "Variable   Type       Data/Info\n",
      "-------------------------------\n",
      "d          complex    (3+2j)\n",
      "sys        module     <module 'sys' (built-in)>\n",
      "t          float      3.5\n"
     ]
    }
   ],
   "source": [
    "whos"
   ]
  },
  {
   "cell_type": "markdown",
   "id": "49bf5666",
   "metadata": {},
   "source": [
    "최근 표현식 변수"
   ]
  },
  {
   "cell_type": "code",
   "execution_count": 30,
   "id": "d726a4a8",
   "metadata": {},
   "outputs": [
    {
     "data": {
      "text/plain": [
       "20"
      ]
     },
     "execution_count": 30,
     "metadata": {},
     "output_type": "execute_result"
    }
   ],
   "source": [
    "a=10\n",
    "b=10\n",
    "a+b"
   ]
  },
  {
   "cell_type": "code",
   "execution_count": 31,
   "id": "cc64844d",
   "metadata": {},
   "outputs": [
    {
     "data": {
      "text/plain": [
       "20"
      ]
     },
     "execution_count": 31,
     "metadata": {},
     "output_type": "execute_result"
    }
   ],
   "source": [
    "_"
   ]
  },
  {
   "cell_type": "code",
   "execution_count": 32,
   "id": "25e59e09",
   "metadata": {},
   "outputs": [
    {
     "name": "stdout",
     "output_type": "stream",
     "text": [
      "30\n"
     ]
    }
   ],
   "source": [
    "print(a+_)"
   ]
  },
  {
   "cell_type": "code",
   "execution_count": 33,
   "id": "5dd686a2",
   "metadata": {},
   "outputs": [
    {
     "data": {
      "text/plain": [
       "20"
      ]
     },
     "execution_count": 33,
     "metadata": {},
     "output_type": "execute_result"
    }
   ],
   "source": [
    "c=2+3+4\n",
    "_"
   ]
  },
  {
   "cell_type": "code",
   "execution_count": 34,
   "id": "c939c6d0",
   "metadata": {},
   "outputs": [],
   "source": [
    "c=2+3+4"
   ]
  },
  {
   "cell_type": "code",
   "execution_count": 35,
   "id": "fa42320a",
   "metadata": {},
   "outputs": [
    {
     "data": {
      "text/plain": [
       "20"
      ]
     },
     "execution_count": 35,
     "metadata": {},
     "output_type": "execute_result"
    }
   ],
   "source": [
    "_"
   ]
  },
  {
   "cell_type": "markdown",
   "id": "5373bcaf",
   "metadata": {},
   "source": [
    "### 문자열"
   ]
  },
  {
   "cell_type": "code",
   "execution_count": 36,
   "id": "144ea859",
   "metadata": {},
   "outputs": [
    {
     "name": "stdout",
     "output_type": "stream",
     "text": [
      "Jinkyoung 서울시 강남구\n"
     ]
    }
   ],
   "source": [
    "name=\"Jinkyoung\"\n",
    "address='서울시 강남구'\n",
    "print(name, address)"
   ]
  },
  {
   "cell_type": "code",
   "execution_count": 39,
   "id": "d2f5e9fc",
   "metadata": {},
   "outputs": [],
   "source": [
    "text='''\n",
    "hello\n",
    "world\n",
    "say\n",
    "hoodbye\n",
    "'''"
   ]
  },
  {
   "cell_type": "code",
   "execution_count": 40,
   "id": "6dee8c65",
   "metadata": {},
   "outputs": [
    {
     "name": "stdout",
     "output_type": "stream",
     "text": [
      "\n",
      "hello\n",
      "world\n",
      "say\n",
      "hoodbye\n",
      "\n"
     ]
    }
   ],
   "source": [
    "print(text)"
   ]
  },
  {
   "cell_type": "markdown",
   "id": "342c5d5f",
   "metadata": {},
   "source": [
    "### 문자열 연결하기"
   ]
  },
  {
   "cell_type": "code",
   "execution_count": 42,
   "id": "0acd8af0",
   "metadata": {},
   "outputs": [],
   "source": [
    "a=1+3+4+5+\\\n",
    "6+7"
   ]
  },
  {
   "cell_type": "code",
   "execution_count": 43,
   "id": "24c79a74",
   "metadata": {},
   "outputs": [
    {
     "data": {
      "text/plain": [
       "26"
      ]
     },
     "execution_count": 43,
     "metadata": {},
     "output_type": "execute_result"
    }
   ],
   "source": [
    "a"
   ]
  },
  {
   "cell_type": "code",
   "execution_count": 45,
   "id": "d57ab2fa",
   "metadata": {},
   "outputs": [],
   "source": [
    "a=1+3+4+5+\\\n",
    "+6+7"
   ]
  },
  {
   "cell_type": "code",
   "execution_count": 47,
   "id": "c021fd83",
   "metadata": {},
   "outputs": [
    {
     "name": "stdout",
     "output_type": "stream",
     "text": [
      "--------------------\n"
     ]
    }
   ],
   "source": [
    "print(\"-\"*20)"
   ]
  },
  {
   "cell_type": "code",
   "execution_count": 49,
   "id": "9c3a1fe9",
   "metadata": {},
   "outputs": [],
   "source": [
    "for name in dir():\n",
    "    if not name.startswith('_'):\n",
    "        del globals()[name]"
   ]
  },
  {
   "cell_type": "code",
   "execution_count": 50,
   "id": "47948e11",
   "metadata": {},
   "outputs": [
    {
     "name": "stdout",
     "output_type": "stream",
     "text": [
      "Variable   Type    Data/Info\n",
      "----------------------------\n",
      "name       str     text\n"
     ]
    }
   ],
   "source": [
    "whos"
   ]
  },
  {
   "cell_type": "markdown",
   "id": "994ad7ac",
   "metadata": {},
   "source": [
    "### 문자열 인덱싱"
   ]
  },
  {
   "cell_type": "code",
   "execution_count": 71,
   "id": "5880a310",
   "metadata": {},
   "outputs": [
    {
     "name": "stdout",
     "output_type": "stream",
     "text": [
      "y\n",
      "h\n",
      "n\n",
      "o\n",
      "tho\n"
     ]
    }
   ],
   "source": [
    "name='python'\n",
    "print(name[1])\n",
    "print(name[3])\n",
    "print(name[-1])\n",
    "print(name[-2])\n",
    "# print(name[-9]) out of index 발생\n",
    "\n",
    "# java name.substring(2,5) = tho\n",
    "print(name[2:5])"
   ]
  },
  {
   "cell_type": "code",
   "execution_count": 72,
   "id": "2046d8f4",
   "metadata": {},
   "outputs": [],
   "source": [
    "str_=\"python\""
   ]
  },
  {
   "cell_type": "code",
   "execution_count": 78,
   "id": "e470dc58",
   "metadata": {},
   "outputs": [
    {
     "name": "stdout",
     "output_type": "stream",
     "text": [
      "python\n",
      "pyt\n",
      "python\n",
      "python\n"
     ]
    }
   ],
   "source": [
    "print(str_[0:])\n",
    "print(str_[0:3])\n",
    "print(str_[:])\n",
    "print(name)"
   ]
  },
  {
   "cell_type": "code",
   "execution_count": 79,
   "id": "a6ca3934",
   "metadata": {},
   "outputs": [
    {
     "data": {
      "text/plain": [
       "'python'"
      ]
     },
     "execution_count": 79,
     "metadata": {},
     "output_type": "execute_result"
    }
   ],
   "source": [
    "str_[:10]\n",
    "# 슬라이싱에서는 out of range 발생하지 않는다"
   ]
  },
  {
   "cell_type": "markdown",
   "id": "44d0ac53",
   "metadata": {},
   "source": [
    "### 문자열 자르기[from:to:by]"
   ]
  },
  {
   "cell_type": "code",
   "execution_count": 80,
   "id": "b647cff4",
   "metadata": {},
   "outputs": [
    {
     "data": {
      "text/plain": [
       "'02468'"
      ]
     },
     "execution_count": 80,
     "metadata": {},
     "output_type": "execute_result"
    }
   ],
   "source": [
    "'0123456789'[::2]"
   ]
  },
  {
   "cell_type": "code",
   "execution_count": 81,
   "id": "1aa3e0d3",
   "metadata": {},
   "outputs": [
    {
     "data": {
      "text/plain": [
       "'0369'"
      ]
     },
     "execution_count": 81,
     "metadata": {},
     "output_type": "execute_result"
    }
   ],
   "source": [
    "'0123456789'[::3]"
   ]
  },
  {
   "cell_type": "code",
   "execution_count": 82,
   "id": "b86e10bb",
   "metadata": {},
   "outputs": [
    {
     "data": {
      "text/plain": [
       "'246'"
      ]
     },
     "execution_count": 82,
     "metadata": {},
     "output_type": "execute_result"
    }
   ],
   "source": [
    "'0123456789'[2:8:2]"
   ]
  },
  {
   "cell_type": "code",
   "execution_count": 83,
   "id": "d12cbc3f",
   "metadata": {},
   "outputs": [
    {
     "data": {
      "text/plain": [
       "'97531'"
      ]
     },
     "execution_count": 83,
     "metadata": {},
     "output_type": "execute_result"
    }
   ],
   "source": [
    "'0123456789'[::-2]"
   ]
  },
  {
   "cell_type": "code",
   "execution_count": 84,
   "id": "a0787be3",
   "metadata": {},
   "outputs": [
    {
     "data": {
      "text/plain": [
       "'9876543210'"
      ]
     },
     "execution_count": 84,
     "metadata": {},
     "output_type": "execute_result"
    }
   ],
   "source": [
    "'0123456789'[::-1]"
   ]
  },
  {
   "cell_type": "markdown",
   "id": "8cc559f7",
   "metadata": {},
   "source": [
    "### raw 문자열"
   ]
  },
  {
   "cell_type": "code",
   "execution_count": 86,
   "id": "563b860a",
   "metadata": {},
   "outputs": [
    {
     "name": "stdout",
     "output_type": "stream",
     "text": [
      "\n",
      " \t \r",
      " \\ ' \"\n"
     ]
    }
   ],
   "source": [
    "print(\"\\n \\t \\r \\\\ \\' \\\"\")"
   ]
  },
  {
   "cell_type": "code",
   "execution_count": 88,
   "id": "bcbe7469",
   "metadata": {},
   "outputs": [
    {
     "name": "stdout",
     "output_type": "stream",
     "text": [
      "\\n \\t \\r \\\\ \\' \\\"\n"
     ]
    }
   ],
   "source": [
    "print(r\"\\n \\t \\r \\\\ \\' \\\"\")"
   ]
  },
  {
   "cell_type": "code",
   "execution_count": 91,
   "id": "aa934ce6",
   "metadata": {},
   "outputs": [
    {
     "name": "stdout",
     "output_type": "stream",
     "text": [
      "['010-2345-6789', '010-4593-4276']\n"
     ]
    }
   ],
   "source": [
    "import re\n",
    "data=\"이름:홍길동, 주소:서울시, 전화번호:010-2345-6789,010-4593-4276, 특징:동해번쩍서해버쩍\"\n",
    "phone_pattern = r'[\\d]{3,4}-[\\d]{4}-[\\d]{4}'\n",
    "phone = re.findall(phone_pattern,data)\n",
    "print(phone)"
   ]
  }
 ],
 "metadata": {
  "kernelspec": {
   "display_name": "Python 3",
   "language": "python",
   "name": "python3"
  },
  "language_info": {
   "codemirror_mode": {
    "name": "ipython",
    "version": 3
   },
   "file_extension": ".py",
   "mimetype": "text/x-python",
   "name": "python",
   "nbconvert_exporter": "python",
   "pygments_lexer": "ipython3",
   "version": "3.8.8"
  }
 },
 "nbformat": 4,
 "nbformat_minor": 5
}
