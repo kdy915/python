{
 "cells": [
  {
   "cell_type": "markdown",
   "id": "dc737d7b",
   "metadata": {},
   "source": [
    "### 화면입출력"
   ]
  },
  {
   "cell_type": "code",
   "execution_count": 1,
   "id": "5810d585",
   "metadata": {},
   "outputs": [
    {
     "name": "stdout",
     "output_type": "stream",
     "text": [
      "prompt_message10\n"
     ]
    }
   ],
   "source": [
    "read_message=input(\"prompt_message\")"
   ]
  },
  {
   "cell_type": "code",
   "execution_count": 3,
   "id": "c622ed6d",
   "metadata": {},
   "outputs": [
    {
     "name": "stdout",
     "output_type": "stream",
     "text": [
      "Variable       Type    Data/Info\n",
      "--------------------------------\n",
      "read_message   str     10\n"
     ]
    }
   ],
   "source": [
    "whos"
   ]
  },
  {
   "cell_type": "code",
   "execution_count": 4,
   "id": "5e5a4a31",
   "metadata": {},
   "outputs": [
    {
     "name": "stdout",
     "output_type": "stream",
     "text": [
      "prompt_message10\n"
     ]
    }
   ],
   "source": [
    "read_message=int(input(\"prompt_message\"))"
   ]
  },
  {
   "cell_type": "code",
   "execution_count": 5,
   "id": "1b266304",
   "metadata": {},
   "outputs": [
    {
     "name": "stdout",
     "output_type": "stream",
     "text": [
      "Variable       Type    Data/Info\n",
      "--------------------------------\n",
      "read_message   int     10\n"
     ]
    }
   ],
   "source": [
    "whos"
   ]
  },
  {
   "cell_type": "code",
   "execution_count": 6,
   "id": "d7ca45f2",
   "metadata": {},
   "outputs": [
    {
     "name": "stdout",
     "output_type": "stream",
     "text": [
      "messageln"
     ]
    }
   ],
   "source": [
    "print(\"message\", sep=\" \", end=\"ln\")"
   ]
  },
  {
   "cell_type": "code",
   "execution_count": 7,
   "id": "8f882b7b",
   "metadata": {},
   "outputs": [
    {
     "name": "stdout",
     "output_type": "stream",
     "text": [
      "hello world\n"
     ]
    }
   ],
   "source": [
    "print(\"hello\", \"world\")"
   ]
  },
  {
   "cell_type": "code",
   "execution_count": 8,
   "id": "78a19621",
   "metadata": {},
   "outputs": [
    {
     "name": "stdout",
     "output_type": "stream",
     "text": [
      "hello,world\n"
     ]
    }
   ],
   "source": [
    "print(\"hello\", \"world\", sep=\",\")"
   ]
  },
  {
   "cell_type": "code",
   "execution_count": 12,
   "id": "9c81cda8",
   "metadata": {},
   "outputs": [
    {
     "name": "stdout",
     "output_type": "stream",
     "text": [
      "hello,world\tpython\n",
      "hello\n"
     ]
    }
   ],
   "source": [
    "print(\"hello\", \"world\", sep=\",\", end=\"\\t\")\n",
    "print(\"python\")\n",
    "print(\"hello\")"
   ]
  }
 ],
 "metadata": {
  "kernelspec": {
   "display_name": "Python 3",
   "language": "python",
   "name": "python3"
  },
  "language_info": {
   "codemirror_mode": {
    "name": "ipython",
    "version": 3
   },
   "file_extension": ".py",
   "mimetype": "text/x-python",
   "name": "python",
   "nbconvert_exporter": "python",
   "pygments_lexer": "ipython3",
   "version": "3.8.8"
  }
 },
 "nbformat": 4,
 "nbformat_minor": 5
}
