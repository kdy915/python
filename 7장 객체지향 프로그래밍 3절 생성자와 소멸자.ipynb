{
 "cells": [
  {
   "cell_type": "markdown",
   "id": "88e9895b",
   "metadata": {},
   "source": [
    "### 생성자와 소멸자"
   ]
  },
  {
   "cell_type": "markdown",
   "id": "4f27fc67",
   "metadata": {},
   "source": [
    "생성자는 객체가 생성될 때 자동 실행\n",
    "__init__()으로 호출"
   ]
  },
  {
   "cell_type": "markdown",
   "id": "0d6c5d0d",
   "metadata": {},
   "source": [
    "객체가 소멸될 때 자동 실행 참조 수가 0일 때 소멸한다.\n",
    "__del__()으로 호출"
   ]
  },
  {
   "cell_type": "code",
   "execution_count": 4,
   "id": "466dffae",
   "metadata": {},
   "outputs": [],
   "source": [
    "class Person:\n",
    "    def __init__(self):\n",
    "        print(\"Person 객체({})를 생성합니다\".format(id(self)))\n",
    "        self.name=\"홍길동\"\n",
    "        self.gender=\"남자\"\n",
    "    def __del__(self):\n",
    "        print(\"Person 객체({})를 소멸합니다\".format(id(self)))\n",
    "    def print_info(self):\n",
    "        print(\"{}님은 {}입니다\".format(self.name, self.gender))"
   ]
  },
  {
   "cell_type": "code",
   "execution_count": 5,
   "id": "da8e99a3",
   "metadata": {},
   "outputs": [
    {
     "name": "stdout",
     "output_type": "stream",
     "text": [
      "Person 객체(1572803850880)를 생성합니다\n"
     ]
    }
   ],
   "source": [
    "p1=Person()"
   ]
  },
  {
   "cell_type": "code",
   "execution_count": 6,
   "id": "7ccb48bc",
   "metadata": {},
   "outputs": [
    {
     "name": "stdout",
     "output_type": "stream",
     "text": [
      "홍길동님은 남자입니다\n"
     ]
    }
   ],
   "source": [
    "p1.print_info()"
   ]
  },
  {
   "cell_type": "code",
   "execution_count": 7,
   "id": "40be6385",
   "metadata": {},
   "outputs": [
    {
     "name": "stdout",
     "output_type": "stream",
     "text": [
      "Person 객체(1572803850832)를 생성합니다\n",
      "Person 객체(1572803850880)를 소멸합니다\n"
     ]
    }
   ],
   "source": [
    "p1=Person() #기존 객체를 다른 객체로 가져오기 위해서 삭제하고 가져오게 되는데 이 과정에서 Person의 참조수가 0이 되서 소멸 메시지가 출력된다."
   ]
  },
  {
   "cell_type": "code",
   "execution_count": 8,
   "id": "2c7ea6f6",
   "metadata": {},
   "outputs": [
    {
     "name": "stdout",
     "output_type": "stream",
     "text": [
      "Person 객체(1572803853280)를 생성합니다\n"
     ]
    }
   ],
   "source": [
    "p2=Person()"
   ]
  },
  {
   "cell_type": "code",
   "execution_count": 9,
   "id": "09cd39ec",
   "metadata": {},
   "outputs": [
    {
     "name": "stdout",
     "output_type": "stream",
     "text": [
      "Person 객체(1572803853280)를 소멸합니다\n"
     ]
    }
   ],
   "source": [
    "p2=None"
   ]
  },
  {
   "cell_type": "code",
   "execution_count": 10,
   "id": "f08ab182",
   "metadata": {},
   "outputs": [
    {
     "name": "stdout",
     "output_type": "stream",
     "text": [
      "Person 객체(1572803853232)를 생성합니다\n"
     ]
    }
   ],
   "source": [
    "p3=Person()"
   ]
  },
  {
   "cell_type": "code",
   "execution_count": 11,
   "id": "9e6c077d",
   "metadata": {},
   "outputs": [
    {
     "name": "stdout",
     "output_type": "stream",
     "text": [
      "Person 객체(1572803853232)를 소멸합니다\n"
     ]
    }
   ],
   "source": [
    "del p3"
   ]
  },
  {
   "cell_type": "code",
   "execution_count": 18,
   "id": "55e8fa17",
   "metadata": {},
   "outputs": [],
   "source": [
    "class person:\n",
    "    def __init__(self,name,gender): #생성자는 두개이상 생성이 불가능 하며 마지막 생성자가 실행됩니다.\n",
    "        print(\"Person 객체 ({},{})를 생성합니다\".format(name,gender))\n",
    "        self.name=name\n",
    "        self.gender=gender\n",
    "    def __del__(self):\n",
    "        print(\"Perosn 객체({},{})를 소멸시킵니다.\".format(self.name,self.gender))\n",
    "    \n",
    "    def print_info(self):\n",
    "        print(\"{}님은 {}입니다.\".format(self.name,self.gender))"
   ]
  },
  {
   "cell_type": "code",
   "execution_count": 22,
   "id": "99ace4f6",
   "metadata": {},
   "outputs": [
    {
     "name": "stdout",
     "output_type": "stream",
     "text": [
      "Person 객체 (홍길동,여자)를 생성합니다\n",
      "Perosn 객체(홍길동,여자)를 소멸시킵니다.\n"
     ]
    }
   ],
   "source": [
    "p1=person(\"홍길동\",\"여자\")"
   ]
  },
  {
   "cell_type": "code",
   "execution_count": 21,
   "id": "8d1de2d8",
   "metadata": {},
   "outputs": [
    {
     "name": "stdout",
     "output_type": "stream",
     "text": [
      "홍길동님은 여자입니다.\n"
     ]
    }
   ],
   "source": [
    "p1.print_info()"
   ]
  }
 ],
 "metadata": {
  "kernelspec": {
   "display_name": "Python 3",
   "language": "python",
   "name": "python3"
  },
  "language_info": {
   "codemirror_mode": {
    "name": "ipython",
    "version": 3
   },
   "file_extension": ".py",
   "mimetype": "text/x-python",
   "name": "python",
   "nbconvert_exporter": "python",
   "pygments_lexer": "ipython3",
   "version": "3.8.8"
  },
  "toc": {
   "base_numbering": 1,
   "nav_menu": {},
   "number_sections": true,
   "sideBar": true,
   "skip_h1_title": false,
   "title_cell": "Table of Contents",
   "title_sidebar": "Contents",
   "toc_cell": false,
   "toc_position": {},
   "toc_section_display": true,
   "toc_window_display": false
  }
 },
 "nbformat": 4,
 "nbformat_minor": 5
}
