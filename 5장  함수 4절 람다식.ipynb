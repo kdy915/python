{
 "cells": [
  {
   "cell_type": "markdown",
   "id": "36e84ad9",
   "metadata": {},
   "source": [
    "### 람다식"
   ]
  },
  {
   "cell_type": "code",
   "execution_count": 1,
   "id": "aca7a766",
   "metadata": {},
   "outputs": [],
   "source": [
    "def add(a,b):\n",
    "    return a+b"
   ]
  },
  {
   "cell_type": "code",
   "execution_count": 2,
   "id": "f261f153",
   "metadata": {},
   "outputs": [
    {
     "data": {
      "text/plain": [
       "3"
      ]
     },
     "execution_count": 2,
     "metadata": {},
     "output_type": "execute_result"
    }
   ],
   "source": [
    "add(1,2)"
   ]
  },
  {
   "cell_type": "code",
   "execution_count": 3,
   "id": "6ae87637",
   "metadata": {},
   "outputs": [],
   "source": [
    "add2 = lambda a,b : a+b"
   ]
  },
  {
   "cell_type": "code",
   "execution_count": 4,
   "id": "1c5a994a",
   "metadata": {},
   "outputs": [
    {
     "data": {
      "text/plain": [
       "4"
      ]
     },
     "execution_count": 4,
     "metadata": {},
     "output_type": "execute_result"
    }
   ],
   "source": [
    "add2(1,3)"
   ]
  },
  {
   "cell_type": "code",
   "execution_count": 7,
   "id": "a0a821e5",
   "metadata": {},
   "outputs": [],
   "source": [
    "#함수 인수에 람다식 사용\n",
    "def map_template(func,L):\n",
    "    result = []\n",
    "    for item in L:\n",
    "        result.append(func(item))\n",
    "    return result"
   ]
  },
  {
   "cell_type": "code",
   "execution_count": 8,
   "id": "50b09318",
   "metadata": {},
   "outputs": [
    {
     "data": {
      "text/plain": [
       "[2, 4, 6, 8, 10]"
      ]
     },
     "execution_count": 8,
     "metadata": {},
     "output_type": "execute_result"
    }
   ],
   "source": [
    "list_data=[1,2,3,4,5]\n",
    "map_template(lambda x: 2*x,L=list_data)"
   ]
  },
  {
   "cell_type": "code",
   "execution_count": 9,
   "id": "93fd284a",
   "metadata": {},
   "outputs": [],
   "source": [
    "def filter_template(func,L):\n",
    "    result=[]\n",
    "    for item in L:\n",
    "        if func(item):\n",
    "            result.append(item)\n",
    "    return result"
   ]
  },
  {
   "cell_type": "code",
   "execution_count": 10,
   "id": "f2f8f800",
   "metadata": {},
   "outputs": [],
   "source": [
    "list_data=list(range(10))"
   ]
  },
  {
   "cell_type": "code",
   "execution_count": 11,
   "id": "c6d2f536",
   "metadata": {},
   "outputs": [
    {
     "data": {
      "text/plain": [
       "[0, 2, 4, 6, 8]"
      ]
     },
     "execution_count": 11,
     "metadata": {},
     "output_type": "execute_result"
    }
   ],
   "source": [
    "filter_template(lambda x:x%2==0, L=list_data)"
   ]
  },
  {
   "cell_type": "code",
   "execution_count": 17,
   "id": "5b66e9dd",
   "metadata": {},
   "outputs": [],
   "source": [
    "#리턴문에 함수 사용 리턴문에 반드시 지역변수나 값이 들어갈 필요는 없다\n",
    "def make_box(shape):\n",
    "    def box(init_value):\n",
    "        if len(shape)==1:\n",
    "            return [init_value]*shape[0]\n",
    "        if len(shape)==2:\n",
    "            return [[init_value]*shape[1]]*shape[0]\n",
    "    return box"
   ]
  },
  {
   "cell_type": "code",
   "execution_count": 18,
   "id": "45d9441c",
   "metadata": {},
   "outputs": [],
   "source": [
    "box1=make_box((5,))"
   ]
  },
  {
   "cell_type": "code",
   "execution_count": 19,
   "id": "64cdccd5",
   "metadata": {},
   "outputs": [
    {
     "data": {
      "text/plain": [
       "[10, 10, 10, 10, 10]"
      ]
     },
     "execution_count": 19,
     "metadata": {},
     "output_type": "execute_result"
    }
   ],
   "source": [
    "box1(10)"
   ]
  },
  {
   "cell_type": "code",
   "execution_count": 20,
   "id": "784900d9",
   "metadata": {},
   "outputs": [],
   "source": [
    "box2=make_box((3,2))"
   ]
  },
  {
   "cell_type": "code",
   "execution_count": 21,
   "id": "6f12e54c",
   "metadata": {},
   "outputs": [
    {
     "data": {
      "text/plain": [
       "[[3, 3], [3, 3], [3, 3]]"
      ]
     },
     "execution_count": 21,
     "metadata": {},
     "output_type": "execute_result"
    }
   ],
   "source": [
    "box2(3) "
   ]
  },
  {
   "cell_type": "code",
   "execution_count": 22,
   "id": "b85586ee",
   "metadata": {},
   "outputs": [
    {
     "data": {
      "text/plain": [
       "[[3, 3], [3, 3], [3, 3]]"
      ]
     },
     "execution_count": 22,
     "metadata": {},
     "output_type": "execute_result"
    }
   ],
   "source": [
    "make_box((3,2))(3)"
   ]
  },
  {
   "cell_type": "code",
   "execution_count": 24,
   "id": "97458c4b",
   "metadata": {},
   "outputs": [],
   "source": [
    "#리턴문에 람다식 사용\n",
    "def make_box2(shape):\n",
    "    if len(shape)==1:\n",
    "        return lambda x: [x]*shape[0]\n",
    "    if len(shape)==2:\n",
    "        return lambda x: [[x]*shape[1]]*shape[0]"
   ]
  },
  {
   "cell_type": "code",
   "execution_count": 25,
   "id": "d66fb29b",
   "metadata": {},
   "outputs": [
    {
     "data": {
      "text/plain": [
       "[2, 2, 2]"
      ]
     },
     "execution_count": 25,
     "metadata": {},
     "output_type": "execute_result"
    }
   ],
   "source": [
    "make_box2((3,))(2)"
   ]
  },
  {
   "cell_type": "code",
   "execution_count": 27,
   "id": "fbeaecc1",
   "metadata": {},
   "outputs": [
    {
     "data": {
      "text/plain": [
       "[[2, 2, 2, 2], [2, 2, 2, 2], [2, 2, 2, 2]]"
      ]
     },
     "execution_count": 27,
     "metadata": {},
     "output_type": "execute_result"
    }
   ],
   "source": [
    "make_box2((3,4))(2)"
   ]
  }
 ],
 "metadata": {
  "kernelspec": {
   "display_name": "Python 3",
   "language": "python",
   "name": "python3"
  },
  "language_info": {
   "codemirror_mode": {
    "name": "ipython",
    "version": 3
   },
   "file_extension": ".py",
   "mimetype": "text/x-python",
   "name": "python",
   "nbconvert_exporter": "python",
   "pygments_lexer": "ipython3",
   "version": "3.8.8"
  }
 },
 "nbformat": 4,
 "nbformat_minor": 5
}
