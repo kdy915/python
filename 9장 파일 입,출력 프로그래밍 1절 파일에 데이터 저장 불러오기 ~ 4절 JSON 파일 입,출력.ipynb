{
 "cells": [
  {
   "cell_type": "markdown",
   "id": "80598565",
   "metadata": {},
   "source": [
    "### 파일에 데이터 저장하고 불러오기"
   ]
  },
  {
   "cell_type": "code",
   "execution_count": 1,
   "id": "85bb26f9",
   "metadata": {},
   "outputs": [],
   "source": [
    "f=open(\"sample.txt\",'w')"
   ]
  },
  {
   "cell_type": "code",
   "execution_count": 2,
   "id": "0bbbcf80",
   "metadata": {},
   "outputs": [
    {
     "name": "stdout",
     "output_type": "stream",
     "text": [
      "True\n"
     ]
    }
   ],
   "source": [
    "print(f.writable())"
   ]
  },
  {
   "cell_type": "code",
   "execution_count": 3,
   "id": "0a3437e0",
   "metadata": {},
   "outputs": [
    {
     "data": {
      "text/plain": [
       "12"
      ]
     },
     "execution_count": 3,
     "metadata": {},
     "output_type": "execute_result"
    }
   ],
   "source": [
    "f.write(\"Hello\\nWorld\\n\")"
   ]
  },
  {
   "cell_type": "code",
   "execution_count": 4,
   "id": "7dbb15cc",
   "metadata": {},
   "outputs": [],
   "source": [
    "f.close() #close()를 해줘야 파일이 생성된다"
   ]
  },
  {
   "cell_type": "code",
   "execution_count": 5,
   "id": "2518908c",
   "metadata": {},
   "outputs": [
    {
     "name": "stdout",
     "output_type": "stream",
     "text": [
      "True\n"
     ]
    }
   ],
   "source": [
    "with open(\"sample.txt\",'w') as f:\n",
    "    print(f.writable()) #파일에 내용을 쓸 수 있는지\n",
    "    f.write(\"Hello\\nWorld\\n\")"
   ]
  },
  {
   "cell_type": "code",
   "execution_count": 6,
   "id": "1579969f",
   "metadata": {},
   "outputs": [],
   "source": [
    "with open(\"sample.txt\",'a') as f: #close를 사용하지 않아도 with을 사용하면 자동 닫기\n",
    "    print(\"프린트 함수로 쓸 수 있습니다.\",file=f)"
   ]
  },
  {
   "cell_type": "code",
   "execution_count": 9,
   "id": "f3373978",
   "metadata": {},
   "outputs": [
    {
     "name": "stdout",
     "output_type": "stream",
     "text": [
      "Hello\n",
      "World\n",
      "프린트 함수로 쓸 수 있습니다.\n"
     ]
    }
   ],
   "source": [
    "with open(\"sample.txt\",'r') as f:\n",
    "    lines = f.readlines()\n",
    "    for line in lines:\n",
    "        print(line.strip())"
   ]
  },
  {
   "cell_type": "markdown",
   "id": "ac54a158",
   "metadata": {},
   "source": [
    "### pickle을 이용한 데이터 읽고 쓰기"
   ]
  },
  {
   "cell_type": "code",
   "execution_count": 13,
   "id": "306d0c2b",
   "metadata": {},
   "outputs": [],
   "source": [
    "class Member:\n",
    "    def __init__(self,name,age,email,address):\n",
    "        self.name=name\n",
    "        self.age=age\n",
    "        self.email=email\n",
    "        self.address=address\n",
    "    \n",
    "    def __str__(self):\n",
    "        return \"Name:{}, Age:{}, Email:{}, Address:{}\"\\\n",
    "            .format(self.name,self.age,self.email,self.address)"
   ]
  },
  {
   "cell_type": "code",
   "execution_count": 14,
   "id": "71089d05",
   "metadata": {},
   "outputs": [],
   "source": [
    "user1=Member(\"홍길동\",20,\"kildong@hong.com\",\"서울시 강동구\")\n",
    "user2=Member(\"홍길서\",23,\"kilseo@hong.com\",\"서울시 강서구\")\n",
    "user_list=[user1,user2]"
   ]
  },
  {
   "cell_type": "code",
   "execution_count": 15,
   "id": "92c4e25d",
   "metadata": {},
   "outputs": [],
   "source": [
    "f=open(\"member.data\",\"wb\") # \"wb\"를 통해서 바이트 타입 쓰기\n",
    "import pickle\n",
    "pickle.dump(user_list,file=f) #list를 pickle을 통해 저장\n",
    "f.close()"
   ]
  },
  {
   "cell_type": "code",
   "execution_count": 16,
   "id": "1a013fc0",
   "metadata": {},
   "outputs": [
    {
     "data": {
      "text/plain": [
       "list"
      ]
     },
     "execution_count": 16,
     "metadata": {},
     "output_type": "execute_result"
    }
   ],
   "source": [
    "del user_list\n",
    "import pickle\n",
    "f=open(\"member.data\",\"rb\") #\"rb\"를 통해서 바이트 타입 읽기\n",
    "user_list=pickle.load(f)\n",
    "type(user_list)"
   ]
  },
  {
   "cell_type": "code",
   "execution_count": 17,
   "id": "5b354fc1",
   "metadata": {},
   "outputs": [
    {
     "name": "stdout",
     "output_type": "stream",
     "text": [
      "Name:홍길동, Age:20, Email:kildong@hong.com, Address:서울시 강동구\n",
      "Name:홍길서, Age:23, Email:kilseo@hong.com, Address:서울시 강서구\n"
     ]
    },
    {
     "data": {
      "text/plain": [
       "<function BufferedReader.close>"
      ]
     },
     "execution_count": 17,
     "metadata": {},
     "output_type": "execute_result"
    }
   ],
   "source": [
    "for user in user_list:\n",
    "    print(user)\n",
    "f.close"
   ]
  },
  {
   "cell_type": "markdown",
   "id": "f093954d",
   "metadata": {},
   "source": [
    "### CSV형식 파일 읽기/쓰기"
   ]
  },
  {
   "cell_type": "code",
   "execution_count": 20,
   "id": "31f139ee",
   "metadata": {},
   "outputs": [
    {
     "name": "stdout",
     "output_type": "stream",
     "text": [
      "['홍길동', '20', 'kildong@hong.com', '서울시 강동구']\n",
      "['홍길서', '23', 'kilseo@hong.com', '서울시 강서구']\n"
     ]
    }
   ],
   "source": [
    "#member1.csv에 사전에 만들어 두었다.\n",
    "import csv #결과가 모두 문자열로 반환되었다 \n",
    "with open('member1.csv','r',encoding='UTF-8-SIG') as f: \n",
    "    r=csv.reader(f)\n",
    "    for row in r:\n",
    "        print(row)"
   ]
  },
  {
   "cell_type": "code",
   "execution_count": 28,
   "id": "66e9178e",
   "metadata": {},
   "outputs": [
    {
     "name": "stdout",
     "output_type": "stream",
     "text": [
      "['홍길동', 20.0, 'kildong@hong.com', '서울시 강동구']\n",
      "['홍길서', 23.0, 'kilseo@hong.com', '서울시 강서구']\n"
     ]
    }
   ],
   "source": [
    "import csv\n",
    "with open('member1.csv','r', encoding='UTF-8-SIG') as f:\n",
    "    r=csv.reader(f, quoting=csv.QUOTE_NONNUMERIC)\n",
    "    for row in r:\n",
    "        print(row)"
   ]
  },
  {
   "cell_type": "code",
   "execution_count": 29,
   "id": "9c9af2b0",
   "metadata": {},
   "outputs": [],
   "source": [
    "user_list=[[\"홍길동\",20,\"kildong@hong.com\",\"서울시 강동구\"],\n",
    "           [\"홍길서\",23,\"kilseo@hong.com\",\"서울시 강서구\"]]"
   ]
  },
  {
   "cell_type": "code",
   "execution_count": 30,
   "id": "85bdd345",
   "metadata": {},
   "outputs": [],
   "source": [
    "import csv\n",
    "with open(\"member2.csv\",'w',newline='',encoding='UTF-8-SIG') as f:\n",
    "    w=csv.writer(f,quoting=csv.QUOTE_NONNUMERIC)\n",
    "    w.writerows(user_list)"
   ]
  },
  {
   "cell_type": "markdown",
   "id": "082fe157",
   "metadata": {},
   "source": [
    "csv 파일을 읽어 딕셔너리 형태로 불러오기"
   ]
  },
  {
   "cell_type": "code",
   "execution_count": 31,
   "id": "5b4baa8d",
   "metadata": {},
   "outputs": [
    {
     "name": "stdout",
     "output_type": "stream",
     "text": [
      "홍길동 20 kildong@hong.com 서울시 강동구\n",
      "홍길서 23 kilseo@hong.com 서울시 강서구\n"
     ]
    }
   ],
   "source": [
    "import csv\n",
    "with open('member3.csv', encoding='UTF-8-SIG') as f:\n",
    "    dict_reader = csv.DictReader(f)\n",
    "    for row in dict_reader:\n",
    "        print(row[\"Name\"],row[\"Age\"],row[\"Email\"],row[\"Address\"])"
   ]
  },
  {
   "cell_type": "code",
   "execution_count": 34,
   "id": "88f65a1b",
   "metadata": {},
   "outputs": [
    {
     "name": "stdout",
     "output_type": "stream",
     "text": [
      "홍길동 20 kildong@hong.com 서울시 강동구\n",
      "홍길서 23 kilseo@hong.com 서울시 강서구\n"
     ]
    }
   ],
   "source": [
    "import csv\n",
    "with open('member1.csv',encoding='UTF-8-SIG') as f:\n",
    "    dict_reader=csv.DictReader(f,\n",
    "                              fieldnames=[\"Name\",\"Age\",\"Email\",\"Address\"])\n",
    "    for row in dict_reader:\n",
    "        print(row[\"Name\"],row[\"Age\"],row[\"Email\"],row[\"Address\"])"
   ]
  },
  {
   "cell_type": "markdown",
   "id": "13814a0b",
   "metadata": {},
   "source": [
    "csv 파일을 읽어 딕셔너리 형태로 저장하기"
   ]
  },
  {
   "cell_type": "code",
   "execution_count": 35,
   "id": "f1f7fb28",
   "metadata": {},
   "outputs": [],
   "source": [
    "user1={\"Name\":\"홍길동\",\"Age\":20,\"Email\":\"kildong@hong.com\",\"Address\":\"서울시 강동구\"}\n",
    "user2={\"Name\":\"홍길서\",\"Age\":23,\"Email\":\"kilseo@hong.com\",\"Address\":\"서울시 강서구\"}"
   ]
  },
  {
   "cell_type": "code",
   "execution_count": 36,
   "id": "b8e23de1",
   "metadata": {},
   "outputs": [],
   "source": [
    "import csv\n",
    "with open('member4.csv','w',newline='',encoding='UTF-8-SIG') as f:\n",
    "    fieldnames=['Name','Age','Email','Address']\n",
    "    dict_writer=csv.DictWriter(f, fieldnames=fieldnames)\n",
    "    dict_writer.writeheader()\n",
    "    dict_writer.writerow(user1)\n",
    "    dict_writer.writerow(user2)"
   ]
  },
  {
   "cell_type": "code",
   "execution_count": 37,
   "id": "e2b14baa",
   "metadata": {},
   "outputs": [],
   "source": [
    "user_list=[user1,user2]"
   ]
  },
  {
   "cell_type": "code",
   "execution_count": 39,
   "id": "2da78a3e",
   "metadata": {},
   "outputs": [],
   "source": [
    "import csv\n",
    "with open('member5.csv','w',newline='',encoding='UTF-8-SIG') as f:\n",
    "    fieldnames=['Name','Age','Email','Address']\n",
    "    dict_writer=csv.DictWriter(f, fieldnames=fieldnames)\n",
    "    dict_writer.writeheader()\n",
    "    dict_writer.writerows(user_list) #리스트에 저장하면 한번에 값을 넣을 수 있다"
   ]
  },
  {
   "cell_type": "code",
   "execution_count": 40,
   "id": "b70b1d37",
   "metadata": {},
   "outputs": [],
   "source": [
    "import csv\n",
    "with open('member5.csv','w',newline='',encoding='UTF-8-SIG') as f:\n",
    "    fieldnames=['Name','Age','Email']\n",
    "    dict_writer=csv.DictWriter(f, fieldnames=fieldnames,\n",
    "                              extrasaction='ignore')\n",
    "    #fieldname이 부족하면 에러가 발생하는데 extrasaction을 ignore로 설정해서 무시한다.\n",
    "    dict_writer.writeheader()\n",
    "    dict_writer.writerows(user_list)\n"
   ]
  },
  {
   "cell_type": "markdown",
   "id": "2ef1c1d0",
   "metadata": {},
   "source": [
    "### JSON 데이터 저장하고 불러오기"
   ]
  },
  {
   "cell_type": "code",
   "execution_count": 41,
   "id": "723b05bf",
   "metadata": {},
   "outputs": [],
   "source": [
    "# JSON 데이터로 쓰기\n",
    "data=['foo',{'bar':('baz',None,1.0,2)}]"
   ]
  },
  {
   "cell_type": "code",
   "execution_count": 42,
   "id": "9e5f3afa",
   "metadata": {},
   "outputs": [],
   "source": [
    "import json\n",
    "with open('sample.json','w') as jsonfile:\n",
    "    json.dump(data,jsonfile)"
   ]
  },
  {
   "cell_type": "code",
   "execution_count": 45,
   "id": "4db20b3c",
   "metadata": {},
   "outputs": [],
   "source": [
    "class Member:\n",
    "    def __init__(self,name,age,email,address):\n",
    "        self.name=name\n",
    "        self.age=age\n",
    "        self.email=email\n",
    "        self.address=address\n",
    "    \n",
    "    def as_dict(self):\n",
    "        return {\"name\":self.name, \"age\":self.age,\"email\":self.email,\n",
    "                \"address\":self.address}"
   ]
  },
  {
   "cell_type": "code",
   "execution_count": 46,
   "id": "1e00dc28",
   "metadata": {},
   "outputs": [],
   "source": [
    "user1=Member(\"홍길동\",20,\"kildong@hong.com\",\"서울시 강동구\")\n",
    "user2=Member(\"홍길서\",23,\"kilseo@hong.com\",\"서울시 강서구\")\n",
    "user_list=[user1,user2]"
   ]
  },
  {
   "cell_type": "code",
   "execution_count": 47,
   "id": "5a1e1a8e",
   "metadata": {},
   "outputs": [],
   "source": [
    "import json\n",
    "with open('member.json','w',encoding=\"UTF-8-SIG\") as jsonfile:\n",
    "    json.dump(user_list, jsonfile, ensure_ascii=False,\n",
    "             indent=\"\\t\", default=Member.as_dict)"
   ]
  },
  {
   "cell_type": "code",
   "execution_count": 48,
   "id": "3d9561fb",
   "metadata": {},
   "outputs": [
    {
     "name": "stdout",
     "output_type": "stream",
     "text": [
      "[{'name': '홍길동', 'age': 20, 'email': 'kildong@hong.com', 'address': '서울시 강동구'}, {'name': '홍길서', 'age': 23, 'email': 'kilseo@hong.com', 'address': '서울시 강서구'}]\n"
     ]
    }
   ],
   "source": [
    "#JSON 데이터를 읽기\n",
    "import json\n",
    "with open('member.json', encoding=\"UTF-8-SIG\") as jsonfile:\n",
    "    user_list=json.load(jsonfile)\n",
    "    print(user_list)"
   ]
  },
  {
   "cell_type": "code",
   "execution_count": 49,
   "id": "9a3b7f45",
   "metadata": {},
   "outputs": [],
   "source": [
    "class Member:\n",
    "    def __init__(self,name,age,email,address):\n",
    "        self.name=name\n",
    "        self.age=age\n",
    "        self.email=email\n",
    "        self.address=address\n",
    "        \n",
    "    def __str__(self):\n",
    "        return \"Name:{}, Age:{}, Email:{}, Address:{}\"\\\n",
    "            .format(self.name,self.age,self.email,self.address)\n",
    "    \n",
    "    def as_dict(self):\n",
    "        return {\"name\":self.name, \"age\":self.age,\"email\":self.email,\n",
    "                \"address\":self.address}"
   ]
  },
  {
   "cell_type": "code",
   "execution_count": 50,
   "id": "ab9bc87d",
   "metadata": {},
   "outputs": [],
   "source": [
    "def as_member(dct):\n",
    "        return Member(dct['name'],dct['age'],dct['email'],dct['address'])"
   ]
  },
  {
   "cell_type": "code",
   "execution_count": 52,
   "id": "e6e76daa",
   "metadata": {},
   "outputs": [
    {
     "name": "stdout",
     "output_type": "stream",
     "text": [
      "Name:홍길동, Age:20, Email:kildong@hong.com, Address:서울시 강동구\n",
      "Name:홍길서, Age:23, Email:kilseo@hong.com, Address:서울시 강서구\n"
     ]
    }
   ],
   "source": [
    "import json\n",
    "with open('member.json',encoding='UTF-8-SIG') as jsonfile:\n",
    "    # object_hook은 한 라인씩 호출 하고 객체 유형으로 변환한다\n",
    "    user_list=json.load(jsonfile, object_hook=as_member)\n",
    "    for user in user_list:\n",
    "        print(user)"
   ]
  },
  {
   "cell_type": "code",
   "execution_count": 53,
   "id": "84e4c59c",
   "metadata": {},
   "outputs": [],
   "source": [
    "#인코더\n",
    "import json\n",
    "class MemberEncoder(json.JSONEncoder):\n",
    "    def default(self,obj):\n",
    "        if isinstance(obj,Member):\n",
    "            return[obj.name,obj.age,obj.email,obj.address]\n",
    "        return json.JSONEncoder.default(self,obj)"
   ]
  },
  {
   "cell_type": "code",
   "execution_count": 54,
   "id": "8309d7e3",
   "metadata": {},
   "outputs": [],
   "source": [
    "with open('member2.json','w',encoding='UTF-8-SIG') as jsonfile:\n",
    "    json.dump(user_list,jsonfile,indent='\\t', ensure_ascii=False, cls=MemberEncoder)"
   ]
  },
  {
   "cell_type": "code",
   "execution_count": 55,
   "id": "659271fa",
   "metadata": {},
   "outputs": [],
   "source": [
    "#디코더\n",
    "import json\n",
    "class MemberDecoder(json.JSONDecoder):\n",
    "    def __init__(self,*args,**kwargs):\n",
    "        json.JSONDecoder.__init__(self,object_hook=self.object_hook,\n",
    "                                 *args,**kwargs)\n",
    "    def object_hook(self,obj):\n",
    "        if('name' in obj):\n",
    "            return Member(obj['name'],obj['age'],obj['email'],obj['address'])\n",
    "        return json.JSONDecoder.object_hook(self,obj)"
   ]
  },
  {
   "cell_type": "code",
   "execution_count": 56,
   "id": "25223351",
   "metadata": {},
   "outputs": [
    {
     "name": "stdout",
     "output_type": "stream",
     "text": [
      "Name:홍길동, Age:20, Email:kildong@hong.com, Address:서울시 강동구\n",
      "Name:홍길서, Age:23, Email:kilseo@hong.com, Address:서울시 강서구\n"
     ]
    }
   ],
   "source": [
    "with open('member.json',encoding=\"UTF-8-SIG\") as jsonfile:\n",
    "    user_list = json.load(jsonfile, cls=MemberDecoder)\n",
    "    for user in user_list:\n",
    "        print(user)"
   ]
  }
 ],
 "metadata": {
  "kernelspec": {
   "display_name": "Python 3",
   "language": "python",
   "name": "python3"
  },
  "language_info": {
   "codemirror_mode": {
    "name": "ipython",
    "version": 3
   },
   "file_extension": ".py",
   "mimetype": "text/x-python",
   "name": "python",
   "nbconvert_exporter": "python",
   "pygments_lexer": "ipython3",
   "version": "3.8.8"
  },
  "toc": {
   "base_numbering": 1,
   "nav_menu": {},
   "number_sections": true,
   "sideBar": true,
   "skip_h1_title": false,
   "title_cell": "Table of Contents",
   "title_sidebar": "Contents",
   "toc_cell": false,
   "toc_position": {},
   "toc_section_display": true,
   "toc_window_display": false
  }
 },
 "nbformat": 4,
 "nbformat_minor": 5
}
