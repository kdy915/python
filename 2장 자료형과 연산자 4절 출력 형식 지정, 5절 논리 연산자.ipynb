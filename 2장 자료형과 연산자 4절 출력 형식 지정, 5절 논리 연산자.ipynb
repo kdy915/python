{
 "cells": [
  {
   "cell_type": "markdown",
   "id": "b67d1d21",
   "metadata": {},
   "source": [
    "### 문자열에 형식지정"
   ]
  },
  {
   "cell_type": "code",
   "execution_count": 4,
   "id": "d325c7d9",
   "metadata": {},
   "outputs": [
    {
     "name": "stdout",
     "output_type": "stream",
     "text": [
      "홍길동 님의 나이는 20 입니다\n"
     ]
    }
   ],
   "source": [
    "name, age = \"홍길동\", 20\n",
    "print(name,'님의 나이는',age,'입니다', sep=\" \")"
   ]
  },
  {
   "cell_type": "code",
   "execution_count": 5,
   "id": "214dd43f",
   "metadata": {},
   "outputs": [
    {
     "name": "stdout",
     "output_type": "stream",
     "text": [
      "홍길동 님의 나이는 20 입니다\n"
     ]
    }
   ],
   "source": [
    "print(\"%s 님의 나이는 %d 입니다\"%(name, age))"
   ]
  },
  {
   "cell_type": "code",
   "execution_count": 6,
   "id": "cc26f518",
   "metadata": {},
   "outputs": [
    {
     "name": "stdout",
     "output_type": "stream",
     "text": [
      "홍길동 님의 나이는 20입니다.\n"
     ]
    }
   ],
   "source": [
    "print(\"{} 님의 나이는 {}입니다.\".format(name, age))"
   ]
  },
  {
   "cell_type": "code",
   "execution_count": 8,
   "id": "90358334",
   "metadata": {},
   "outputs": [
    {
     "name": "stdout",
     "output_type": "stream",
     "text": [
      "홍길동님의 나이는 20입니다\n"
     ]
    }
   ],
   "source": [
    "print(f\"{name}님의 나이는 {age}입니다\")"
   ]
  },
  {
   "cell_type": "code",
   "execution_count": 9,
   "id": "44eec811",
   "metadata": {},
   "outputs": [
    {
     "name": "stdout",
     "output_type": "stream",
     "text": [
      "홍길동 님의 나이는 20.0입니다.\n"
     ]
    }
   ],
   "source": [
    "print(\"{} 님의 나이는 {}입니다.\".format(name, float(age)))"
   ]
  },
  {
   "cell_type": "code",
   "execution_count": 10,
   "id": "caaae82a",
   "metadata": {},
   "outputs": [
    {
     "data": {
      "text/plain": [
       "'홍길동 님의 나이는 20.0입니다.'"
      ]
     },
     "execution_count": 10,
     "metadata": {},
     "output_type": "execute_result"
    }
   ],
   "source": [
    "\"{} 님의 나이는 {}입니다.\".format(name, float(age))"
   ]
  },
  {
   "cell_type": "code",
   "execution_count": 11,
   "id": "1dc6a481",
   "metadata": {},
   "outputs": [],
   "source": [
    "a,b,c=10,20,30"
   ]
  },
  {
   "cell_type": "code",
   "execution_count": 12,
   "id": "3a4cb27f",
   "metadata": {},
   "outputs": [
    {
     "name": "stdout",
     "output_type": "stream",
     "text": [
      "10 20 30\n"
     ]
    }
   ],
   "source": [
    "print(a,b,c)"
   ]
  },
  {
   "cell_type": "code",
   "execution_count": 13,
   "id": "2e278c2f",
   "metadata": {},
   "outputs": [
    {
     "name": "stdout",
     "output_type": "stream",
     "text": [
      "출력: 10, 20, 30\n"
     ]
    }
   ],
   "source": [
    "print('출력: {}, {}, {}'.format(a,b,c))"
   ]
  },
  {
   "cell_type": "code",
   "execution_count": 15,
   "id": "4d76fb6d",
   "metadata": {},
   "outputs": [
    {
     "name": "stdout",
     "output_type": "stream",
     "text": [
      "출력: 30, 20, 10\n"
     ]
    }
   ],
   "source": [
    "print('출력: {2}, {1}, {0}'.format(a,b,c))"
   ]
  },
  {
   "cell_type": "code",
   "execution_count": 16,
   "id": "63716128",
   "metadata": {},
   "outputs": [
    {
     "ename": "IndexError",
     "evalue": "Replacement index 2 out of range for positional args tuple",
     "output_type": "error",
     "traceback": [
      "\u001b[1;31m---------------------------------------------------------------------------\u001b[0m",
      "\u001b[1;31mIndexError\u001b[0m                                Traceback (most recent call last)",
      "\u001b[1;32m<ipython-input-16-2afece62893c>\u001b[0m in \u001b[0;36m<module>\u001b[1;34m\u001b[0m\n\u001b[1;32m----> 1\u001b[1;33m \u001b[0mprint\u001b[0m\u001b[1;33m(\u001b[0m\u001b[1;34m'출력: {2}, {1}, {0}'\u001b[0m\u001b[1;33m.\u001b[0m\u001b[0mformat\u001b[0m\u001b[1;33m(\u001b[0m\u001b[0ma\u001b[0m\u001b[1;33m,\u001b[0m\u001b[0mb\u001b[0m\u001b[1;33m)\u001b[0m\u001b[1;33m)\u001b[0m\u001b[1;33m\u001b[0m\u001b[1;33m\u001b[0m\u001b[0m\n\u001b[0m",
      "\u001b[1;31mIndexError\u001b[0m: Replacement index 2 out of range for positional args tuple"
     ]
    }
   ],
   "source": [
    "print('출력: {2}, {1}, {0}'.format(a,b))"
   ]
  },
  {
   "cell_type": "code",
   "execution_count": 17,
   "id": "608b6594",
   "metadata": {},
   "outputs": [
    {
     "name": "stdout",
     "output_type": "stream",
     "text": [
      "출력: 30, 20\n"
     ]
    }
   ],
   "source": [
    "print('출력: {2}, {1}'.format(a,b,c))"
   ]
  },
  {
   "cell_type": "markdown",
   "id": "f0ed8538",
   "metadata": {},
   "source": [
    "### 숫자 출력"
   ]
  },
  {
   "cell_type": "code",
   "execution_count": 18,
   "id": "724f0830",
   "metadata": {},
   "outputs": [],
   "source": [
    "a=12345"
   ]
  },
  {
   "cell_type": "code",
   "execution_count": 19,
   "id": "f3df6cca",
   "metadata": {},
   "outputs": [
    {
     "name": "stdout",
     "output_type": "stream",
     "text": [
      "출력:[12345], [     12345], [12345]\n"
     ]
    }
   ],
   "source": [
    "print('출력:[{}], [{:10}], [{:3}]'.format(a,a,a))"
   ]
  },
  {
   "cell_type": "code",
   "execution_count": 21,
   "id": "0c3974cb",
   "metadata": {},
   "outputs": [
    {
     "name": "stdout",
     "output_type": "stream",
     "text": [
      "출력:[12345], [12345.000000], [   12345.000000], [30071], [3039]\n"
     ]
    }
   ],
   "source": [
    "print('출력:[{:d}], [{:f}], [{:15f}], [{:o}], [{:x}]'.format(a,a,a,a,a))"
   ]
  },
  {
   "cell_type": "code",
   "execution_count": 22,
   "id": "2d422360",
   "metadata": {},
   "outputs": [],
   "source": [
    "a=12345.123456789"
   ]
  },
  {
   "cell_type": "code",
   "execution_count": 25,
   "id": "bc3d9727",
   "metadata": {},
   "outputs": [
    {
     "name": "stdout",
     "output_type": "stream",
     "text": [
      "출력: [12345.123456789], [12345.123457], [   12345.123457], [  12345.12], [    12345.1234567890]\n"
     ]
    }
   ],
   "source": [
    "print('출력: [{}], [{:f}], [{:15f}], [{:10.2f}], [{:20.10f}]'.format(a,a,a,a,a))"
   ]
  },
  {
   "cell_type": "markdown",
   "id": "b1585bf4",
   "metadata": {},
   "source": [
    "### 문자열 출력"
   ]
  },
  {
   "cell_type": "code",
   "execution_count": 28,
   "id": "a775bc9b",
   "metadata": {},
   "outputs": [],
   "source": [
    "str_='Hello World'"
   ]
  },
  {
   "cell_type": "code",
   "execution_count": 29,
   "id": "e8f3613d",
   "metadata": {},
   "outputs": [
    {
     "name": "stdout",
     "output_type": "stream",
     "text": [
      "출력: [Hello World], [Hello World], [Hello World         ], [Hello World]\n"
     ]
    }
   ],
   "source": [
    "print('출력: [{}], [{:s}], [{:20}], [{:5}]'.format(str_,str_,str_,str_, str_))"
   ]
  },
  {
   "cell_type": "code",
   "execution_count": 30,
   "id": "551a4960",
   "metadata": {},
   "outputs": [],
   "source": [
    "a,b,c =10,20,30"
   ]
  },
  {
   "cell_type": "code",
   "execution_count": 31,
   "id": "13bee9b0",
   "metadata": {},
   "outputs": [
    {
     "name": "stdout",
     "output_type": "stream",
     "text": [
      "출력:[   10], [20   ], [ 30  ]\n"
     ]
    }
   ],
   "source": [
    "print('출력:[{:>5d}], [{:<5d}], [{:^5d}]'.format(a,b,c))"
   ]
  },
  {
   "cell_type": "code",
   "execution_count": 33,
   "id": "5f5dd32b",
   "metadata": {},
   "outputs": [
    {
     "name": "stdout",
     "output_type": "stream",
     "text": [
      "출력:[        10], [20        ], [    30    ]\n"
     ]
    }
   ],
   "source": [
    "print('출력:[{:>10d}], [{:<10d}], [{:^10d}]'.format(a,b,c))"
   ]
  },
  {
   "cell_type": "code",
   "execution_count": 34,
   "id": "489beeaa",
   "metadata": {},
   "outputs": [],
   "source": [
    "a=10\n",
    "b='Hello'"
   ]
  },
  {
   "cell_type": "code",
   "execution_count": 35,
   "id": "dcb86289",
   "metadata": {},
   "outputs": [
    {
     "name": "stdout",
     "output_type": "stream",
     "text": [
      "출력: $$$$$$$$10, *****Hello, Hello_____\n"
     ]
    }
   ],
   "source": [
    "print(\"출력: {:$>10}, {:*>10}, {:_<10.5s}\".format(a,b,b))"
   ]
  },
  {
   "cell_type": "code",
   "execution_count": 36,
   "id": "1d7ba1fc",
   "metadata": {},
   "outputs": [],
   "source": [
    "a=123\n",
    "b=-123"
   ]
  },
  {
   "cell_type": "code",
   "execution_count": 38,
   "id": "f1a46b07",
   "metadata": {},
   "outputs": [
    {
     "name": "stdout",
     "output_type": "stream",
     "text": [
      "출력: [  123], [ +123], [-0123]\n"
     ]
    }
   ],
   "source": [
    "print(\"출력: [{:5}], [{:+5}], [{:+05}]\".format(a,a,b))"
   ]
  },
  {
   "cell_type": "markdown",
   "id": "802905aa",
   "metadata": {},
   "source": [
    "### 매개변수를 갖는 format"
   ]
  },
  {
   "cell_type": "code",
   "execution_count": 39,
   "id": "04c4f928",
   "metadata": {},
   "outputs": [],
   "source": [
    "a=2.7182818284"
   ]
  },
  {
   "cell_type": "code",
   "execution_count": 41,
   "id": "aa15d7f9",
   "metadata": {},
   "outputs": [
    {
     "name": "stdout",
     "output_type": "stream",
     "text": [
      "출력: [      2.72]\n"
     ]
    }
   ],
   "source": [
    "print(\"출력: [{:{}{}.{}{}}]\".format(a,'>',10,2,'f'))"
   ]
  },
  {
   "cell_type": "code",
   "execution_count": 42,
   "id": "63817e65",
   "metadata": {},
   "outputs": [
    {
     "name": "stdout",
     "output_type": "stream",
     "text": [
      "출력: [     +2.72]\n"
     ]
    }
   ],
   "source": [
    "print(\"출력: [{:{dir}{sign}{width}.{precision}{fmt}}]\".format(a,dir='>', sign='+', width=10, precision=2, fmt='f'))"
   ]
  },
  {
   "cell_type": "markdown",
   "id": "a8fd3df4",
   "metadata": {},
   "source": [
    "### 날짜 출력"
   ]
  },
  {
   "cell_type": "code",
   "execution_count": 46,
   "id": "7370161f",
   "metadata": {},
   "outputs": [
    {
     "name": "stdout",
     "output_type": "stream",
     "text": [
      "2001-02-03 04:02\n"
     ]
    }
   ],
   "source": [
    "from datetime import datetime\n",
    "print('{:%Y-%m-%d %H:%m}'.format(datetime(2001,2,3,4,5)))"
   ]
  },
  {
   "cell_type": "code",
   "execution_count": 47,
   "id": "f697468e",
   "metadata": {},
   "outputs": [],
   "source": [
    "from time import localtime"
   ]
  },
  {
   "cell_type": "code",
   "execution_count": 48,
   "id": "4dc2b752",
   "metadata": {},
   "outputs": [],
   "source": [
    "now=localtime()"
   ]
  },
  {
   "cell_type": "code",
   "execution_count": 49,
   "id": "3454cafe",
   "metadata": {},
   "outputs": [
    {
     "data": {
      "text/plain": [
       "time.struct_time(tm_year=2021, tm_mon=11, tm_mday=10, tm_hour=12, tm_min=15, tm_sec=17, tm_wday=2, tm_yday=314, tm_isdst=0)"
      ]
     },
     "execution_count": 49,
     "metadata": {},
     "output_type": "execute_result"
    }
   ],
   "source": [
    "now"
   ]
  },
  {
   "cell_type": "code",
   "execution_count": 50,
   "id": "f902d194",
   "metadata": {},
   "outputs": [],
   "source": [
    "from time import strftime"
   ]
  },
  {
   "cell_type": "code",
   "execution_count": 52,
   "id": "5b9955ad",
   "metadata": {},
   "outputs": [
    {
     "data": {
      "text/plain": [
       "'2021-11-10 12:15'"
      ]
     },
     "execution_count": 52,
     "metadata": {},
     "output_type": "execute_result"
    }
   ],
   "source": [
    "strftime('%Y-%m-%d %H:%M',now)"
   ]
  },
  {
   "cell_type": "code",
   "execution_count": 54,
   "id": "50ca6fc1",
   "metadata": {},
   "outputs": [
    {
     "data": {
      "text/plain": [
       "datetime.datetime(2019, 3, 24, 0, 0)"
      ]
     },
     "execution_count": 54,
     "metadata": {},
     "output_type": "execute_result"
    }
   ],
   "source": [
    "date_object = datetime.strptime('24 March, 2019', '%d %B, %Y')\n",
    "date_object"
   ]
  },
  {
   "cell_type": "markdown",
   "id": "73a5180e",
   "metadata": {},
   "source": [
    "f-strings"
   ]
  },
  {
   "cell_type": "code",
   "execution_count": 66,
   "id": "f33d5c2d",
   "metadata": {},
   "outputs": [
    {
     "data": {
      "text/plain": [
       "'Hello,Eric. you are 23.'"
      ]
     },
     "execution_count": 66,
     "metadata": {},
     "output_type": "execute_result"
    }
   ],
   "source": [
    "name=\"Eric\"\n",
    "age= 23\n",
    "f\"Hello,{name}. you are {age}.\""
   ]
  },
  {
   "cell_type": "code",
   "execution_count": 67,
   "id": "24a7c742",
   "metadata": {},
   "outputs": [
    {
     "data": {
      "text/plain": [
       "'46'"
      ]
     },
     "execution_count": 67,
     "metadata": {},
     "output_type": "execute_result"
    }
   ],
   "source": [
    "f\"{2*23}\""
   ]
  },
  {
   "cell_type": "markdown",
   "id": "9cd91319",
   "metadata": {},
   "source": [
    "### formating 시간비교"
   ]
  },
  {
   "cell_type": "code",
   "execution_count": 72,
   "id": "cd00d205",
   "metadata": {},
   "outputs": [
    {
     "name": "stdout",
     "output_type": "stream",
     "text": [
      "386 ns ± 5.5 ns per loop (mean ± std. dev. of 2 runs, 10000 loops each)\n"
     ]
    }
   ],
   "source": [
    "%%timeit -n 10000 -r 2\n",
    "\"%s의 나이는 %d입니다.\" %(name,age)"
   ]
  },
  {
   "cell_type": "code",
   "execution_count": 69,
   "id": "10d727a2",
   "metadata": {},
   "outputs": [
    {
     "name": "stdout",
     "output_type": "stream",
     "text": [
      "489 ns ± 0.9 ns per loop (mean ± std. dev. of 2 runs, 1000 loops each)\n"
     ]
    }
   ],
   "source": [
    "%%timeit -n 1000 -r 2\n",
    "\"{}의 나이는 {}입니다.\".format(name, age)"
   ]
  },
  {
   "cell_type": "code",
   "execution_count": 71,
   "id": "f0bb8db8",
   "metadata": {},
   "outputs": [
    {
     "name": "stdout",
     "output_type": "stream",
     "text": [
      "231 ns ± 0.95 ns per loop (mean ± std. dev. of 2 runs, 1000 loops each)\n"
     ]
    }
   ],
   "source": [
    "%%timeit -n 1000 -r 2\n",
    "f\"{name}의 나이는 {age}입니다\""
   ]
  },
  {
   "cell_type": "markdown",
   "id": "7e0549a7",
   "metadata": {},
   "source": [
    "### 연산자"
   ]
  },
  {
   "cell_type": "code",
   "execution_count": 74,
   "id": "b0097322",
   "metadata": {},
   "outputs": [
    {
     "data": {
      "text/plain": [
       "True"
      ]
     },
     "execution_count": 74,
     "metadata": {},
     "output_type": "execute_result"
    }
   ],
   "source": [
    "(10>3) & (10>5)"
   ]
  },
  {
   "cell_type": "code",
   "execution_count": 75,
   "id": "e49df7ee",
   "metadata": {},
   "outputs": [
    {
     "data": {
      "text/plain": [
       "False"
      ]
     },
     "execution_count": 75,
     "metadata": {},
     "output_type": "execute_result"
    }
   ],
   "source": [
    "(10<3) & (10>5)"
   ]
  },
  {
   "cell_type": "code",
   "execution_count": 77,
   "id": "a8debb2e",
   "metadata": {},
   "outputs": [
    {
     "data": {
      "text/plain": [
       "True"
      ]
     },
     "execution_count": 77,
     "metadata": {},
     "output_type": "execute_result"
    }
   ],
   "source": [
    "(10<3) | (10>5)"
   ]
  },
  {
   "cell_type": "code",
   "execution_count": 78,
   "id": "6c78b542",
   "metadata": {},
   "outputs": [
    {
     "data": {
      "text/plain": [
       "False"
      ]
     },
     "execution_count": 78,
     "metadata": {},
     "output_type": "execute_result"
    }
   ],
   "source": [
    "10>3 & 10>5 #10>2>5 비트 연산자로 &먼저 실행된다 "
   ]
  },
  {
   "cell_type": "markdown",
   "id": "eee9dc17",
   "metadata": {},
   "source": [
    "### 5절 논리 연산자"
   ]
  },
  {
   "cell_type": "code",
   "execution_count": 79,
   "id": "6f54181e",
   "metadata": {},
   "outputs": [
    {
     "data": {
      "text/plain": [
       "0"
      ]
     },
     "execution_count": 79,
     "metadata": {},
     "output_type": "execute_result"
    }
   ],
   "source": [
    "3 and 0 #and는 첫번째 거짓항을 출력한다 모두 참일 경우 마지막 값 출력"
   ]
  },
  {
   "cell_type": "code",
   "execution_count": 80,
   "id": "27d48a76",
   "metadata": {},
   "outputs": [
    {
     "data": {
      "text/plain": [
       "0"
      ]
     },
     "execution_count": 80,
     "metadata": {},
     "output_type": "execute_result"
    }
   ],
   "source": [
    "3 and 5.4 and 0 and 'hello'"
   ]
  },
  {
   "cell_type": "code",
   "execution_count": 81,
   "id": "bd486336",
   "metadata": {},
   "outputs": [
    {
     "data": {
      "text/plain": [
       "'hello'"
      ]
     },
     "execution_count": 81,
     "metadata": {},
     "output_type": "execute_result"
    }
   ],
   "source": [
    "3 and 5.4 and True and 'hello'"
   ]
  },
  {
   "cell_type": "code",
   "execution_count": 82,
   "id": "502be7de",
   "metadata": {},
   "outputs": [
    {
     "data": {
      "text/plain": [
       "'hello'"
      ]
     },
     "execution_count": 82,
     "metadata": {},
     "output_type": "execute_result"
    }
   ],
   "source": [
    "'hello' or 100 or False # or연산자는 첫번째 참인 항을 출력하고 모두 거짓일 경우 마지막 값을 출력"
   ]
  },
  {
   "cell_type": "code",
   "execution_count": 83,
   "id": "87993a25",
   "metadata": {},
   "outputs": [
    {
     "name": "stdout",
     "output_type": "stream",
     "text": [
      "None\n"
     ]
    }
   ],
   "source": [
    "print('' or False or 0 or None)"
   ]
  },
  {
   "cell_type": "code",
   "execution_count": 84,
   "id": "314e7625",
   "metadata": {},
   "outputs": [
    {
     "data": {
      "text/plain": [
       "9"
      ]
     },
     "execution_count": 84,
     "metadata": {},
     "output_type": "execute_result"
    }
   ],
   "source": [
    "4 and 9 or \"\" or 'hello'"
   ]
  },
  {
   "cell_type": "code",
   "execution_count": 85,
   "id": "db8b8259",
   "metadata": {},
   "outputs": [
    {
     "data": {
      "text/plain": [
       "9"
      ]
     },
     "execution_count": 85,
     "metadata": {},
     "output_type": "execute_result"
    }
   ],
   "source": [
    "(4 and 9) or (\"\" or 'hello')"
   ]
  },
  {
   "cell_type": "code",
   "execution_count": 89,
   "id": "fc0d5828",
   "metadata": {},
   "outputs": [
    {
     "data": {
      "text/plain": [
       "'hello'"
      ]
     },
     "execution_count": 89,
     "metadata": {},
     "output_type": "execute_result"
    }
   ],
   "source": [
    "4 and (9 or '') and 'hello'"
   ]
  },
  {
   "cell_type": "code",
   "execution_count": 90,
   "id": "e33f3b32",
   "metadata": {},
   "outputs": [
    {
     "data": {
      "text/plain": [
       "True"
      ]
     },
     "execution_count": 90,
     "metadata": {},
     "output_type": "execute_result"
    }
   ],
   "source": [
    "not 0"
   ]
  },
  {
   "cell_type": "code",
   "execution_count": 91,
   "id": "8f6ac30a",
   "metadata": {},
   "outputs": [
    {
     "data": {
      "text/plain": [
       "False"
      ]
     },
     "execution_count": 91,
     "metadata": {},
     "output_type": "execute_result"
    }
   ],
   "source": [
    "not True"
   ]
  },
  {
   "cell_type": "code",
   "execution_count": 92,
   "id": "db6d0c4b",
   "metadata": {},
   "outputs": [
    {
     "data": {
      "text/plain": [
       "False"
      ]
     },
     "execution_count": 92,
     "metadata": {},
     "output_type": "execute_result"
    }
   ],
   "source": [
    "not 'hello'"
   ]
  },
  {
   "cell_type": "code",
   "execution_count": 93,
   "id": "30f2d1bc",
   "metadata": {},
   "outputs": [
    {
     "data": {
      "text/plain": [
       "True"
      ]
     },
     "execution_count": 93,
     "metadata": {},
     "output_type": "execute_result"
    }
   ],
   "source": [
    "3 == 3"
   ]
  },
  {
   "cell_type": "code",
   "execution_count": 94,
   "id": "a6585909",
   "metadata": {},
   "outputs": [
    {
     "data": {
      "text/plain": [
       "False"
      ]
     },
     "execution_count": 94,
     "metadata": {},
     "output_type": "execute_result"
    }
   ],
   "source": [
    "3 != 3"
   ]
  },
  {
   "cell_type": "code",
   "execution_count": 95,
   "id": "45f8e69f",
   "metadata": {},
   "outputs": [
    {
     "data": {
      "text/plain": [
       "False"
      ]
     },
     "execution_count": 95,
     "metadata": {},
     "output_type": "execute_result"
    }
   ],
   "source": [
    "3 < 3"
   ]
  },
  {
   "cell_type": "code",
   "execution_count": 96,
   "id": "3630d0b0",
   "metadata": {},
   "outputs": [
    {
     "data": {
      "text/plain": [
       "False"
      ]
     },
     "execution_count": 96,
     "metadata": {},
     "output_type": "execute_result"
    }
   ],
   "source": [
    "3 > 3"
   ]
  },
  {
   "cell_type": "code",
   "execution_count": 97,
   "id": "86a02a4f",
   "metadata": {},
   "outputs": [
    {
     "data": {
      "text/plain": [
       "True"
      ]
     },
     "execution_count": 97,
     "metadata": {},
     "output_type": "execute_result"
    }
   ],
   "source": [
    "3 <= 3"
   ]
  },
  {
   "cell_type": "markdown",
   "id": "1f63cdfb",
   "metadata": {},
   "source": [
    "### 비트연산자"
   ]
  },
  {
   "cell_type": "code",
   "execution_count": 98,
   "id": "97e330d4",
   "metadata": {},
   "outputs": [
    {
     "name": "stdout",
     "output_type": "stream",
     "text": [
      "0b1011 0b110\n"
     ]
    }
   ],
   "source": [
    "print(bin(11), bin(6))"
   ]
  },
  {
   "cell_type": "code",
   "execution_count": 99,
   "id": "d148c5ba",
   "metadata": {},
   "outputs": [
    {
     "data": {
      "text/plain": [
       "2"
      ]
     },
     "execution_count": 99,
     "metadata": {},
     "output_type": "execute_result"
    }
   ],
   "source": [
    "0b00001011 & 0b00000110"
   ]
  },
  {
   "cell_type": "code",
   "execution_count": 100,
   "id": "fe69b828",
   "metadata": {},
   "outputs": [
    {
     "data": {
      "text/plain": [
       "244"
      ]
     },
     "execution_count": 100,
     "metadata": {},
     "output_type": "execute_result"
    }
   ],
   "source": [
    "2147483636 & 0x000000FF"
   ]
  },
  {
   "cell_type": "code",
   "execution_count": 101,
   "id": "a9d9bc8b",
   "metadata": {},
   "outputs": [
    {
     "data": {
      "text/plain": [
       "'0b11110100'"
      ]
     },
     "execution_count": 101,
     "metadata": {},
     "output_type": "execute_result"
    }
   ],
   "source": [
    "bin(244)"
   ]
  },
  {
   "cell_type": "code",
   "execution_count": 104,
   "id": "7f6c24a7",
   "metadata": {},
   "outputs": [
    {
     "name": "stdout",
     "output_type": "stream",
     "text": [
      "00000000000000000000000000001011\n"
     ]
    }
   ],
   "source": [
    "print('{0:032b}'.format(11 & 0xFFFFFFFF))"
   ]
  },
  {
   "cell_type": "code",
   "execution_count": 105,
   "id": "b62aa6b2",
   "metadata": {},
   "outputs": [
    {
     "name": "stdout",
     "output_type": "stream",
     "text": [
      "10101100\n"
     ]
    }
   ],
   "source": [
    "print('{:08b}'.format(43<<2 & 0xFF))"
   ]
  },
  {
   "cell_type": "code",
   "execution_count": 106,
   "id": "75075e28",
   "metadata": {},
   "outputs": [
    {
     "data": {
      "text/plain": [
       "2048"
      ]
     },
     "execution_count": 106,
     "metadata": {},
     "output_type": "execute_result"
    }
   ],
   "source": [
    "256<<3"
   ]
  },
  {
   "cell_type": "code",
   "execution_count": 108,
   "id": "529a556e",
   "metadata": {},
   "outputs": [
    {
     "name": "stdout",
     "output_type": "stream",
     "text": [
      "00000000000000000000000100000000\n"
     ]
    }
   ],
   "source": [
    "print('{:032b}'.format(256 & 0xFFFFFFFF))"
   ]
  },
  {
   "cell_type": "code",
   "execution_count": 109,
   "id": "1f07f03f",
   "metadata": {},
   "outputs": [
    {
     "data": {
      "text/plain": [
       "-2048"
      ]
     },
     "execution_count": 109,
     "metadata": {},
     "output_type": "execute_result"
    }
   ],
   "source": [
    "-256 << 3"
   ]
  },
  {
   "cell_type": "code",
   "execution_count": 110,
   "id": "17e13652",
   "metadata": {},
   "outputs": [
    {
     "name": "stdout",
     "output_type": "stream",
     "text": [
      "11111111111111111111100000000000\n"
     ]
    }
   ],
   "source": [
    "print('{:032b}'.format(-256 << 3 & 0xFFFFFFFF))"
   ]
  },
  {
   "cell_type": "markdown",
   "id": "ac7a8976",
   "metadata": {},
   "source": [
    "### Isinstance"
   ]
  },
  {
   "cell_type": "code",
   "execution_count": 111,
   "id": "9a2dc9d4",
   "metadata": {},
   "outputs": [
    {
     "data": {
      "text/plain": [
       "True"
      ]
     },
     "execution_count": 111,
     "metadata": {},
     "output_type": "execute_result"
    }
   ],
   "source": [
    "isinstance(10, int)"
   ]
  },
  {
   "cell_type": "code",
   "execution_count": 127,
   "id": "77310910",
   "metadata": {},
   "outputs": [
    {
     "data": {
      "text/plain": [
       "False"
      ]
     },
     "execution_count": 127,
     "metadata": {},
     "output_type": "execute_result"
    }
   ],
   "source": [
    "isinstance(\"hello\",int)"
   ]
  },
  {
   "cell_type": "code",
   "execution_count": 2,
   "id": "967595c5",
   "metadata": {},
   "outputs": [
    {
     "data": {
      "text/plain": [
       "True"
      ]
     },
     "execution_count": 2,
     "metadata": {},
     "output_type": "execute_result"
    }
   ],
   "source": [
    "isinstance(\"hello\",str)"
   ]
  },
  {
   "cell_type": "code",
   "execution_count": 1,
   "id": "46230fb4",
   "metadata": {},
   "outputs": [
    {
     "data": {
      "text/plain": [
       "True"
      ]
     },
     "execution_count": 1,
     "metadata": {},
     "output_type": "execute_result"
    }
   ],
   "source": [
    "isinstance('hello',str)"
   ]
  },
  {
   "cell_type": "code",
   "execution_count": 144,
   "id": "7700ec13",
   "metadata": {},
   "outputs": [
    {
     "data": {
      "text/plain": [
       "False"
      ]
     },
     "execution_count": 144,
     "metadata": {},
     "output_type": "execute_result"
    }
   ],
   "source": [
    "isinstance(10, (float,complex))"
   ]
  },
  {
   "cell_type": "markdown",
   "id": "41a8a306",
   "metadata": {},
   "source": [
    "### 복합대입 연산자"
   ]
  },
  {
   "cell_type": "code",
   "execution_count": 130,
   "id": "93170e5b",
   "metadata": {},
   "outputs": [],
   "source": [
    "age= age+1\n",
    "age += 1 #동일하게 동작"
   ]
  }
 ],
 "metadata": {
  "kernelspec": {
   "display_name": "Python 3",
   "language": "python",
   "name": "python3"
  },
  "language_info": {
   "codemirror_mode": {
    "name": "ipython",
    "version": 3
   },
   "file_extension": ".py",
   "mimetype": "text/x-python",
   "name": "python",
   "nbconvert_exporter": "python",
   "pygments_lexer": "ipython3",
   "version": "3.8.8"
  }
 },
 "nbformat": 4,
 "nbformat_minor": 5
}
