{
 "cells": [
  {
   "cell_type": "code",
   "execution_count": 1,
   "id": "dead2108",
   "metadata": {},
   "outputs": [],
   "source": [
    "class Member:\n",
    "    def __init__(self,login_id,name,password):\n",
    "        self.login_id=login_id\n",
    "        self.name=name\n",
    "        self.password=password\n",
    "    def __str__(self):\n",
    "        return(f\"login_id: {login_id}, name:{self.name},\"\n",
    "               f\"password:{self.password}\")\n",
    "    def to_dict(self):\n",
    "        return{\"login_id\":self.login_id,\"name\":self.name, \n",
    "               \"password\":self.password}"
   ]
  },
  {
   "cell_type": "code",
   "execution_count": 2,
   "id": "43399674",
   "metadata": {},
   "outputs": [],
   "source": [
    "def login_info():\n",
    "    cursor=conn.cursor()\n",
    "    print(\"*회원가입*\")\n",
    "    login_id=input(\"아이디를 입력해 주세요:\")\n",
    "    name=input(\"이름을 입력해 주세요:\")\n",
    "    password=input(\"비밀번호를 입력해 주세요:\")\n",
    "    sql= \"insert into login values(:login_id,:name,:password)\"\n",
    "    member=Member(login_id,name,password)\n",
    "    cursor.execute(sql,member.to_dict())\n",
    "    print(f\"{name}({login_id}) 회원님 가입을 축하합니다.\")"
   ]
  },
  {
   "cell_type": "code",
   "execution_count": 3,
   "id": "3cb870c7",
   "metadata": {},
   "outputs": [],
   "source": [
    "def login():\n",
    "    print(\"*로그인*\")\n",
    "    login_id=input(\"아이디:\")\n",
    "    password=input(\"비밀번호:\")\n",
    "    cursor=conn.cursor()\n",
    "    sql='select * from login where login_id=:login_id and password=:password'\n",
    "    cursor.execute(sql,(login_id,password))\n",
    "    result=cursor.fetchall()\n",
    "    member=Member(result[0][0],result[0][1],result[0][2])\n",
    "    if member.login_id==login_id and member.password==password:\n",
    "        print(f\"{member.name}({login_id}) 회원님이 로그인 하였습니다.\")\n",
    "    session=[member.name,login_id]\n",
    "    return session"
   ]
  },
  {
   "cell_type": "code",
   "execution_count": 33,
   "id": "6b0e8490",
   "metadata": {},
   "outputs": [],
   "source": [
    "def check_number():\n",
    "    cursor=conn.cursor()\n",
    "    sql='select max(nu) from board1'\n",
    "    cursor.execute(sql)\n",
    "    result=cursor.fetchone()[0]\n",
    "    return int(result)+1\n",
    "        "
   ]
  },
  {
   "cell_type": "code",
   "execution_count": 30,
   "id": "b05a33fc",
   "metadata": {},
   "outputs": [],
   "source": [
    "def write_board(session):\n",
    "    nu=check_number()\n",
    "    print(\"nu\")\n",
    "    title=input(\"제목:\")\n",
    "    content=input(\"내용:\")\n",
    "    print(\"작성자:{},({})\".format(session[0],session[1]))\n",
    "    print(\"조회수:3\")\n",
    "    print(\"글삭제:d, 글목록:l, 로그아웃:o\")\n",
    "    cursor=conn.cursor()\n",
    "    sql='insert into board1 values(:nu,:title,:login_id,sysdate,3,:name,:content)'\n",
    "    cursor.execute(sql,(nu,title,session[0],session[1],content))\n",
    "    write=input(\"선택>\")\n",
    "    return write.lower() "
   ]
  },
  {
   "cell_type": "code",
   "execution_count": 44,
   "id": "2ad1c9d2",
   "metadata": {},
   "outputs": [],
   "source": [
    "def board_info(board):\n",
    "    cursor=conn.cursor()\n",
    "    sql= \"select title,content from board1 where nu=:board\"\n",
    "    cursor.execute(sql,(board,))\n",
    "    result=cursor.fetchone()[0]\n",
    "    print(result)\n",
    "    print(\"*상세보기*\")\n",
    "    print('제목:'.format(result[0]))\n",
    "    print('내용:'.format(result[1]))"
   ]
  },
  {
   "cell_type": "code",
   "execution_count": 6,
   "id": "be7535c0",
   "metadata": {},
   "outputs": [],
   "source": [
    "def select_menu():\n",
    "    print(\"*메뉴*\",\"1.회원가입\",\"2.로그인\",\"3.종료\",sep=\"\\n\")\n",
    "    menu=input(\"선택:\")\n",
    "    return int(menu)\n",
    "#   return int(input(선택:))"
   ]
  },
  {
   "cell_type": "code",
   "execution_count": 42,
   "id": "55cd0a09",
   "metadata": {},
   "outputs": [],
   "source": [
    "def main():\n",
    "    while True:\n",
    "        menu=select_menu()\n",
    "        if menu==1:\n",
    "            login_info()\n",
    "            conn.commit()\n",
    "        elif menu==2:\n",
    "            session=login()\n",
    "            board=select_board()\n",
    "            if board=='o':\n",
    "                print(\"로그아웃되었습니다.\")\n",
    "                break\n",
    "            elif board=='w':\n",
    "                write=write_board(session)\n",
    "                conn.commit()\n",
    "                if write==\"d\":\n",
    "                    select_board()\n",
    "                elif write=='l':\n",
    "                    select_board()\n",
    "                elif write=='o':\n",
    "                    break\n",
    "            else:\n",
    "                board_info(board)\n",
    "                \n",
    "        elif menu==3:\n",
    "            print(\"종료되었습니다.\")\n",
    "            break"
   ]
  },
  {
   "cell_type": "code",
   "execution_count": 37,
   "id": "91227dda",
   "metadata": {},
   "outputs": [],
   "source": [
    "def select_board():\n",
    "    print(\"*글목록*\")\n",
    "    print('-'*6+'+'+'-'*15+'+'+'-'*10+'+'+'-'*10)\n",
    "    print('{:<5}{:<14}{:<8}{:<9}{:<9}'.format(\"번호\",\"제목\",\"작성자\",\"날짜\",\"조회수\"))\n",
    "    cursor=conn.cursor()\n",
    "    sql=\"select nu,title,login_id,to_char(uptime,'yyyy-mm-dd'),coun from board1\"\n",
    "    cursor.execute(sql)\n",
    "    result=cursor.fetchall()\n",
    "    for board in result:\n",
    "        print('{:<7}{:<16}{:<11}{:<15}{:<10}'.format(board[0],board[1],board[2],board[3],board[4]))\n",
    "    print('-'*6+'+'+'-'*15+'+'+'-'*10+'+'+'-'*10)\n",
    "    print(\"글쓰기:w,읽기:번호,로그아웃:o\")\n",
    "    select=input(\"선택>\")\n",
    "    return select if select.lower()=='o' or select.lower()=='w' else int(select)\n",
    "    "
   ]
  },
  {
   "cell_type": "code",
   "execution_count": 38,
   "id": "e98bd556",
   "metadata": {},
   "outputs": [],
   "source": [
    "import cx_Oracle\n",
    "oracle_dsn=cx_Oracle.makedsn(host=\"localhost\", port=1521,sid=\"xe\")\n",
    "conn=cx_Oracle.connect(dsn=oracle_dsn,user=\"hr\",password=\"hr\")"
   ]
  },
  {
   "cell_type": "code",
   "execution_count": null,
   "id": "624fa84b",
   "metadata": {},
   "outputs": [
    {
     "name": "stdout",
     "output_type": "stream",
     "text": [
      "*메뉴*\n",
      "1.회원가입\n",
      "2.로그인\n",
      "3.종료\n",
      "선택:2\n",
      "*로그인*\n",
      "아이디:1\n",
      "비밀번호:1\n",
      "1(1) 회원님이 로그인 하였습니다.\n",
      "*글목록*\n",
      "------+---------------+----------+----------\n",
      "번호   제목            작성자     날짜       조회수      \n",
      "1      ajief           1          2021-11-22     2         \n",
      "1      김동영             1          2021-11-22     3         \n",
      "2      헬로              1          2021-11-22     3         \n",
      "------+---------------+----------+----------\n",
      "글쓰기:w,읽기:번호,로그아웃:o\n",
      "선택>w\n",
      "nu\n",
      "제목:d\n",
      "내용:d\n",
      "작성자:1,(1)\n",
      "조회수:3\n",
      "글삭제:d, 글목록:l, 로그아웃:o\n",
      "선택>l\n",
      "*글목록*\n",
      "------+---------------+----------+----------\n",
      "번호   제목            작성자     날짜       조회수      \n",
      "1      ajief           1          2021-11-22     2         \n",
      "1      김동영             1          2021-11-22     3         \n",
      "2      헬로              1          2021-11-22     3         \n",
      "3      d               1          2021-11-22     3         \n",
      "------+---------------+----------+----------\n",
      "글쓰기:w,읽기:번호,로그아웃:o\n",
      "선택>2\n",
      "*메뉴*\n",
      "1.회원가입\n",
      "2.로그인\n",
      "3.종료\n"
     ]
    }
   ],
   "source": [
    "main()"
   ]
  },
  {
   "cell_type": "code",
   "execution_count": null,
   "id": "f9ecc85c",
   "metadata": {},
   "outputs": [],
   "source": []
  }
 ],
 "metadata": {
  "kernelspec": {
   "display_name": "Python 3",
   "language": "python",
   "name": "python3"
  },
  "language_info": {
   "codemirror_mode": {
    "name": "ipython",
    "version": 3
   },
   "file_extension": ".py",
   "mimetype": "text/x-python",
   "name": "python",
   "nbconvert_exporter": "python",
   "pygments_lexer": "ipython3",
   "version": "3.8.8"
  }
 },
 "nbformat": 4,
 "nbformat_minor": 5
}
