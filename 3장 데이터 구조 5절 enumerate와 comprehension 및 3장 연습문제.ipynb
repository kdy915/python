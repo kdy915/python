{
 "cells": [
  {
   "cell_type": "markdown",
   "id": "3ddbfff8",
   "metadata": {},
   "source": [
    "### enumerate"
   ]
  },
  {
   "cell_type": "markdown",
   "id": "c0a07baf",
   "metadata": {},
   "source": [
    "##### enumerate()함수는 (index,iter[0]) - (index+1,iter[1])----이렇게 반환해준다"
   ]
  },
  {
   "cell_type": "code",
   "execution_count": 14,
   "id": "c8b78352",
   "metadata": {},
   "outputs": [
    {
     "name": "stdout",
     "output_type": "stream",
     "text": [
      "watermelon\n",
      "orange\n",
      "mango\n",
      "grape\n",
      "banana\n"
     ]
    }
   ],
   "source": [
    "fruits=['watermelon', 'orange', 'mango', 'grape', 'banana']\n",
    "for fruit in fruits:\n",
    "    print('{}'.format(fruit))"
   ]
  },
  {
   "cell_type": "code",
   "execution_count": 15,
   "id": "dc904ac4",
   "metadata": {},
   "outputs": [
    {
     "name": "stdout",
     "output_type": "stream",
     "text": [
      "watermelon\n",
      "orange\n",
      "mango\n",
      "grape\n",
      "banana\n"
     ]
    }
   ],
   "source": [
    "for i in range(len(fruits)):\n",
    "    print('{}'.format(fruits[i]))"
   ]
  },
  {
   "cell_type": "code",
   "execution_count": 16,
   "id": "52a81545",
   "metadata": {},
   "outputs": [
    {
     "data": {
      "text/plain": [
       "<enumerate at 0x25ed51b49c0>"
      ]
     },
     "execution_count": 16,
     "metadata": {},
     "output_type": "execute_result"
    }
   ],
   "source": [
    "enumerate(fruits)"
   ]
  },
  {
   "cell_type": "code",
   "execution_count": 17,
   "id": "677e595d",
   "metadata": {},
   "outputs": [
    {
     "name": "stdout",
     "output_type": "stream",
     "text": [
      "1번째 watermelon\n",
      "2번째 orange\n",
      "3번째 mango\n",
      "4번째 grape\n",
      "5번째 banana\n"
     ]
    }
   ],
   "source": [
    "for index,value in enumerate(fruits):\n",
    "    print(\"{}번째 {}\".format(index+1,value))"
   ]
  },
  {
   "cell_type": "markdown",
   "id": "f2e7adb5",
   "metadata": {},
   "source": [
    "### comprehension"
   ]
  },
  {
   "cell_type": "markdown",
   "id": "b5c0f207",
   "metadata": {},
   "source": [
    "###### 반복 객체를 만드는 방법중 하나\n",
    "###### next()를 통해서 하나씩 출력이 가능 예외 발생시 stopiteration 발생"
   ]
  },
  {
   "cell_type": "code",
   "execution_count": 18,
   "id": "39242e78",
   "metadata": {},
   "outputs": [
    {
     "data": {
      "text/plain": [
       "[2, 4, 6, 8, 10]"
      ]
     },
     "execution_count": 18,
     "metadata": {},
     "output_type": "execute_result"
    }
   ],
   "source": [
    "L=[1,2,3,4,5,6,7,8,9,10]\n",
    "L2 = [item for item in L if item%2==0]\n",
    "L2"
   ]
  },
  {
   "cell_type": "code",
   "execution_count": 19,
   "id": "5ad49946",
   "metadata": {},
   "outputs": [
    {
     "data": {
      "text/plain": [
       "2"
      ]
     },
     "execution_count": 19,
     "metadata": {},
     "output_type": "execute_result"
    }
   ],
   "source": [
    "G = (item for item in L if item%2==0)\n",
    "next(G)"
   ]
  },
  {
   "cell_type": "code",
   "execution_count": 20,
   "id": "f49505ef",
   "metadata": {},
   "outputs": [
    {
     "data": {
      "text/plain": [
       "4"
      ]
     },
     "execution_count": 20,
     "metadata": {},
     "output_type": "execute_result"
    }
   ],
   "source": [
    "next(G)"
   ]
  },
  {
   "cell_type": "markdown",
   "id": "1663194d",
   "metadata": {},
   "source": [
    "### 3장 연습문제"
   ]
  },
  {
   "cell_type": "code",
   "execution_count": 43,
   "id": "2d552da5",
   "metadata": {},
   "outputs": [],
   "source": [
    "numbers=[1,2,3,4,5,6,7,8,9,10]"
   ]
  },
  {
   "cell_type": "code",
   "execution_count": 44,
   "id": "011d03de",
   "metadata": {},
   "outputs": [
    {
     "data": {
      "text/plain": [
       "[1, 2, 3, 4, 5, 6, 7, 8, 9, 10, 100]"
      ]
     },
     "execution_count": 44,
     "metadata": {},
     "output_type": "execute_result"
    }
   ],
   "source": [
    "numbers.append(100)\n",
    "numbers"
   ]
  },
  {
   "cell_type": "code",
   "execution_count": 45,
   "id": "c28d0be7",
   "metadata": {},
   "outputs": [
    {
     "data": {
      "text/plain": [
       "[1, 2, 3, 4, 5, 6, 7, 8, 9, 10, 100, 200, 300, 400, 500]"
      ]
     },
     "execution_count": 45,
     "metadata": {},
     "output_type": "execute_result"
    }
   ],
   "source": [
    "numbers.extend([200,300,400,500])\n",
    "numbers"
   ]
  },
  {
   "cell_type": "code",
   "execution_count": 46,
   "id": "6850e5b6",
   "metadata": {},
   "outputs": [
    {
     "data": {
      "text/plain": [
       "[1, 2, 3, 4, 5]"
      ]
     },
     "execution_count": 46,
     "metadata": {},
     "output_type": "execute_result"
    }
   ],
   "source": [
    "numbers[:5]"
   ]
  },
  {
   "cell_type": "code",
   "execution_count": 47,
   "id": "6e209992",
   "metadata": {},
   "outputs": [
    {
     "data": {
      "text/plain": [
       "[2, 4, 6, 8, 10, 200, 400]"
      ]
     },
     "execution_count": 47,
     "metadata": {},
     "output_type": "execute_result"
    }
   ],
   "source": [
    "numbers[1::2]"
   ]
  },
  {
   "cell_type": "code",
   "execution_count": 48,
   "id": "77800fb0",
   "metadata": {},
   "outputs": [
    {
     "data": {
      "text/plain": [
       "[1, 0, 3, 0, 5, 0, 7, 0, 9, 0, 100, 0, 300, 0, 500]"
      ]
     },
     "execution_count": 48,
     "metadata": {},
     "output_type": "execute_result"
    }
   ],
   "source": [
    "numbers[1::2]=[0]*int(len(numbers)/2)\n",
    "numbers"
   ]
  },
  {
   "cell_type": "code",
   "execution_count": 58,
   "id": "b033378f",
   "metadata": {},
   "outputs": [
    {
     "data": {
      "text/plain": [
       "[500, 300, 100, 9, 7, 5, 3, 1, 0, 0, 0, 0, 0, 0, 0]"
      ]
     },
     "execution_count": 58,
     "metadata": {},
     "output_type": "execute_result"
    }
   ],
   "source": [
    "numbers.reverse()\n",
    "numbers"
   ]
  },
  {
   "cell_type": "code",
   "execution_count": 59,
   "id": "5a0a114c",
   "metadata": {},
   "outputs": [],
   "source": [
    "member_info={\"name\":\"홍길동\", \"age\":20, \"address\":\"서울시 강동구\", \"score\":90}"
   ]
  },
  {
   "cell_type": "code",
   "execution_count": 60,
   "id": "21ff84bc",
   "metadata": {},
   "outputs": [
    {
     "data": {
      "text/plain": [
       "'서울시 강동구'"
      ]
     },
     "execution_count": 60,
     "metadata": {},
     "output_type": "execute_result"
    }
   ],
   "source": [
    "member_info.get(\"address\")"
   ]
  },
  {
   "cell_type": "code",
   "execution_count": 61,
   "id": "4cf563d0",
   "metadata": {},
   "outputs": [
    {
     "data": {
      "text/plain": [
       "90"
      ]
     },
     "execution_count": 61,
     "metadata": {},
     "output_type": "execute_result"
    }
   ],
   "source": [
    "member_info.pop(\"score\")"
   ]
  },
  {
   "cell_type": "code",
   "execution_count": 62,
   "id": "c9b5f79a",
   "metadata": {},
   "outputs": [],
   "source": [
    "member_info[\"address\"]=\"서울시 강남구\""
   ]
  },
  {
   "cell_type": "code",
   "execution_count": 65,
   "id": "a13e1d78",
   "metadata": {},
   "outputs": [
    {
     "data": {
      "text/plain": [
       "['홍길동', 20, '서울시 강남구']"
      ]
     },
     "execution_count": 65,
     "metadata": {},
     "output_type": "execute_result"
    }
   ],
   "source": [
    "list(member_info.values())"
   ]
  },
  {
   "cell_type": "code",
   "execution_count": 66,
   "id": "d59a2ccd",
   "metadata": {},
   "outputs": [
    {
     "data": {
      "text/plain": [
       "['name', 'age', 'address']"
      ]
     },
     "execution_count": 66,
     "metadata": {},
     "output_type": "execute_result"
    }
   ],
   "source": [
    "list(member_info)"
   ]
  },
  {
   "cell_type": "code",
   "execution_count": 67,
   "id": "269cd637",
   "metadata": {},
   "outputs": [
    {
     "data": {
      "text/plain": [
       "[('name', '홍길동'), ('age', 20), ('address', '서울시 강남구')]"
      ]
     },
     "execution_count": 67,
     "metadata": {},
     "output_type": "execute_result"
    }
   ],
   "source": [
    "list(member_info.items())"
   ]
  },
  {
   "cell_type": "code",
   "execution_count": null,
   "id": "efc6bc63",
   "metadata": {},
   "outputs": [],
   "source": [
    "print(\"{{}:*}\")"
   ]
  }
 ],
 "metadata": {
  "kernelspec": {
   "display_name": "Python 3",
   "language": "python",
   "name": "python3"
  },
  "language_info": {
   "codemirror_mode": {
    "name": "ipython",
    "version": 3
   },
   "file_extension": ".py",
   "mimetype": "text/x-python",
   "name": "python",
   "nbconvert_exporter": "python",
   "pygments_lexer": "ipython3",
   "version": "3.8.8"
  }
 },
 "nbformat": 4,
 "nbformat_minor": 5
}
