{
 "cells": [
  {
   "cell_type": "markdown",
   "id": "75359d87",
   "metadata": {},
   "source": [
    "### 객체와 클래스"
   ]
  },
  {
   "cell_type": "markdown",
   "id": "0e78cd65",
   "metadata": {},
   "source": [
    "클래스: 객체를 만들기 위한 틀\n",
    "객체: 클래스의 인스턴스\n",
    "객체의 명사적 특성: 데이터, 변수, 필드, 속성\n",
    "객체의 동사적 특성: 행위, 함수, 메서드, 기능"
   ]
  },
  {
   "cell_type": "code",
   "execution_count": 1,
   "id": "0c2617fe",
   "metadata": {},
   "outputs": [],
   "source": [
    "class Person:\n",
    "    pass"
   ]
  },
  {
   "cell_type": "code",
   "execution_count": 2,
   "id": "a329ef7c",
   "metadata": {},
   "outputs": [],
   "source": [
    "p1=Person()"
   ]
  },
  {
   "cell_type": "code",
   "execution_count": 3,
   "id": "02fa32d9",
   "metadata": {},
   "outputs": [
    {
     "data": {
      "text/plain": [
       "<__main__.Person at 0x20065863190>"
      ]
     },
     "execution_count": 3,
     "metadata": {},
     "output_type": "execute_result"
    }
   ],
   "source": [
    "p1"
   ]
  },
  {
   "cell_type": "code",
   "execution_count": 4,
   "id": "f2f2f8d0",
   "metadata": {},
   "outputs": [
    {
     "data": {
      "text/plain": [
       "__main__.Person"
      ]
     },
     "execution_count": 4,
     "metadata": {},
     "output_type": "execute_result"
    }
   ],
   "source": [
    "type(p1)"
   ]
  },
  {
   "cell_type": "code",
   "execution_count": 5,
   "id": "dcceaa12",
   "metadata": {},
   "outputs": [],
   "source": [
    "class person:\n",
    "    name=\"홍길동\"\n",
    "    gender=\"남자\""
   ]
  },
  {
   "cell_type": "code",
   "execution_count": 7,
   "id": "f089b2fa",
   "metadata": {},
   "outputs": [],
   "source": [
    "p1=person()"
   ]
  },
  {
   "cell_type": "code",
   "execution_count": 8,
   "id": "4b7c89fd",
   "metadata": {},
   "outputs": [
    {
     "name": "stdout",
     "output_type": "stream",
     "text": [
      "홍길동 남자\n"
     ]
    }
   ],
   "source": [
    "print(p1.name,p1.gender)"
   ]
  },
  {
   "cell_type": "code",
   "execution_count": 9,
   "id": "b04e0f87",
   "metadata": {},
   "outputs": [],
   "source": [
    "class Person:\n",
    "    def print_info():\n",
    "        print(\"Person 객체입니다\")"
   ]
  },
  {
   "cell_type": "code",
   "execution_count": 10,
   "id": "2c2d1654",
   "metadata": {},
   "outputs": [],
   "source": [
    "p1=Person()"
   ]
  },
  {
   "cell_type": "code",
   "execution_count": 12,
   "id": "57bb2b47",
   "metadata": {},
   "outputs": [
    {
     "ename": "TypeError",
     "evalue": "print_info() takes 0 positional arguments but 1 was given",
     "output_type": "error",
     "traceback": [
      "\u001b[1;31m---------------------------------------------------------------------------\u001b[0m",
      "\u001b[1;31mTypeError\u001b[0m                                 Traceback (most recent call last)",
      "\u001b[1;32m<ipython-input-12-b3c530efd052>\u001b[0m in \u001b[0;36m<module>\u001b[1;34m\u001b[0m\n\u001b[1;32m----> 1\u001b[1;33m \u001b[0mp1\u001b[0m\u001b[1;33m.\u001b[0m\u001b[0mprint_info\u001b[0m\u001b[1;33m(\u001b[0m\u001b[1;33m)\u001b[0m \u001b[1;31m#print_info() 메서드가 p1,Person 주소에서 가져올건지 알 수가 없습니다.\u001b[0m\u001b[1;33m\u001b[0m\u001b[1;33m\u001b[0m\u001b[0m\n\u001b[0m",
      "\u001b[1;31mTypeError\u001b[0m: print_info() takes 0 positional arguments but 1 was given"
     ]
    }
   ],
   "source": [
    "p1.print_info() #객체는 클래스에서 메서드를 참조를 하기 때문에 직접 사용할 수 없다."
   ]
  },
  {
   "cell_type": "code",
   "execution_count": 13,
   "id": "d8da84e8",
   "metadata": {},
   "outputs": [],
   "source": [
    "class Person1:\n",
    "    def print_info(self):\n",
    "        print(\"Person 객체입니다\")"
   ]
  },
  {
   "cell_type": "code",
   "execution_count": 14,
   "id": "4a3328d4",
   "metadata": {},
   "outputs": [],
   "source": [
    "p2=Person1()"
   ]
  },
  {
   "cell_type": "code",
   "execution_count": 15,
   "id": "c7cb54c6",
   "metadata": {},
   "outputs": [
    {
     "name": "stdout",
     "output_type": "stream",
     "text": [
      "Person 객체입니다\n"
     ]
    }
   ],
   "source": [
    "p2.print_info() #객체의 주소를 전달해주는 것이 self이다."
   ]
  },
  {
   "cell_type": "code",
   "execution_count": 30,
   "id": "70644a6f",
   "metadata": {},
   "outputs": [],
   "source": [
    "class person:\n",
    "    name=\"홍길동\"\n",
    "    gender='남자'\n",
    "    def print_info(self):\n",
    "        print(\"{}님은 {}입니다.\".format(name,gender))"
   ]
  },
  {
   "cell_type": "code",
   "execution_count": 31,
   "id": "15bc3c42",
   "metadata": {},
   "outputs": [],
   "source": [
    "p1=person()"
   ]
  },
  {
   "cell_type": "code",
   "execution_count": 32,
   "id": "a6a0d30b",
   "metadata": {},
   "outputs": [
    {
     "ename": "NameError",
     "evalue": "name 'name' is not defined",
     "output_type": "error",
     "traceback": [
      "\u001b[1;31m---------------------------------------------------------------------------\u001b[0m",
      "\u001b[1;31mNameError\u001b[0m                                 Traceback (most recent call last)",
      "\u001b[1;32m<ipython-input-32-95521d9ffd9a>\u001b[0m in \u001b[0;36m<module>\u001b[1;34m\u001b[0m\n\u001b[1;32m----> 1\u001b[1;33m \u001b[0mp1\u001b[0m\u001b[1;33m.\u001b[0m\u001b[0mprint_info\u001b[0m\u001b[1;33m(\u001b[0m\u001b[1;33m)\u001b[0m \u001b[1;31m#name,gender가 객체 자신을 참조할 것인지 판단하는 인자가 필요하다\u001b[0m\u001b[1;33m\u001b[0m\u001b[1;33m\u001b[0m\u001b[0m\n\u001b[0m",
      "\u001b[1;32m<ipython-input-30-490540393997>\u001b[0m in \u001b[0;36mprint_info\u001b[1;34m(self)\u001b[0m\n\u001b[0;32m      3\u001b[0m     \u001b[0mgender\u001b[0m\u001b[1;33m=\u001b[0m\u001b[1;34m'남자'\u001b[0m\u001b[1;33m\u001b[0m\u001b[1;33m\u001b[0m\u001b[0m\n\u001b[0;32m      4\u001b[0m     \u001b[1;32mdef\u001b[0m \u001b[0mprint_info\u001b[0m\u001b[1;33m(\u001b[0m\u001b[0mself\u001b[0m\u001b[1;33m)\u001b[0m\u001b[1;33m:\u001b[0m\u001b[1;33m\u001b[0m\u001b[1;33m\u001b[0m\u001b[0m\n\u001b[1;32m----> 5\u001b[1;33m         \u001b[0mprint\u001b[0m\u001b[1;33m(\u001b[0m\u001b[1;34m\"{}님은 {}입니다.\"\u001b[0m\u001b[1;33m.\u001b[0m\u001b[0mformat\u001b[0m\u001b[1;33m(\u001b[0m\u001b[0mname\u001b[0m\u001b[1;33m,\u001b[0m\u001b[0mgender\u001b[0m\u001b[1;33m)\u001b[0m\u001b[1;33m)\u001b[0m\u001b[1;33m\u001b[0m\u001b[1;33m\u001b[0m\u001b[0m\n\u001b[0m",
      "\u001b[1;31mNameError\u001b[0m: name 'name' is not defined"
     ]
    }
   ],
   "source": [
    "p1.print_info() #name,gender가 객체 자신을 참조할 것인지 판단하는 인자가 필요하다"
   ]
  },
  {
   "cell_type": "code",
   "execution_count": 33,
   "id": "48d962d1",
   "metadata": {},
   "outputs": [],
   "source": [
    "class person:\n",
    "    name=\"홍길동\"\n",
    "    gender='남자'\n",
    "    def print_info(self):\n",
    "        print(\"{}님은 {}입니다.\".format(self.name,self.gender))"
   ]
  },
  {
   "cell_type": "code",
   "execution_count": 34,
   "id": "78e3ab2f",
   "metadata": {},
   "outputs": [],
   "source": [
    "p1=person()"
   ]
  },
  {
   "cell_type": "code",
   "execution_count": 35,
   "id": "af1408fe",
   "metadata": {},
   "outputs": [
    {
     "name": "stdout",
     "output_type": "stream",
     "text": [
      "홍길동님은 남자입니다.\n"
     ]
    }
   ],
   "source": [
    "p1.print_info()"
   ]
  },
  {
   "cell_type": "code",
   "execution_count": 38,
   "id": "9a679d5e",
   "metadata": {},
   "outputs": [
    {
     "name": "stdout",
     "output_type": "stream",
     "text": [
      "홍길동님은 남자입니다.\n"
     ]
    }
   ],
   "source": [
    "person.print_info(p1)"
   ]
  },
  {
   "cell_type": "code",
   "execution_count": 39,
   "id": "2c4b8ac5",
   "metadata": {},
   "outputs": [
    {
     "name": "stdout",
     "output_type": "stream",
     "text": [
      "홍길동님은 남자입니다.\n"
     ]
    }
   ],
   "source": [
    "p2=person()\n",
    "p2.print_info()"
   ]
  },
  {
   "cell_type": "code",
   "execution_count": 40,
   "id": "4fbffef8",
   "metadata": {},
   "outputs": [],
   "source": [
    "p1.name=\"김동영\"\n",
    "p1.gender=\"여자\""
   ]
  },
  {
   "cell_type": "code",
   "execution_count": 41,
   "id": "1b06e8ed",
   "metadata": {},
   "outputs": [
    {
     "name": "stdout",
     "output_type": "stream",
     "text": [
      "김동영님은 여자입니다.\n"
     ]
    }
   ],
   "source": [
    "p1.print_info()"
   ]
  },
  {
   "cell_type": "code",
   "execution_count": 47,
   "id": "7c703f07",
   "metadata": {},
   "outputs": [],
   "source": [
    "class person:\n",
    "    name=\"홍길동\"\n",
    "    gender='남자'\n",
    "    def print_info(self):\n",
    "        print(\"{}님은 {}입니다.\".format(self.name,self.gender))\n",
    "    @classmethod\n",
    "    def do_(cls):\n",
    "        print(\"이름은 :{}, 성별: {}입니다\".format(cls.name,cls.gender))\n",
    "    @staticmethod\n",
    "    def that_():\n",
    "        print(\"이름은 {}이고 성별은 {}입니다.\".format(person.name,person.gender))"
   ]
  },
  {
   "cell_type": "code",
   "execution_count": 48,
   "id": "84957802",
   "metadata": {},
   "outputs": [
    {
     "name": "stdout",
     "output_type": "stream",
     "text": [
      "이름은 :홍길동, 성별: 남자입니다\n"
     ]
    }
   ],
   "source": [
    "person.do_() #객체를 생성하지 않고 클래스 메서드와 정적메서드를 클래스 이름을 이요해서 참조"
   ]
  },
  {
   "cell_type": "code",
   "execution_count": 49,
   "id": "058f2e4c",
   "metadata": {},
   "outputs": [
    {
     "name": "stdout",
     "output_type": "stream",
     "text": [
      "이름은 홍길동이고 성별은 남자입니다.\n"
     ]
    }
   ],
   "source": [
    "person.that_()"
   ]
  },
  {
   "cell_type": "code",
   "execution_count": 50,
   "id": "5c2af829",
   "metadata": {},
   "outputs": [],
   "source": [
    "p1=person()\n",
    "p1.name='이순신'"
   ]
  },
  {
   "cell_type": "code",
   "execution_count": 51,
   "id": "34b2e25e",
   "metadata": {},
   "outputs": [
    {
     "name": "stdout",
     "output_type": "stream",
     "text": [
      "이름은 :홍길동, 성별: 남자입니다\n"
     ]
    }
   ],
   "source": [
    "p1.do_() # 클래스 와 정적메소드는 클래스 변수를 참조합니다."
   ]
  },
  {
   "cell_type": "code",
   "execution_count": 53,
   "id": "f975b3bd",
   "metadata": {},
   "outputs": [
    {
     "name": "stdout",
     "output_type": "stream",
     "text": [
      "이름은 홍길동이고 성별은 남자입니다.\n"
     ]
    }
   ],
   "source": [
    "p1.that_()"
   ]
  },
  {
   "cell_type": "code",
   "execution_count": 54,
   "id": "483c02d7",
   "metadata": {},
   "outputs": [
    {
     "data": {
      "text/plain": [
       "'이순신'"
      ]
     },
     "execution_count": 54,
     "metadata": {},
     "output_type": "execute_result"
    }
   ],
   "source": [
    "p1.name"
   ]
  },
  {
   "cell_type": "code",
   "execution_count": 55,
   "id": "31a093cc",
   "metadata": {},
   "outputs": [
    {
     "name": "stdout",
     "output_type": "stream",
     "text": [
      "이순신님은 남자입니다.\n"
     ]
    }
   ],
   "source": [
    "p1.print_info() #인스턴스에 있는 변수를 참조하여 메서드 실행은 인스턴스 메서드를 이용해야 한다."
   ]
  }
 ],
 "metadata": {
  "kernelspec": {
   "display_name": "Python 3",
   "language": "python",
   "name": "python3"
  },
  "language_info": {
   "codemirror_mode": {
    "name": "ipython",
    "version": 3
   },
   "file_extension": ".py",
   "mimetype": "text/x-python",
   "name": "python",
   "nbconvert_exporter": "python",
   "pygments_lexer": "ipython3",
   "version": "3.8.8"
  },
  "toc": {
   "base_numbering": 1,
   "nav_menu": {},
   "number_sections": true,
   "sideBar": true,
   "skip_h1_title": false,
   "title_cell": "Table of Contents",
   "title_sidebar": "Contents",
   "toc_cell": false,
   "toc_position": {},
   "toc_section_display": true,
   "toc_window_display": false
  }
 },
 "nbformat": 4,
 "nbformat_minor": 5
}
