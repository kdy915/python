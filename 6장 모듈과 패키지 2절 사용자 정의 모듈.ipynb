{
 "cells": [
  {
   "cell_type": "markdown",
   "id": "4680d313",
   "metadata": {},
   "source": [
    "### 모듈 만들기"
   ]
  },
  {
   "cell_type": "code",
   "execution_count": 1,
   "id": "a714937f",
   "metadata": {},
   "outputs": [
    {
     "data": {
      "text/plain": [
       "['C:\\\\projects\\\\python_workspace',\n",
       " 'C:\\\\Users\\\\san\\\\anaconda3\\\\python38.zip',\n",
       " 'C:\\\\Users\\\\san\\\\anaconda3\\\\DLLs',\n",
       " 'C:\\\\Users\\\\san\\\\anaconda3\\\\lib',\n",
       " 'C:\\\\Users\\\\san\\\\anaconda3',\n",
       " '',\n",
       " 'C:\\\\Users\\\\san\\\\anaconda3\\\\lib\\\\site-packages',\n",
       " 'C:\\\\Users\\\\san\\\\anaconda3\\\\lib\\\\site-packages\\\\locket-0.2.1-py3.8.egg',\n",
       " 'C:\\\\Users\\\\san\\\\anaconda3\\\\lib\\\\site-packages\\\\win32',\n",
       " 'C:\\\\Users\\\\san\\\\anaconda3\\\\lib\\\\site-packages\\\\win32\\\\lib',\n",
       " 'C:\\\\Users\\\\san\\\\anaconda3\\\\lib\\\\site-packages\\\\Pythonwin',\n",
       " 'C:\\\\Users\\\\san\\\\anaconda3\\\\lib\\\\site-packages\\\\IPython\\\\extensions',\n",
       " 'C:\\\\Users\\\\san\\\\.ipython']"
      ]
     },
     "execution_count": 1,
     "metadata": {},
     "output_type": "execute_result"
    }
   ],
   "source": [
    "import sys \n",
    "sys.path # path 경로를 보여줍니다"
   ]
  },
  {
   "cell_type": "code",
   "execution_count": 5,
   "id": "4b9b245e",
   "metadata": {},
   "outputs": [],
   "source": [
    "sys.path.append(r\"C:\\Users\\san\")"
   ]
  },
  {
   "cell_type": "code",
   "execution_count": 6,
   "id": "7063dc0a",
   "metadata": {},
   "outputs": [
    {
     "data": {
      "text/plain": [
       "['C:\\\\projects\\\\python_workspace',\n",
       " 'C:\\\\Users\\\\san\\\\anaconda3\\\\python38.zip',\n",
       " 'C:\\\\Users\\\\san\\\\anaconda3\\\\DLLs',\n",
       " 'C:\\\\Users\\\\san\\\\anaconda3\\\\lib',\n",
       " 'C:\\\\Users\\\\san\\\\anaconda3',\n",
       " '',\n",
       " 'C:\\\\Users\\\\san\\\\anaconda3\\\\lib\\\\site-packages',\n",
       " 'C:\\\\Users\\\\san\\\\anaconda3\\\\lib\\\\site-packages\\\\locket-0.2.1-py3.8.egg',\n",
       " 'C:\\\\Users\\\\san\\\\anaconda3\\\\lib\\\\site-packages\\\\win32',\n",
       " 'C:\\\\Users\\\\san\\\\anaconda3\\\\lib\\\\site-packages\\\\win32\\\\lib',\n",
       " 'C:\\\\Users\\\\san\\\\anaconda3\\\\lib\\\\site-packages\\\\Pythonwin',\n",
       " 'C:\\\\Users\\\\san\\\\anaconda3\\\\lib\\\\site-packages\\\\IPython\\\\extensions',\n",
       " 'C:\\\\Users\\\\san\\\\.ipython',\n",
       " 'c:\\\\san',\n",
       " 'C:\\\\Users\\\\san']"
      ]
     },
     "execution_count": 6,
     "metadata": {},
     "output_type": "execute_result"
    }
   ],
   "source": [
    "sys.path #경로에 추가한 경로가 포함되어 잇다"
   ]
  },
  {
   "cell_type": "code",
   "execution_count": 11,
   "id": "72912a42",
   "metadata": {},
   "outputs": [
    {
     "data": {
      "text/plain": [
       "\"\\nfibonacci.py 파일내용\\n    def fibo1(n):\\n\\ta, b = 0,1\\n\\twhile b<n:\\n\\t\\tprint(b, end=' ')\\n\\t\\ta, b = b, a+b\\n\\tprint()\\n\\ndef fibo2(n):\\n\\tresult = []\\n\\ta ,b = 0, 1\\n\\twhile b <n:\\n\\t\\tresult.append(b)\\n\\t\\ta, b = b, a+b\\n\\treturn result\\n\""
      ]
     },
     "execution_count": 11,
     "metadata": {},
     "output_type": "execute_result"
    }
   ],
   "source": [
    "import fibonacci\n",
    "import importlib\n",
    "importlib.reload(fibonacci) #한번 import한 모듈 및 패키지를 다시 import한다.(업데이트)\n",
    "'''\n",
    "fibonacci.py 파일내용\n",
    "    def fibo1(n):\n",
    "\ta, b = 0,1\n",
    "\twhile b<n:\n",
    "\t\tprint(b, end=' ')\n",
    "\t\ta, b = b, a+b\n",
    "\tprint()\n",
    "\n",
    "def fibo2(n):\n",
    "\tresult = []\n",
    "\ta ,b = 0, 1\n",
    "\twhile b <n:\n",
    "\t\tresult.append(b)\n",
    "\t\ta, b = b, a+b\n",
    "\treturn result\n",
    "'''\n",
    "# 위에 경로에 다음 파일을 생성해 놓았다"
   ]
  },
  {
   "cell_type": "code",
   "execution_count": 9,
   "id": "41a63141",
   "metadata": {},
   "outputs": [
    {
     "name": "stdout",
     "output_type": "stream",
     "text": [
      "1 1 2 3 5 8 13 21 34 55 89 144 \n"
     ]
    }
   ],
   "source": [
    "fibonacci.fibo1(200)"
   ]
  },
  {
   "cell_type": "code",
   "execution_count": 10,
   "id": "c8815581",
   "metadata": {},
   "outputs": [
    {
     "data": {
      "text/plain": [
       "[1, 1, 2, 3, 5, 8, 13, 21, 34, 55, 89, 144]"
      ]
     },
     "execution_count": 10,
     "metadata": {},
     "output_type": "execute_result"
    }
   ],
   "source": [
    "fibonacci.fibo2(200)"
   ]
  },
  {
   "cell_type": "code",
   "execution_count": 13,
   "id": "df04d575",
   "metadata": {},
   "outputs": [
    {
     "name": "stderr",
     "output_type": "stream",
     "text": [
      "python: can't open file 'fibonacci.py': [Errno 2] No such file or directory\n"
     ]
    }
   ],
   "source": [
    "! python fibonacci.py"
   ]
  },
  {
   "cell_type": "code",
   "execution_count": 14,
   "id": "ad619583",
   "metadata": {},
   "outputs": [],
   "source": [
    "! python C:\\Users\\san\\fibonacci.py"
   ]
  },
  {
   "cell_type": "code",
   "execution_count": 19,
   "id": "f18d9015",
   "metadata": {},
   "outputs": [
    {
     "name": "stdout",
     "output_type": "stream",
     "text": [
      "1 1 2 3 5 8 13 21 34 55 89 144 233 377 610 987 1597 \n"
     ]
    }
   ],
   "source": [
    "! python C:\\Users\\san\\fibonacci.py 2000\n",
    "#     fibonacci.py에 다음과 같이 추가 하여 실행되게 하였다.\n",
    "# if __name__ == \"__main__\":\n",
    "#     import sys\n",
    "#     if(len(sys.argv)==2):\n",
    "#         fibo1(int(sys.argv[1]))\n",
    "#     else:\n",
    "#         fibo2(200)"
   ]
  },
  {
   "cell_type": "code",
   "execution_count": 21,
   "id": "7dc9b8a0",
   "metadata": {},
   "outputs": [
    {
     "name": "stdout",
     "output_type": "stream",
     "text": [
      "1 1 2 3 5 8 13 21 34 55 89 144 233 377 610 987 1597 2584 \n"
     ]
    }
   ],
   "source": [
    "! python C:\\Users\\san\\fibonacci.py 3000"
   ]
  }
 ],
 "metadata": {
  "kernelspec": {
   "display_name": "Python 3",
   "language": "python",
   "name": "python3"
  },
  "language_info": {
   "codemirror_mode": {
    "name": "ipython",
    "version": 3
   },
   "file_extension": ".py",
   "mimetype": "text/x-python",
   "name": "python",
   "nbconvert_exporter": "python",
   "pygments_lexer": "ipython3",
   "version": "3.8.8"
  },
  "toc": {
   "base_numbering": 1,
   "nav_menu": {},
   "number_sections": true,
   "sideBar": true,
   "skip_h1_title": false,
   "title_cell": "Table of Contents",
   "title_sidebar": "Contents",
   "toc_cell": false,
   "toc_position": {},
   "toc_section_display": true,
   "toc_window_display": false
  }
 },
 "nbformat": 4,
 "nbformat_minor": 5
}
