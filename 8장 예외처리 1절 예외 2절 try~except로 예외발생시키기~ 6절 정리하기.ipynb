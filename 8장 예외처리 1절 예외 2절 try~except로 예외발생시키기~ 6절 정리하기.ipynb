{
 "cells": [
  {
   "cell_type": "markdown",
   "id": "4039f213",
   "metadata": {},
   "source": [
    "### 예외처리"
   ]
  },
  {
   "cell_type": "code",
   "execution_count": 3,
   "id": "5cbededd",
   "metadata": {},
   "outputs": [
    {
     "ename": "FileNotFoundError",
     "evalue": "[Errno 2] No such file or directory: '없는파일.txt'",
     "output_type": "error",
     "traceback": [
      "\u001b[1;31m---------------------------------------------------------------------------\u001b[0m",
      "\u001b[1;31mFileNotFoundError\u001b[0m                         Traceback (most recent call last)",
      "\u001b[1;32m<ipython-input-3-d3af3215ab02>\u001b[0m in \u001b[0;36m<module>\u001b[1;34m\u001b[0m\n\u001b[1;32m----> 1\u001b[1;33m \u001b[0mf\u001b[0m \u001b[1;33m=\u001b[0m \u001b[0mopen\u001b[0m\u001b[1;33m(\u001b[0m\u001b[1;34m'없는파일.txt'\u001b[0m\u001b[1;33m,\u001b[0m\u001b[1;34m'r'\u001b[0m\u001b[1;33m)\u001b[0m\u001b[1;33m\u001b[0m\u001b[1;33m\u001b[0m\u001b[0m\n\u001b[0m",
      "\u001b[1;31mFileNotFoundError\u001b[0m: [Errno 2] No such file or directory: '없는파일.txt'"
     ]
    }
   ],
   "source": [
    "f = open('없는파일.txt','r')"
   ]
  },
  {
   "cell_type": "code",
   "execution_count": 4,
   "id": "11e2ac21",
   "metadata": {},
   "outputs": [
    {
     "ename": "ZeroDivisionError",
     "evalue": "division by zero",
     "output_type": "error",
     "traceback": [
      "\u001b[1;31m---------------------------------------------------------------------------\u001b[0m",
      "\u001b[1;31mZeroDivisionError\u001b[0m                         Traceback (most recent call last)",
      "\u001b[1;32m<ipython-input-4-221068dc2815>\u001b[0m in \u001b[0;36m<module>\u001b[1;34m\u001b[0m\n\u001b[1;32m----> 1\u001b[1;33m \u001b[1;36m4\u001b[0m\u001b[1;33m/\u001b[0m\u001b[1;36m0\u001b[0m\u001b[1;33m\u001b[0m\u001b[1;33m\u001b[0m\u001b[0m\n\u001b[0m",
      "\u001b[1;31mZeroDivisionError\u001b[0m: division by zero"
     ]
    }
   ],
   "source": [
    "4/0"
   ]
  },
  {
   "cell_type": "code",
   "execution_count": 5,
   "id": "94608b0f",
   "metadata": {},
   "outputs": [
    {
     "ename": "IndexError",
     "evalue": "list index out of range",
     "output_type": "error",
     "traceback": [
      "\u001b[1;31m---------------------------------------------------------------------------\u001b[0m",
      "\u001b[1;31mIndexError\u001b[0m                                Traceback (most recent call last)",
      "\u001b[1;32m<ipython-input-5-663846eeaec3>\u001b[0m in \u001b[0;36m<module>\u001b[1;34m\u001b[0m\n\u001b[0;32m      1\u001b[0m \u001b[0ma\u001b[0m\u001b[1;33m=\u001b[0m\u001b[1;33m[\u001b[0m\u001b[1;36m1\u001b[0m\u001b[1;33m,\u001b[0m\u001b[1;36m2\u001b[0m\u001b[1;33m,\u001b[0m\u001b[1;36m3\u001b[0m\u001b[1;33m]\u001b[0m\u001b[1;33m\u001b[0m\u001b[1;33m\u001b[0m\u001b[0m\n\u001b[1;32m----> 2\u001b[1;33m \u001b[0ma\u001b[0m\u001b[1;33m[\u001b[0m\u001b[1;36m3\u001b[0m\u001b[1;33m]\u001b[0m\u001b[1;33m\u001b[0m\u001b[1;33m\u001b[0m\u001b[0m\n\u001b[0m",
      "\u001b[1;31mIndexError\u001b[0m: list index out of range"
     ]
    }
   ],
   "source": [
    "a=[1,2,3]\n",
    "a[3]"
   ]
  },
  {
   "cell_type": "code",
   "execution_count": 9,
   "id": "5ffb9cb5",
   "metadata": {},
   "outputs": [
    {
     "name": "stdout",
     "output_type": "stream",
     "text": [
      "<class 'Exception'>\n"
     ]
    }
   ],
   "source": [
    "print(Exception)\n",
    "#실제로 우리가 처리하는 에러들은 대부분 Exception클래스의 하위 클래스들이다"
   ]
  },
  {
   "cell_type": "markdown",
   "id": "75895029",
   "metadata": {},
   "source": [
    "### try ~ except로 예외 처리하기"
   ]
  },
  {
   "cell_type": "code",
   "execution_count": 14,
   "id": "a30a4389",
   "metadata": {},
   "outputs": [
    {
     "name": "stdout",
     "output_type": "stream",
     "text": [
      "정수를 입력하세요:hello\n",
      "유효한 정수가 아닙니다 다시 입력하세요\n",
      "정수를 입력하세요:3\n",
      "입력한 정수는 3입니다.\n",
      "100을 입력한 수로 나누면 33.333333333333336입니다.\n"
     ]
    }
   ],
   "source": [
    "while True:\n",
    "    try:\n",
    "        x = int(input('정수를 입력하세요:'))\n",
    "        print('입력한 정수는 {}입니다.'.format(x))\n",
    "        print('100을 입력한 수로 나누면 {}입니다.'.format(100/x))\n",
    "        break\n",
    "    except:\n",
    "        print('유효한 정수가 아닙니다 다시 입력하세요')"
   ]
  },
  {
   "cell_type": "code",
   "execution_count": 18,
   "id": "139aadc1",
   "metadata": {},
   "outputs": [
    {
     "name": "stdout",
     "output_type": "stream",
     "text": [
      "정수를 입력하세요:ㅗㄷ\n",
      "유효한 정수가 아닙니다 다시 입력하세요\n",
      "정수를 입력하세요:0\n",
      "입력한 정수는 0입니다.\n"
     ]
    },
    {
     "ename": "ZeroDivisionError",
     "evalue": "division by zero",
     "output_type": "error",
     "traceback": [
      "\u001b[1;31m---------------------------------------------------------------------------\u001b[0m",
      "\u001b[1;31mZeroDivisionError\u001b[0m                         Traceback (most recent call last)",
      "\u001b[1;32m<ipython-input-18-9fe5e401b433>\u001b[0m in \u001b[0;36m<module>\u001b[1;34m\u001b[0m\n\u001b[0;32m      3\u001b[0m         \u001b[0mx\u001b[0m \u001b[1;33m=\u001b[0m \u001b[0mint\u001b[0m\u001b[1;33m(\u001b[0m\u001b[0minput\u001b[0m\u001b[1;33m(\u001b[0m\u001b[1;34m'정수를 입력하세요:'\u001b[0m\u001b[1;33m)\u001b[0m\u001b[1;33m)\u001b[0m\u001b[1;33m\u001b[0m\u001b[1;33m\u001b[0m\u001b[0m\n\u001b[0;32m      4\u001b[0m         \u001b[0mprint\u001b[0m\u001b[1;33m(\u001b[0m\u001b[1;34m'입력한 정수는 {}입니다.'\u001b[0m\u001b[1;33m.\u001b[0m\u001b[0mformat\u001b[0m\u001b[1;33m(\u001b[0m\u001b[0mx\u001b[0m\u001b[1;33m)\u001b[0m\u001b[1;33m)\u001b[0m\u001b[1;33m\u001b[0m\u001b[1;33m\u001b[0m\u001b[0m\n\u001b[1;32m----> 5\u001b[1;33m         \u001b[0mprint\u001b[0m\u001b[1;33m(\u001b[0m\u001b[1;34m'100을 입력한 수로 나누면 {}입니다.'\u001b[0m\u001b[1;33m.\u001b[0m\u001b[0mformat\u001b[0m\u001b[1;33m(\u001b[0m\u001b[1;36m100\u001b[0m\u001b[1;33m/\u001b[0m\u001b[0mx\u001b[0m\u001b[1;33m)\u001b[0m\u001b[1;33m)\u001b[0m\u001b[1;33m\u001b[0m\u001b[1;33m\u001b[0m\u001b[0m\n\u001b[0m\u001b[0;32m      6\u001b[0m         \u001b[1;32mbreak\u001b[0m\u001b[1;33m\u001b[0m\u001b[1;33m\u001b[0m\u001b[0m\n\u001b[0;32m      7\u001b[0m     \u001b[1;32mexcept\u001b[0m \u001b[0mValueError\u001b[0m\u001b[1;33m:\u001b[0m \u001b[1;31m#특정 error에 대해서만 처리한다.\u001b[0m\u001b[1;33m\u001b[0m\u001b[1;33m\u001b[0m\u001b[0m\n",
      "\u001b[1;31mZeroDivisionError\u001b[0m: division by zero"
     ]
    }
   ],
   "source": [
    "while True:\n",
    "    try:\n",
    "        x = int(input('정수를 입력하세요:'))\n",
    "        print('입력한 정수는 {}입니다.'.format(x))\n",
    "        print('100을 입력한 수로 나누면 {}입니다.'.format(100/x))\n",
    "        break\n",
    "    except ValueError: #특정 error에 대해서만 처리한다.\n",
    "        print('유효한 정수가 아닙니다 다시 입력하세요')"
   ]
  },
  {
   "cell_type": "code",
   "execution_count": 19,
   "id": "f67f1216",
   "metadata": {},
   "outputs": [
    {
     "name": "stdout",
     "output_type": "stream",
     "text": [
      "정수를 입력하세요:ㅏㄱ\n",
      "유효한 정수가 아닙니다 다시 입력하세요\n",
      "정수를 입력하세요:0\n",
      "입력한 정수는 0입니다.\n",
      "0으로 나눌 수 없습니다.\n",
      "정수를 입력하세요:3\n",
      "입력한 정수는 3입니다.\n",
      "100을 입력한 수로 나누면 33.333333333333336입니다.\n"
     ]
    }
   ],
   "source": [
    "while True:\n",
    "    try:\n",
    "        x = int(input('정수를 입력하세요:'))\n",
    "        print('입력한 정수는 {}입니다.'.format(x))\n",
    "        print('100을 입력한 수로 나누면 {}입니다.'.format(100/x))\n",
    "        break\n",
    "    except ValueError: #특정 error에 대해서만 처리한다.\n",
    "        print('유효한 정수가 아닙니다 다시 입력하세요')\n",
    "    except ZeroDivisionError:\n",
    "        print('0으로 나눌 수 없습니다.')\n",
    "    #Exception오류를 제일 처음으로 하면 상위 클래스 에러에서 처리하고 끝나서\n",
    "    #value,zero 에러처리는 하지 않게 된다.\n",
    "    except Exception:\n",
    "        print('알수 없는 오류입니다.')"
   ]
  },
  {
   "cell_type": "code",
   "execution_count": 20,
   "id": "b0872009",
   "metadata": {},
   "outputs": [
    {
     "name": "stdout",
     "output_type": "stream",
     "text": [
      "정수를 입력하세요:ㅁㄴㄴ\n",
      "유효한 수가 아닙니다. 다시 시도해 주세요.\n",
      "정수를 입력하세요:0\n",
      "입력한 정수는 0입니다.\n",
      "유효한 수가 아닙니다. 다시 시도해 주세요.\n",
      "정수를 입력하세요:3\n",
      "입력한 정수는 3입니다.\n",
      "100을 입력한 수로 나누면 33.333333333333336입니다.\n"
     ]
    }
   ],
   "source": [
    "while True:\n",
    "    try:\n",
    "        x = int(input('정수를 입력하세요:'))\n",
    "        print('입력한 정수는 {}입니다.'.format(x))\n",
    "        print('100을 입력한 수로 나누면 {}입니다.'.format(100/x))\n",
    "        break\n",
    "    except (ValueError,ZeroDivisionError): \n",
    "        print('유효한 수가 아닙니다. 다시 시도해 주세요.')"
   ]
  },
  {
   "cell_type": "code",
   "execution_count": 21,
   "id": "8fa3acc7",
   "metadata": {},
   "outputs": [
    {
     "name": "stdout",
     "output_type": "stream",
     "text": [
      "파일이 없습니다.\n"
     ]
    }
   ],
   "source": [
    "try:\n",
    "    f=open('myfile.txt','r')\n",
    "except FileNotFoundError:\n",
    "    print(\"파일이 없습니다.\")\n",
    "else:\n",
    "    data=f.read()\n",
    "    print(data)"
   ]
  },
  {
   "cell_type": "code",
   "execution_count": 22,
   "id": "1b3e9fbc",
   "metadata": {},
   "outputs": [
    {
     "name": "stdout",
     "output_type": "stream",
     "text": [
      "hello myfile\n"
     ]
    }
   ],
   "source": [
    "try: #myfile.txt를 생성했을 때 동작하는 구문입니다\n",
    "    f=open('myfile.txt','r') \n",
    "except FileNotFoundError:\n",
    "    print(\"파일이 없습니다.\")\n",
    "else:\n",
    "    data=f.read()\n",
    "    print(data)"
   ]
  },
  {
   "cell_type": "code",
   "execution_count": 25,
   "id": "0122da2e",
   "metadata": {},
   "outputs": [
    {
     "name": "stdout",
     "output_type": "stream",
     "text": [
      "정수를 입력하세요:0\n",
      "입력한 정수는 0입니다\n",
      "예외 유형 <class 'ZeroDivisionError'>\n",
      "예외 메시지 ('division by zero',)\n",
      "예외 division by zero\n",
      "정수를 입력하세요:ㅁㄴ\n",
      "예외 유형 <class 'ValueError'>\n",
      "예외 메시지 (\"invalid literal for int() with base 10: 'ㅁㄴ'\",)\n",
      "예외 invalid literal for int() with base 10: 'ㅁㄴ'\n",
      "정수를 입력하세요:3\n",
      "입력한 정수는 3입니다\n",
      "100을 입력한 수로 나누면 33.333333333333336입니다.\n"
     ]
    }
   ],
   "source": [
    "while True:\n",
    "    try:\n",
    "        x=int(input(\"정수를 입력하세요:\"))\n",
    "        print('입력한 정수는 {}입니다'.format(x))\n",
    "        print('100을 입력한 수로 나누면 {}입니다.'.format(100/x))\n",
    "        break\n",
    "    except(ValueError,ZeroDivisionError) as e:\n",
    "        print(\"예외 유형\",type(e))\n",
    "        print(\"예외 메시지\",e.args)\n",
    "        print(\"예외\",e)"
   ]
  },
  {
   "cell_type": "markdown",
   "id": "06ef6fb0",
   "metadata": {},
   "source": [
    "### 8장 연습문제 실습형"
   ]
  },
  {
   "cell_type": "code",
   "execution_count": 27,
   "id": "02cad250",
   "metadata": {},
   "outputs": [
    {
     "name": "stdout",
     "output_type": "stream",
     "text": [
      "첫 번째 숫자를 입력하시오ge\n",
      "유효한 숫자가 아닙니다 다시 시도해주세요\n",
      "첫 번째 숫자를 입력하시오3\n",
      "두 번째 숫자를 입력하시오3\n",
      "입력한 숫자는 3.0와3.0입니다.\n",
      "3.0을 3.0로 나누면 1.0입니다\n"
     ]
    }
   ],
   "source": [
    "while True:\n",
    "    try:\n",
    "        a=float(input(\"첫 번째 숫자를 입력하시오\"))\n",
    "        b=float(input(\"두 번째 숫자를 입력하시오\"))\n",
    "        print(\"입력한 숫자는 {}와{}입니다.\".format(a,b))\n",
    "        print(\"{}을 {}로 나누면 {}입니다\".format(a,b,a/b))\n",
    "        break\n",
    "    except(Exception):\n",
    "        print(\"유효한 숫자가 아닙니다 다시 시도해주세요\")"
   ]
  },
  {
   "cell_type": "code",
   "execution_count": 29,
   "id": "6703a855",
   "metadata": {},
   "outputs": [
    {
     "name": "stdout",
     "output_type": "stream",
     "text": [
      "첫 번째 숫자를 입력하시오ㅁㄴ\n",
      "유효한 수가 아닙니다 다시 시도하세요\n",
      "첫 번째 숫자를 입력하시오3\n",
      "두 번째 숫자를 입력하시오0\n",
      "입력한 숫자는 3.0와0.0입니다.\n",
      "0으로 나눌 수 없습니다. 다시 시도하세요\n",
      "첫 번째 숫자를 입력하시오6\n",
      "두 번째 숫자를 입력하시오3\n",
      "입력한 숫자는 6.0와3.0입니다.\n",
      "6.0을 3.0로 나누면 2.0입니다\n"
     ]
    }
   ],
   "source": [
    "while True:\n",
    "    try:\n",
    "        a=float(input(\"첫 번째 숫자를 입력하시오\"))\n",
    "        b=float(input(\"두 번째 숫자를 입력하시오\"))\n",
    "        print(\"입력한 숫자는 {}와{}입니다.\".format(a,b))\n",
    "        print(\"{}을 {}로 나누면 {}입니다\".format(a,b,a/b))\n",
    "        break\n",
    "    except ZeroDivisionError:\n",
    "        print(\"0으로 나눌 수 없습니다. 다시 시도하세요\")\n",
    "    except ValueError:\n",
    "        print(\"유효한 수가 아닙니다 다시 시도하세요\")"
   ]
  },
  {
   "cell_type": "markdown",
   "id": "d73c7dfe",
   "metadata": {},
   "source": [
    "문제 풀이형"
   ]
  },
  {
   "cell_type": "markdown",
   "id": "26588939",
   "metadata": {},
   "source": [
    "1. 3번 정답 상위 예외처리는 하위 처리 이후에 작성하여야 한다\n",
    "2. 2번 정답 python에서는 예외처리를 except로 한다.\n",
    "3. 4번 정답 예외 인수는 as e를 사용해서 해야 한다.\n",
    "4. 3번 정답 with는 정리하는데 사용한다."
   ]
  }
 ],
 "metadata": {
  "kernelspec": {
   "display_name": "Python 3",
   "language": "python",
   "name": "python3"
  },
  "language_info": {
   "codemirror_mode": {
    "name": "ipython",
    "version": 3
   },
   "file_extension": ".py",
   "mimetype": "text/x-python",
   "name": "python",
   "nbconvert_exporter": "python",
   "pygments_lexer": "ipython3",
   "version": "3.8.8"
  },
  "toc": {
   "base_numbering": 1,
   "nav_menu": {},
   "number_sections": true,
   "sideBar": true,
   "skip_h1_title": false,
   "title_cell": "Table of Contents",
   "title_sidebar": "Contents",
   "toc_cell": false,
   "toc_position": {},
   "toc_section_display": true,
   "toc_window_display": false
  }
 },
 "nbformat": 4,
 "nbformat_minor": 5
}
