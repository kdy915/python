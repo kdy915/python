{
 "cells": [
  {
   "cell_type": "markdown",
   "id": "75b9cc3e",
   "metadata": {},
   "source": [
    "### raise로 예외 발생시키기"
   ]
  },
  {
   "cell_type": "code",
   "execution_count": 1,
   "id": "ad1f5d1c",
   "metadata": {},
   "outputs": [
    {
     "ename": "NameError",
     "evalue": "예외가 발생했어요.",
     "output_type": "error",
     "traceback": [
      "\u001b[1;31m---------------------------------------------------------------------------\u001b[0m",
      "\u001b[1;31mNameError\u001b[0m                                 Traceback (most recent call last)",
      "\u001b[1;32m<ipython-input-1-b6cf04e3c8e3>\u001b[0m in \u001b[0;36m<module>\u001b[1;34m\u001b[0m\n\u001b[1;32m----> 1\u001b[1;33m \u001b[1;32mraise\u001b[0m \u001b[0mNameError\u001b[0m\u001b[1;33m(\u001b[0m\u001b[1;34m\"예외가 발생했어요.\"\u001b[0m\u001b[1;33m)\u001b[0m\u001b[1;33m\u001b[0m\u001b[1;33m\u001b[0m\u001b[0m\n\u001b[0m",
      "\u001b[1;31mNameError\u001b[0m: 예외가 발생했어요."
     ]
    }
   ],
   "source": [
    "raise NameError(\"예외가 발생했어요.\")"
   ]
  },
  {
   "cell_type": "markdown",
   "id": "7516d999",
   "metadata": {},
   "source": [
    "추상클래스"
   ]
  },
  {
   "cell_type": "code",
   "execution_count": 4,
   "id": "f03f65e3",
   "metadata": {},
   "outputs": [],
   "source": [
    "# 피호출자(callee)\n",
    "def insert(data):\n",
    "    if len(data)==0:\n",
    "        raise Exception(\"데이터의 길이가 0이면 입력할 수 없습니다.\")\n",
    "    print(data,\"을 입력합니다.\",sep='')"
   ]
  },
  {
   "cell_type": "code",
   "execution_count": 5,
   "id": "38ca9370",
   "metadata": {},
   "outputs": [
    {
     "name": "stdout",
     "output_type": "stream",
     "text": [
      "데이터의 길이가 0이면 입력할 수 없습니다.\n"
     ]
    }
   ],
   "source": [
    "# 호출자(caller)\n",
    "# data = [1,2,3]\n",
    "data=[]\n",
    "try:\n",
    "    insert(data)\n",
    "except Exception as e:\n",
    "    print(e.args[0])\n",
    "else:\n",
    "    print(\"정상 실행되었습니다.\")"
   ]
  },
  {
   "cell_type": "markdown",
   "id": "c88db1b9",
   "metadata": {},
   "source": [
    "### raise로 추상 클래스 정의하기"
   ]
  },
  {
   "cell_type": "code",
   "execution_count": 6,
   "id": "409d3c0d",
   "metadata": {},
   "outputs": [],
   "source": [
    "class Shape: #다음과 같이 사용하면 Shape 클래스는 부모 클래스로만 사용가능\n",
    "    def __init__(self):\n",
    "        raise NotImplementedError"
   ]
  },
  {
   "cell_type": "code",
   "execution_count": 7,
   "id": "43dcc4c5",
   "metadata": {},
   "outputs": [
    {
     "ename": "NotImplementedError",
     "evalue": "",
     "output_type": "error",
     "traceback": [
      "\u001b[1;31m---------------------------------------------------------------------------\u001b[0m",
      "\u001b[1;31mNotImplementedError\u001b[0m                       Traceback (most recent call last)",
      "\u001b[1;32m<ipython-input-7-1fefe59c4cd0>\u001b[0m in \u001b[0;36m<module>\u001b[1;34m\u001b[0m\n\u001b[1;32m----> 1\u001b[1;33m \u001b[0mmyShape\u001b[0m\u001b[1;33m=\u001b[0m\u001b[0mShape\u001b[0m\u001b[1;33m(\u001b[0m\u001b[1;33m)\u001b[0m\u001b[1;33m\u001b[0m\u001b[1;33m\u001b[0m\u001b[0m\n\u001b[0m",
      "\u001b[1;32m<ipython-input-6-5c89b96f6e39>\u001b[0m in \u001b[0;36m__init__\u001b[1;34m(self)\u001b[0m\n\u001b[0;32m      1\u001b[0m \u001b[1;32mclass\u001b[0m \u001b[0mShape\u001b[0m\u001b[1;33m:\u001b[0m\u001b[1;33m\u001b[0m\u001b[1;33m\u001b[0m\u001b[0m\n\u001b[0;32m      2\u001b[0m     \u001b[1;32mdef\u001b[0m \u001b[0m__init__\u001b[0m\u001b[1;33m(\u001b[0m\u001b[0mself\u001b[0m\u001b[1;33m)\u001b[0m\u001b[1;33m:\u001b[0m\u001b[1;33m\u001b[0m\u001b[1;33m\u001b[0m\u001b[0m\n\u001b[1;32m----> 3\u001b[1;33m         \u001b[1;32mraise\u001b[0m \u001b[0mNotImplementedError\u001b[0m\u001b[1;33m\u001b[0m\u001b[1;33m\u001b[0m\u001b[0m\n\u001b[0m",
      "\u001b[1;31mNotImplementedError\u001b[0m: "
     ]
    }
   ],
   "source": [
    "myShape=Shape()"
   ]
  },
  {
   "cell_type": "code",
   "execution_count": 8,
   "id": "bdd018ef",
   "metadata": {},
   "outputs": [],
   "source": [
    "class Circle(Shape):\n",
    "    def __init__(self):\n",
    "        pass"
   ]
  },
  {
   "cell_type": "code",
   "execution_count": 9,
   "id": "2feeffd6",
   "metadata": {},
   "outputs": [],
   "source": [
    "my_Circle=Circle()"
   ]
  },
  {
   "cell_type": "code",
   "execution_count": 10,
   "id": "b0d8f17c",
   "metadata": {},
   "outputs": [
    {
     "name": "stdout",
     "output_type": "stream",
     "text": [
      "<__main__.Circle object at 0x00000206E4063E20>\n"
     ]
    }
   ],
   "source": [
    "print(my_Circle)"
   ]
  },
  {
   "cell_type": "code",
   "execution_count": 11,
   "id": "5bc93394",
   "metadata": {},
   "outputs": [
    {
     "name": "stdout",
     "output_type": "stream",
     "text": [
      "True\n"
     ]
    }
   ],
   "source": [
    "print(isinstance(my_Circle,Shape))"
   ]
  },
  {
   "cell_type": "markdown",
   "id": "20722741",
   "metadata": {},
   "source": [
    "추상 메서드"
   ]
  },
  {
   "cell_type": "code",
   "execution_count": 12,
   "id": "a111553f",
   "metadata": {},
   "outputs": [],
   "source": [
    "class Shape:\n",
    "    def __init__(self):\n",
    "        raise NotimplementedError\n",
    "    def calc_area(self):\n",
    "        raise NotimplementedError"
   ]
  },
  {
   "cell_type": "code",
   "execution_count": 13,
   "id": "5c5515ae",
   "metadata": {},
   "outputs": [],
   "source": [
    "class Circle(Shape):\n",
    "    def __init__(self,radius):\n",
    "        self.radius=radius"
   ]
  },
  {
   "cell_type": "code",
   "execution_count": 14,
   "id": "4bbd2d76",
   "metadata": {},
   "outputs": [],
   "source": [
    "my_Circle=Circle(4.5)"
   ]
  },
  {
   "cell_type": "code",
   "execution_count": 15,
   "id": "2b17d8b2",
   "metadata": {},
   "outputs": [
    {
     "ename": "NameError",
     "evalue": "name 'NotimplementedError' is not defined",
     "output_type": "error",
     "traceback": [
      "\u001b[1;31m---------------------------------------------------------------------------\u001b[0m",
      "\u001b[1;31mNameError\u001b[0m                                 Traceback (most recent call last)",
      "\u001b[1;32m<ipython-input-15-f213c2c1b7b6>\u001b[0m in \u001b[0;36m<module>\u001b[1;34m\u001b[0m\n\u001b[1;32m----> 1\u001b[1;33m \u001b[0mmy_Circle\u001b[0m\u001b[1;33m.\u001b[0m\u001b[0mcalc_area\u001b[0m\u001b[1;33m(\u001b[0m\u001b[1;33m)\u001b[0m\u001b[1;33m\u001b[0m\u001b[1;33m\u001b[0m\u001b[0m\n\u001b[0m",
      "\u001b[1;32m<ipython-input-12-5ddccac67c70>\u001b[0m in \u001b[0;36mcalc_area\u001b[1;34m(self)\u001b[0m\n\u001b[0;32m      3\u001b[0m         \u001b[1;32mraise\u001b[0m \u001b[0mNotimplementedError\u001b[0m\u001b[1;33m\u001b[0m\u001b[1;33m\u001b[0m\u001b[0m\n\u001b[0;32m      4\u001b[0m     \u001b[1;32mdef\u001b[0m \u001b[0mcalc_area\u001b[0m\u001b[1;33m(\u001b[0m\u001b[0mself\u001b[0m\u001b[1;33m)\u001b[0m\u001b[1;33m:\u001b[0m\u001b[1;33m\u001b[0m\u001b[1;33m\u001b[0m\u001b[0m\n\u001b[1;32m----> 5\u001b[1;33m         \u001b[1;32mraise\u001b[0m \u001b[0mNotimplementedError\u001b[0m\u001b[1;33m\u001b[0m\u001b[1;33m\u001b[0m\u001b[0m\n\u001b[0m",
      "\u001b[1;31mNameError\u001b[0m: name 'NotimplementedError' is not defined"
     ]
    }
   ],
   "source": [
    "my_Circle.calc_area() # 추상메서드로 Circle 클래스에서 재정의 하지 않으면 사용불가"
   ]
  },
  {
   "cell_type": "code",
   "execution_count": 18,
   "id": "d1a89d0e",
   "metadata": {},
   "outputs": [],
   "source": [
    "class Circle(Shape):\n",
    "    def __init__(self,radius):\n",
    "        self.radius=radius\n",
    "    def calc_area(self):\n",
    "        return self.radius*self.radius*3.14"
   ]
  },
  {
   "cell_type": "code",
   "execution_count": 19,
   "id": "0f18d008",
   "metadata": {},
   "outputs": [
    {
     "data": {
      "text/plain": [
       "63.585"
      ]
     },
     "execution_count": 19,
     "metadata": {},
     "output_type": "execute_result"
    }
   ],
   "source": [
    "my_circle=Circle(4.5)\n",
    "my_circle.calc_area()"
   ]
  },
  {
   "cell_type": "markdown",
   "id": "fa3d2af6",
   "metadata": {},
   "source": [
    "### 사용자 정의 예외"
   ]
  },
  {
   "cell_type": "code",
   "execution_count": 20,
   "id": "72c36786",
   "metadata": {},
   "outputs": [],
   "source": [
    "class Error(Exception):\n",
    "    '''이 모듈에서 사용하는 기본 예외입니다.'''\n",
    "    pass"
   ]
  },
  {
   "cell_type": "code",
   "execution_count": 21,
   "id": "ef34cb1b",
   "metadata": {},
   "outputs": [],
   "source": [
    "class InputError(Error): #Error를 상속받아서 표현식과 메시지를 저장해 놓는 방법이다.\n",
    "    \"\"\"입력오류를 정의하는 예외입니다.\n",
    "    속성:\n",
    "        expression -- 예외가 발생하는 입력 표현식\n",
    "        message -- 오류 설명\n",
    "    \"\"\"\n",
    "    \n",
    "    def __init__(self,expression,message):\n",
    "        self.expression = expression\n",
    "        self.message=message"
   ]
  },
  {
   "cell_type": "code",
   "execution_count": 22,
   "id": "7f3116ec",
   "metadata": {},
   "outputs": [],
   "source": [
    "class ZeroLengthError(Exception):\n",
    "    '''길이가 0일 때 발생하는 예외'''\n",
    "    def __init__(self):\n",
    "        Exception.__init__(self, \"사용자 정의 예외 : 길이가 0입니다.\")"
   ]
  },
  {
   "cell_type": "code",
   "execution_count": 23,
   "id": "4de232d5",
   "metadata": {},
   "outputs": [],
   "source": [
    "def insert(data):\n",
    "    if len(data)==0:\n",
    "        raise ZeroLengthError\n",
    "    print(data,\"를 입력합니다.\",sep=\"\")"
   ]
  },
  {
   "cell_type": "code",
   "execution_count": 25,
   "id": "f11ac67d",
   "metadata": {},
   "outputs": [
    {
     "name": "stdout",
     "output_type": "stream",
     "text": [
      "사용자 정의 예외 : 길이가 0입니다.\n"
     ]
    }
   ],
   "source": [
    "#data=[1,2,3,4]\n",
    "data=[]\n",
    "try:\n",
    "    insert(data)\n",
    "except ZeroLengthError as e:\n",
    "    print(e.args[0])\n",
    "else:\n",
    "    print(\"정상 실행되었습니다.\")"
   ]
  },
  {
   "cell_type": "markdown",
   "id": "f877e7e6",
   "metadata": {},
   "source": [
    "### 정리작업"
   ]
  },
  {
   "cell_type": "code",
   "execution_count": 26,
   "id": "03e29f1f",
   "metadata": {},
   "outputs": [],
   "source": [
    "try:\n",
    "    f=open('myfile.txt','r')\n",
    "    #1 파일이 열린 후 실행되어야 하는 코드\n",
    "except FileNotFoundError as e:\n",
    "    print(str(e))\n",
    "else:\n",
    "    #2 파일을 읽기 전에 실행해야 하는 코드\n",
    "    data=f.read()"
   ]
  },
  {
   "cell_type": "code",
   "execution_count": 28,
   "id": "231a5fde",
   "metadata": {},
   "outputs": [
    {
     "name": "stdout",
     "output_type": "stream",
     "text": [
      "hello myfile\n"
     ]
    }
   ],
   "source": [
    "try:\n",
    "    f=open('myfile.txt','r')\n",
    "except FileNotFoundError as e:\n",
    "    print(str(e))\n",
    "else:\n",
    "    data=f.read()\n",
    "    print(data)\n",
    "finally: #예외처리와 상관없이 항상 실행한다.\n",
    "    f.close "
   ]
  },
  {
   "cell_type": "code",
   "execution_count": 29,
   "id": "e08d5793",
   "metadata": {},
   "outputs": [
    {
     "name": "stdout",
     "output_type": "stream",
     "text": [
      "hello myfile"
     ]
    }
   ],
   "source": [
    "for line in open('myfile.txt'): # 파일을 닫지 않아서 불확실한 시간동안 파일이 열려있다.\n",
    "    print(line, end='')"
   ]
  },
  {
   "cell_type": "code",
   "execution_count": 30,
   "id": "59efa815",
   "metadata": {},
   "outputs": [
    {
     "name": "stdout",
     "output_type": "stream",
     "text": [
      "hello myfile"
     ]
    }
   ],
   "source": [
    "with open('myfile.txt') as f:#with을 사용하면 파일과같은객체를 항상 신속하게 정리 가능.\n",
    "    for line in f:\n",
    "        print(line,end='')"
   ]
  }
 ],
 "metadata": {
  "kernelspec": {
   "display_name": "Python 3",
   "language": "python",
   "name": "python3"
  },
  "language_info": {
   "codemirror_mode": {
    "name": "ipython",
    "version": 3
   },
   "file_extension": ".py",
   "mimetype": "text/x-python",
   "name": "python",
   "nbconvert_exporter": "python",
   "pygments_lexer": "ipython3",
   "version": "3.8.8"
  },
  "toc": {
   "base_numbering": 1,
   "nav_menu": {},
   "number_sections": true,
   "sideBar": true,
   "skip_h1_title": false,
   "title_cell": "Table of Contents",
   "title_sidebar": "Contents",
   "toc_cell": false,
   "toc_position": {},
   "toc_section_display": true,
   "toc_window_display": false
  }
 },
 "nbformat": 4,
 "nbformat_minor": 5
}
