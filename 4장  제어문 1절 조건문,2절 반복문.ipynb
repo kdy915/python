{
 "cells": [
  {
   "cell_type": "markdown",
   "id": "ef898767",
   "metadata": {},
   "source": [
    "### 조건문"
   ]
  },
  {
   "cell_type": "code",
   "execution_count": 2,
   "id": "c8abd1a6",
   "metadata": {},
   "outputs": [],
   "source": [
    "score = 80\n",
    "if score>=90:\n",
    "    print(\"A\")"
   ]
  },
  {
   "cell_type": "code",
   "execution_count": 3,
   "id": "08e20a0d",
   "metadata": {},
   "outputs": [
    {
     "name": "stdout",
     "output_type": "stream",
     "text": [
      "불합격\n"
     ]
    }
   ],
   "source": [
    "score =50\n",
    "if score>=70:\n",
    "    print(\"합격\")\n",
    "else:\n",
    "    print(\"불합격\")"
   ]
  },
  {
   "cell_type": "code",
   "execution_count": 4,
   "id": "815e412d",
   "metadata": {},
   "outputs": [
    {
     "name": "stdout",
     "output_type": "stream",
     "text": [
      "C\n"
     ]
    }
   ],
   "source": [
    "score = 79\n",
    "if score>= 90:\n",
    "    print('A')\n",
    "elif score >= 80:\n",
    "    print('B')\n",
    "elif score >= 70:\n",
    "    print('C')\n",
    "elif score >= 60:\n",
    "    print('D')\n",
    "else:\n",
    "    print('f')"
   ]
  },
  {
   "cell_type": "markdown",
   "id": "42b28d53",
   "metadata": {},
   "source": [
    "###### if 예습 문제"
   ]
  },
  {
   "cell_type": "code",
   "execution_count": 17,
   "id": "6d0972d4",
   "metadata": {},
   "outputs": [
    {
     "name": "stdout",
     "output_type": "stream",
     "text": [
      "75\n",
      "C\n"
     ]
    }
   ],
   "source": [
    "# 키보드로 점수를 입력<-- 0-100 사이로 정수가 입력된 것을 가정.\n",
    "# 90점 이상 \"a\"\n",
    "# 80-89점 \"b\"\n",
    "# 70-79점 \"c\"\n",
    "# 60-69점 \"d\"\n",
    "# 그 이외 \"f\"\n",
    "score = int(input())\n",
    "if score>=90:\n",
    "    print(\"A\")\n",
    "elif score>=80:\n",
    "    print(\"B\")\n",
    "elif score>=70:\n",
    "    print(\"C\")\n",
    "elif score>=60:\n",
    "    print(\"D\")\n",
    "else:\n",
    "    print(\"F\")"
   ]
  },
  {
   "cell_type": "markdown",
   "id": "348bb6c8",
   "metadata": {},
   "source": [
    "### 주사위 문제"
   ]
  },
  {
   "cell_type": "code",
   "execution_count": 203,
   "id": "1ab1d9ee",
   "metadata": {},
   "outputs": [
    {
     "name": "stdout",
     "output_type": "stream",
     "text": [
      "4\n",
      "11\n",
      "1400\n",
      "0\n",
      "46\n",
      "4\n"
     ]
    }
   ],
   "source": [
    "from random import random\n",
    "# score 범위 1~6\n",
    "score = int(random()*6+1)\n",
    "print(score)\n",
    "# score 범위 4~12\n",
    "score = int(random()*12+4)\n",
    "print(score)\n",
    "# 아래 숫자의 정수가 발생되도록 난수 발생\n",
    "#   600 700 800 900 1000 ~ 2300\n",
    "score = int(random()*18+6)*100\n",
    "print(score)\n",
    "import random\n",
    "# 0~9 정수 난수 발생\n",
    "print(random.randrange(10))\n",
    "# 0~100 짝수 정수 난수 발생\n",
    "print(random.randrange(0,100+1,2))\n",
    "# 1~6 난수 발생\n",
    "print(random.randint(1,6))"
   ]
  },
  {
   "cell_type": "markdown",
   "id": "f18982f1",
   "metadata": {},
   "source": [
    "##### 가위바위보 문제"
   ]
  },
  {
   "cell_type": "code",
   "execution_count": 245,
   "id": "3c9737e0",
   "metadata": {},
   "outputs": [
    {
     "name": "stdout",
     "output_type": "stream",
     "text": [
      "you: 바위\n",
      "com : 가위\n",
      "승리입니다.\n"
     ]
    }
   ],
   "source": [
    "# 가위는 1, 바위는 2, 보는 3\n",
    "# you : 가위\n",
    "# com : 보\n",
    "# 당신의 승리, 패배 무승부\n",
    "me = input(\"you: \")\n",
    "com = int(random.randint(1,3))\n",
    "dic = {1:\"가위\", 2:\"바위\", 3:\"보\"}\n",
    "print(\"com : {}\".format(dic.get(com)))\n",
    "if me == dic.get(com):\n",
    "    print(\"무승부입니다.\")\n",
    "elif me =='가위':\n",
    "    if dic.get(com)==\"바위\":\n",
    "        print(\"패배입니다\")\n",
    "    else:\n",
    "        print(\"승리입니다.\")\n",
    "elif me =='바위':\n",
    "    if dic.get(com)=='보':\n",
    "        print(\"패배입니다\")\n",
    "    else:\n",
    "        print(\"승리입니다.\")\n",
    "elif me =='보':\n",
    "    if dic.get(com)=='가위':\n",
    "        print(\"패배입니다\")\n",
    "    else:\n",
    "        print(\"승리입니다.\")\n",
    "else:\n",
    "    print(\"오류, 다시입력\")\n"
   ]
  },
  {
   "cell_type": "markdown",
   "id": "2ce2bafb",
   "metadata": {},
   "source": [
    "### 반복문"
   ]
  },
  {
   "cell_type": "code",
   "execution_count": 5,
   "id": "d0043b17",
   "metadata": {},
   "outputs": [
    {
     "name": "stdout",
     "output_type": "stream",
     "text": [
      "0\t1\t2\t3\t4\t5\t6\t7\t8\t9\t"
     ]
    }
   ],
   "source": [
    "for i in [0,1,2,3,4,5,6,7,8,9]:\n",
    "    print(i, end='\\t')"
   ]
  },
  {
   "cell_type": "code",
   "execution_count": 6,
   "id": "6f363392",
   "metadata": {},
   "outputs": [
    {
     "name": "stdout",
     "output_type": "stream",
     "text": [
      "0\n",
      "1\n",
      "2\n",
      "3\n",
      "4\n",
      "5\n",
      "6\n",
      "7\n",
      "8\n",
      "9\n"
     ]
    }
   ],
   "source": [
    "for i in range(0,10):\n",
    "    print(i)"
   ]
  },
  {
   "cell_type": "code",
   "execution_count": 7,
   "id": "b7d6063d",
   "metadata": {},
   "outputs": [
    {
     "name": "stdout",
     "output_type": "stream",
     "text": [
      "apple\n",
      "banana\n",
      "candy\n"
     ]
    }
   ],
   "source": [
    "fruits = (\"apple\", \"banana\", \"candy\")\n",
    "for fruit in fruits:\n",
    "    print(fruit)"
   ]
  },
  {
   "cell_type": "code",
   "execution_count": 8,
   "id": "090d3e63",
   "metadata": {},
   "outputs": [
    {
     "name": "stdout",
     "output_type": "stream",
     "text": [
      "apple\n",
      "banana\n",
      "cherry\n"
     ]
    }
   ],
   "source": [
    "color={'apple':'red', 'banana':'yello', 'cherry': 'red'}\n",
    "for c in color:\n",
    "    print(c)"
   ]
  },
  {
   "cell_type": "code",
   "execution_count": 9,
   "id": "4cdb95a7",
   "metadata": {},
   "outputs": [
    {
     "name": "stdout",
     "output_type": "stream",
     "text": [
      "('apple', 'red')\n",
      "('banana', 'yello')\n",
      "('cherry', 'red')\n"
     ]
    }
   ],
   "source": [
    "for c in color.items():\n",
    "    print(c)"
   ]
  },
  {
   "cell_type": "code",
   "execution_count": 10,
   "id": "36f27a5a",
   "metadata": {},
   "outputs": [
    {
     "name": "stdout",
     "output_type": "stream",
     "text": [
      "apple red\n",
      "banana yello\n",
      "cherry red\n"
     ]
    }
   ],
   "source": [
    "for c,d in color.items():\n",
    "    print(c,d)"
   ]
  },
  {
   "cell_type": "code",
   "execution_count": 11,
   "id": "f3c82080",
   "metadata": {},
   "outputs": [
    {
     "name": "stdout",
     "output_type": "stream",
     "text": [
      "0 apple\n",
      "1 banana\n",
      "2 cherry\n"
     ]
    }
   ],
   "source": [
    "for i, v in enumerate(color):\n",
    "    print (i, v)"
   ]
  },
  {
   "cell_type": "code",
   "execution_count": 14,
   "id": "fee8b7f8",
   "metadata": {},
   "outputs": [
    {
     "name": "stdout",
     "output_type": "stream",
     "text": [
      "[1, 9, 25, 49, 81]\n"
     ]
    }
   ],
   "source": [
    "numbers = range(10)\n",
    "new_list=[]\n",
    "for i in numbers:\n",
    "    if i%2 != 0:\n",
    "        new_list.append(i**2)\n",
    "print(new_list)"
   ]
  },
  {
   "cell_type": "markdown",
   "id": "5e6b5b64",
   "metadata": {},
   "source": [
    "### while 반복문"
   ]
  },
  {
   "cell_type": "code",
   "execution_count": 18,
   "id": "0d79cba7",
   "metadata": {},
   "outputs": [
    {
     "name": "stdout",
     "output_type": "stream",
     "text": [
      "0 1 2 3 4 5 6 7 8 9 10 "
     ]
    }
   ],
   "source": [
    "i = 0\n",
    "while i<=10:\n",
    "    print(i, end=' ')\n",
    "    i=i+1"
   ]
  },
  {
   "cell_type": "code",
   "execution_count": 19,
   "id": "3c8f197e",
   "metadata": {},
   "outputs": [
    {
     "name": "stdout",
     "output_type": "stream",
     "text": [
      "1 3 5 7 9 "
     ]
    }
   ],
   "source": [
    "num=0\n",
    "while num<=10:\n",
    "    if num %2 ==1:\n",
    "        print(num,end=' ')\n",
    "    num+=1"
   ]
  },
  {
   "cell_type": "markdown",
   "id": "29471e48",
   "metadata": {},
   "source": [
    "### break"
   ]
  },
  {
   "cell_type": "code",
   "execution_count": 21,
   "id": "04c5fffc",
   "metadata": {},
   "outputs": [
    {
     "name": "stdout",
     "output_type": "stream",
     "text": [
      "1\n",
      "2\n",
      "3\n",
      "4\n"
     ]
    }
   ],
   "source": [
    "num = 0\n",
    "while num < 10:\n",
    "    num += 1\n",
    "    if num ==5:\n",
    "        break\n",
    "    print(num)"
   ]
  },
  {
   "cell_type": "markdown",
   "id": "31daaa7c",
   "metadata": {},
   "source": [
    "### continue"
   ]
  },
  {
   "cell_type": "code",
   "execution_count": 23,
   "id": "f5bbe6de",
   "metadata": {},
   "outputs": [
    {
     "name": "stdout",
     "output_type": "stream",
     "text": [
      "1\n",
      "2\n",
      "5\n",
      "6\n",
      "7\n",
      "8\n",
      "9\n",
      "10\n"
     ]
    }
   ],
   "source": [
    "num = 0\n",
    "while num < 10:\n",
    "    num += 1\n",
    "    if 2<num<5:\n",
    "        continue\n",
    "    print(num)\n",
    "        "
   ]
  },
  {
   "cell_type": "code",
   "execution_count": 215,
   "id": "3ce37ff5",
   "metadata": {},
   "outputs": [
    {
     "name": "stdout",
     "output_type": "stream",
     "text": [
      "단을 입력:5\n",
      "입력값:5\n",
      "5 x 1 = 1*5\n",
      "5 x 2 = 2*5\n",
      "5 x 3 = 3*5\n",
      "5 x 4 = 4*5\n",
      "5 x 5 = 5*5\n",
      "5 x 6 = 6*5\n",
      "5 x 7 = 7*5\n",
      "5 x 8 = 8*5\n",
      "5 x 9 = 9*5\n",
      "단을 입력:4\n",
      "입력값:4\n",
      "4 x 1 = 1*4\n",
      "4 x 2 = 2*4\n",
      "4 x 3 = 3*4\n",
      "4 x 4 = 4*4\n",
      "4 x 5 = 5*4\n",
      "4 x 6 = 6*4\n",
      "4 x 7 = 7*4\n",
      "4 x 8 = 8*4\n",
      "4 x 9 = 9*4\n",
      "단을 입력:0\n",
      "입력값:0\n",
      "단종료\n"
     ]
    }
   ],
   "source": [
    "while True:\n",
    "    dan = int(input(\"단을 입력:\"))\n",
    "    print(f\"입력값:{dan}\")\n",
    "    if dan >=10 or dan < 0 :\n",
    "        print(\"잘못입력\")\n",
    "        continue\n",
    "    if dan ==0:\n",
    "        print(\"단종료\")\n",
    "        break\n",
    "    for i in range(1,10):\n",
    "        print(f\"{dan} x {i} = {i}*{dan}\")"
   ]
  },
  {
   "cell_type": "markdown",
   "id": "1462a21b",
   "metadata": {},
   "source": [
    "반복문 연습문제\n",
    "1.\n",
    "*****\n",
    "*****\n",
    "*****\n",
    "*****\n",
    "*****\n",
    "\n",
    "2.\n",
    "*\n",
    "**\n",
    "***\n",
    "****\n",
    "*****\n",
    "\n",
    "3.\n",
    "*****\n",
    "****\n",
    "***\n",
    "**\n",
    "*\n",
    "\n",
    "4.\n",
    "*****\n",
    " ****\n",
    "  ***\n",
    "   **\n",
    "    *\n",
    "\n",
    "5.\n",
    "    *\n",
    "   **\n",
    "  ***\n",
    " ****\n",
    "*****\n",
    "\n",
    "6. \n",
    "*    *****\n",
    "**   ****\n",
    "***  ***\n",
    "**** **\n",
    "******\n",
    "    ******\n",
    "   ** ****\n",
    "  ***  ***\n",
    " ****   **\n",
    "*****    *\n",
    "\n",
    "    *\n",
    "   ***\n",
    "  *****\n",
    " *******\n",
    "*********\n",
    " *******\n",
    "  *****\n",
    "   ***\n",
    "    *\n"
   ]
  },
  {
   "cell_type": "code",
   "execution_count": 265,
   "id": "d0b02053",
   "metadata": {},
   "outputs": [
    {
     "name": "stdout",
     "output_type": "stream",
     "text": [
      "n*n을 출력합니다 n을 입력하시오5\n",
      "*****\n",
      "*****\n",
      "*****\n",
      "*****\n",
      "*****\n"
     ]
    }
   ],
   "source": [
    "a= int(input(\"n*n을 출력합니다 n을 입력하시오\"))\n",
    "for i in range(a):\n",
    "    print('*'*a)"
   ]
  },
  {
   "cell_type": "code",
   "execution_count": 266,
   "id": "8e5e37b4",
   "metadata": {},
   "outputs": [
    {
     "name": "stdout",
     "output_type": "stream",
     "text": [
      "n*n을 출력합니다 n을 입력하시오6\n",
      "*\n",
      "**\n",
      "***\n",
      "****\n",
      "*****\n",
      "******\n"
     ]
    }
   ],
   "source": [
    "a= int(input(\"n*n을 출력합니다 n을 입력하시오\"))\n",
    "for i in range(1,a+1):\n",
    "    print(i*'*')\n",
    "    "
   ]
  },
  {
   "cell_type": "code",
   "execution_count": 268,
   "id": "d0e1f5df",
   "metadata": {},
   "outputs": [
    {
     "name": "stdout",
     "output_type": "stream",
     "text": [
      "n*n을 출력합니다 n을 입력하시오10\n",
      "**********\n",
      "*********\n",
      "********\n",
      "*******\n",
      "******\n",
      "*****\n",
      "****\n",
      "***\n",
      "**\n",
      "*\n"
     ]
    }
   ],
   "source": [
    "a= int(input(\"n*n을 출력합니다 n을 입력하시오\"))\n",
    "for i in range(a,0,-1):\n",
    "    print(i*'*')"
   ]
  },
  {
   "cell_type": "code",
   "execution_count": 269,
   "id": "d2a9fade",
   "metadata": {},
   "outputs": [
    {
     "name": "stdout",
     "output_type": "stream",
     "text": [
      "n*n을 출력합니다 n을 입력하시오10\n",
      "**********\n",
      " *********\n",
      "  ********\n",
      "   *******\n",
      "    ******\n",
      "     *****\n",
      "      ****\n",
      "       ***\n",
      "        **\n",
      "         *\n"
     ]
    }
   ],
   "source": [
    "a= int(input(\"n*n을 출력합니다 n을 입력하시오\"))\n",
    "for i in range(a,0,-1):\n",
    "    print(' '*(a-i)+'*'*i)"
   ]
  },
  {
   "cell_type": "code",
   "execution_count": 270,
   "id": "c31e61c6",
   "metadata": {},
   "outputs": [
    {
     "name": "stdout",
     "output_type": "stream",
     "text": [
      "n*n을 출력합니다 n을 입력하시오10\n",
      "         *\n",
      "        **\n",
      "       ***\n",
      "      ****\n",
      "     *****\n",
      "    ******\n",
      "   *******\n",
      "  ********\n",
      " *********\n",
      "**********\n"
     ]
    }
   ],
   "source": [
    "a= int(input(\"n*n을 출력합니다 n을 입력하시오\"))\n",
    "for i in range(1,a+1):\n",
    "    print(' '*(a-i)+'*'*i)"
   ]
  },
  {
   "cell_type": "code",
   "execution_count": 307,
   "id": "f2f51861",
   "metadata": {},
   "outputs": [
    {
     "name": "stdout",
     "output_type": "stream",
     "text": [
      "*****\n",
      "*****\n",
      "*****\n",
      "*****\n",
      "*****\n",
      "\n",
      "*\n",
      "**\n",
      "***\n",
      "****\n",
      "*****\n",
      "*****\n",
      "****\n",
      "***\n",
      "**\n",
      "*\n",
      "*****\n",
      " ****\n",
      "  ***\n",
      "   **\n",
      "    *\n",
      "    *\n",
      "   **\n",
      "  ***\n",
      " ****\n",
      "*****\n",
      "*    ***** \n",
      "**   ****  \n",
      "***  ***   \n",
      "**** **    \n",
      "******     \n",
      "    ******\n",
      "   ** ****\n",
      "  ***  ***\n",
      " ****   **\n",
      "*****    *\n",
      "2 x 1 = 2 \t\n",
      "2 x 2 = 4 \t\n",
      "2 x 3 = 6 \t\n",
      "2 x 4 = 8 \t\n",
      "2 x 5 = 10 \t\n",
      "2 x 6 = 12 \t\n",
      "2 x 7 = 14 \t\n",
      "2 x 8 = 16 \t\n",
      "2 x 9 = 18 \t\n",
      "3 x 1 = 3 \t\n",
      "3 x 2 = 6 \t\n",
      "3 x 3 = 9 \t\n",
      "3 x 4 = 12 \t\n",
      "3 x 5 = 15 \t\n",
      "3 x 6 = 18 \t\n",
      "3 x 7 = 21 \t\n",
      "3 x 8 = 24 \t\n",
      "3 x 9 = 27 \t\n",
      "4 x 1 = 4 \t\n",
      "4 x 2 = 8 \t\n",
      "4 x 3 = 12 \t\n",
      "4 x 4 = 16 \t\n",
      "4 x 5 = 20 \t\n",
      "4 x 6 = 24 \t\n",
      "4 x 7 = 28 \t\n",
      "4 x 8 = 32 \t\n",
      "4 x 9 = 36 \t\n",
      "5 x 1 = 5 \t\n",
      "5 x 2 = 10 \t\n",
      "5 x 3 = 15 \t\n",
      "5 x 4 = 20 \t\n",
      "5 x 5 = 25 \t\n",
      "5 x 6 = 30 \t\n",
      "5 x 7 = 35 \t\n",
      "5 x 8 = 40 \t\n",
      "5 x 9 = 45 \t\n",
      "6 x 1 = 6 \t\n",
      "6 x 2 = 12 \t\n",
      "6 x 3 = 18 \t\n",
      "6 x 4 = 24 \t\n",
      "6 x 5 = 30 \t\n",
      "6 x 6 = 36 \t\n",
      "6 x 7 = 42 \t\n",
      "6 x 8 = 48 \t\n",
      "6 x 9 = 54 \t\n",
      "7 x 1 = 7 \t\n",
      "7 x 2 = 14 \t\n",
      "7 x 3 = 21 \t\n",
      "7 x 4 = 28 \t\n",
      "7 x 5 = 35 \t\n",
      "7 x 6 = 42 \t\n",
      "7 x 7 = 49 \t\n",
      "7 x 8 = 56 \t\n",
      "7 x 9 = 63 \t\n",
      "8 x 1 = 8 \t\n",
      "8 x 2 = 16 \t\n",
      "8 x 3 = 24 \t\n",
      "8 x 4 = 32 \t\n",
      "8 x 5 = 40 \t\n",
      "8 x 6 = 48 \t\n",
      "8 x 7 = 56 \t\n",
      "8 x 8 = 64 \t\n",
      "8 x 9 = 72 \t\n",
      "9 x 1 = 9 \t\n",
      "9 x 2 = 18 \t\n",
      "9 x 3 = 27 \t\n",
      "9 x 4 = 36 \t\n",
      "9 x 5 = 45 \t\n",
      "9 x 6 = 54 \t\n",
      "9 x 7 = 63 \t\n",
      "9 x 8 = 72 \t\n",
      "9 x 9 = 81 \t\n"
     ]
    }
   ],
   "source": [
    "# 1번.\n",
    "print( ( (\"*\" * 5) + \"\\n\") * 5)\n",
    "\n",
    "# 2번.\n",
    "star = [print(\"*\" * (i+1)) for i in range(5)]\n",
    "\n",
    "# 3번.\n",
    "star = [print(\"*\" * i) for i in range(5,0,-1)]\n",
    "\n",
    "# 4번.\n",
    "star = [print(\" \" * (5-i) + (\"*\") * i) for i in range(5,0,-1)]\n",
    "\n",
    "# 5번.\n",
    "star = [print((\" \") * (i-1) +(\"*\" * (6-i))) for i in range(5,0,-1)]\n",
    "\n",
    "# 6번.\n",
    "star=[[print('*' * (i) + ' '* (5-i) + '*'*(6-i) + ' '*i ) for i in range(1,6)],\n",
    "      [print(' ' * (5-i) + '*'* (i) + ' '*(i-1) + '*'*(6-i) ) for i in range(1,6)] ]\n",
    "\n",
    "#구구단\n",
    "number=[print(f\"{i} x {j} = {i*j} \\t\") for i in range(2,10) for j in range(1,10)]"
   ]
  },
  {
   "cell_type": "code",
   "execution_count": 355,
   "id": "4b40e396",
   "metadata": {},
   "outputs": [
    {
     "name": "stdout",
     "output_type": "stream",
     "text": [
      "2 * 1 =  2\t3 * 1 =  3\t4 * 1 =  4\t5 * 1 =  5\t\n",
      "2 * 2 =  4\t3 * 2 =  6\t4 * 2 =  8\t5 * 2 = 10\t\n",
      "2 * 3 =  6\t3 * 3 =  9\t4 * 3 = 12\t5 * 3 = 15\t\n",
      "2 * 4 =  8\t3 * 4 = 12\t4 * 4 = 16\t5 * 4 = 20\t\n",
      "2 * 5 = 10\t3 * 5 = 15\t4 * 5 = 20\t5 * 5 = 25\t\n",
      "2 * 6 = 12\t3 * 6 = 18\t4 * 6 = 24\t5 * 6 = 30\t\n",
      "2 * 7 = 14\t3 * 7 = 21\t4 * 7 = 28\t5 * 7 = 35\t\n",
      "2 * 8 = 16\t3 * 8 = 24\t4 * 8 = 32\t5 * 8 = 40\t\n",
      "2 * 9 = 18\t3 * 9 = 27\t4 * 9 = 36\t5 * 9 = 45\t\n",
      "\n",
      "6 * 1 =  6\t7 * 1 =  7\t8 * 1 =  8\t9 * 1 =  9\t\n",
      "6 * 2 = 12\t7 * 2 = 14\t8 * 2 = 16\t9 * 2 = 18\t\n",
      "6 * 3 = 18\t7 * 3 = 21\t8 * 3 = 24\t9 * 3 = 27\t\n",
      "6 * 4 = 24\t7 * 4 = 28\t8 * 4 = 32\t9 * 4 = 36\t\n",
      "6 * 5 = 30\t7 * 5 = 35\t8 * 5 = 40\t9 * 5 = 45\t\n",
      "6 * 6 = 36\t7 * 6 = 42\t8 * 6 = 48\t9 * 6 = 54\t\n",
      "6 * 7 = 42\t7 * 7 = 49\t8 * 7 = 56\t9 * 7 = 63\t\n",
      "6 * 8 = 48\t7 * 8 = 56\t8 * 8 = 64\t9 * 8 = 72\t\n",
      "6 * 9 = 54\t7 * 9 = 63\t8 * 9 = 72\t9 * 9 = 81\t\n"
     ]
    }
   ],
   "source": [
    "for i in range(1,10):\n",
    "    for j in range(2,6):\n",
    "        print(f\"{j} * {i} = {i*j:2}\", end=\"\\t\")\n",
    "    print()    \n",
    "   \n",
    "print()\n",
    "\n",
    "for i in range(1,10):\n",
    "    for j in range(6,10):\n",
    "        print(f\"{j} * {i} = {i*j:2}\", end=\"\\t\")\n",
    "    print()"
   ]
  }
 ],
 "metadata": {
  "kernelspec": {
   "display_name": "Python 3",
   "language": "python",
   "name": "python3"
  },
  "language_info": {
   "codemirror_mode": {
    "name": "ipython",
    "version": 3
   },
   "file_extension": ".py",
   "mimetype": "text/x-python",
   "name": "python",
   "nbconvert_exporter": "python",
   "pygments_lexer": "ipython3",
   "version": "3.8.8"
  }
 },
 "nbformat": 4,
 "nbformat_minor": 5
}
