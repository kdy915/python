{
 "cells": [
  {
   "cell_type": "markdown",
   "id": "d94d6b9d",
   "metadata": {},
   "source": [
    "### 1절 함수 정의하기"
   ]
  },
  {
   "cell_type": "code",
   "execution_count": 2,
   "id": "8423fd86",
   "metadata": {},
   "outputs": [],
   "source": [
    "def my_hello():\n",
    "    print(\"hello world\")"
   ]
  },
  {
   "cell_type": "code",
   "execution_count": 3,
   "id": "f2ae7b1a",
   "metadata": {},
   "outputs": [
    {
     "name": "stdout",
     "output_type": "stream",
     "text": [
      "hello world\n"
     ]
    }
   ],
   "source": [
    "my_hello()"
   ]
  },
  {
   "cell_type": "code",
   "execution_count": 4,
   "id": "f2f1ceab",
   "metadata": {},
   "outputs": [],
   "source": [
    "def my_add(num1, num2):\n",
    "    print(num1+num2)"
   ]
  },
  {
   "cell_type": "code",
   "execution_count": 5,
   "id": "70e44a2a",
   "metadata": {},
   "outputs": [
    {
     "name": "stdout",
     "output_type": "stream",
     "text": [
      "4\n"
     ]
    }
   ],
   "source": [
    "my_add(1,3)"
   ]
  },
  {
   "cell_type": "code",
   "execution_count": 6,
   "id": "7cd64154",
   "metadata": {},
   "outputs": [],
   "source": [
    "def my_function():\n",
    "    '''\n",
    "    이 함수에 대한 설명을 표기합니다\n",
    "    '''"
   ]
  },
  {
   "cell_type": "code",
   "execution_count": 9,
   "id": "b6f83b69",
   "metadata": {},
   "outputs": [
    {
     "name": "stdout",
     "output_type": "stream",
     "text": [
      "\n",
      "    이 함수에 대한 설명을 표기합니다\n",
      "    \n"
     ]
    }
   ],
   "source": [
    "print(my_function.__doc__)"
   ]
  },
  {
   "cell_type": "code",
   "execution_count": 18,
   "id": "bca141e2",
   "metadata": {},
   "outputs": [],
   "source": [
    "def fibonacci(n):\n",
    "    \"n값 미만까지 피보나치수열을 출력합니다.\"\n",
    "    a,b = 0,1\n",
    "    while b<n:\n",
    "        print(b, end=' ')\n",
    "        a, b = b, a+b\n",
    "    print()\n",
    "        "
   ]
  },
  {
   "cell_type": "code",
   "execution_count": 19,
   "id": "66c5ff75",
   "metadata": {},
   "outputs": [
    {
     "name": "stdout",
     "output_type": "stream",
     "text": [
      "1 1 2 3 5 8 13 21 34 55 89 144 \n"
     ]
    }
   ],
   "source": [
    "fibonacci(200)"
   ]
  },
  {
   "cell_type": "code",
   "execution_count": 21,
   "id": "aee10e01",
   "metadata": {},
   "outputs": [
    {
     "name": "stdout",
     "output_type": "stream",
     "text": [
      "n값 미만까지 피보나치수열을 출력합니다.\n"
     ]
    }
   ],
   "source": [
    "print(fibonacci.__doc__)"
   ]
  },
  {
   "cell_type": "markdown",
   "id": "e9152736",
   "metadata": {},
   "source": [
    "함수 연습문제"
   ]
  },
  {
   "cell_type": "code",
   "execution_count": 107,
   "id": "8ea216d1",
   "metadata": {},
   "outputs": [
    {
     "name": "stdout",
     "output_type": "stream",
     "text": [
      "you: 보\n"
     ]
    }
   ],
   "source": [
    "import random\n",
    "def caption(val):\n",
    "    '''\n",
    "    val이 1이면 가위, 2이면 바위, 3이면 보를 문자열로 리턴\n",
    "    '''\n",
    "    if val==1:\n",
    "        return \"가위\"\n",
    "    elif val==2:\n",
    "        return \"바위\"\n",
    "    elif val==3:\n",
    "        return \"보\"\n",
    "    pass\n",
    "print(\"you:\", caption(random.randint(1,3)))"
   ]
  },
  {
   "cell_type": "code",
   "execution_count": 81,
   "id": "3ec7935a",
   "metadata": {},
   "outputs": [],
   "source": [
    "#전역변수\n",
    "global_var=100\n",
    "def func1():\n",
    "    print(global_var)"
   ]
  },
  {
   "cell_type": "code",
   "execution_count": 82,
   "id": "a5144e79",
   "metadata": {},
   "outputs": [
    {
     "name": "stdout",
     "output_type": "stream",
     "text": [
      "100\n"
     ]
    }
   ],
   "source": [
    "func1()"
   ]
  },
  {
   "cell_type": "code",
   "execution_count": 83,
   "id": "1bc140ee",
   "metadata": {},
   "outputs": [],
   "source": [
    "def func2():\n",
    "    local_var =200\n",
    "    print(local_var)"
   ]
  },
  {
   "cell_type": "code",
   "execution_count": 25,
   "id": "4c8d309e",
   "metadata": {},
   "outputs": [
    {
     "name": "stdout",
     "output_type": "stream",
     "text": [
      "200\n"
     ]
    }
   ],
   "source": [
    "func2()"
   ]
  },
  {
   "cell_type": "code",
   "execution_count": 27,
   "id": "9d09e02c",
   "metadata": {},
   "outputs": [
    {
     "ename": "NameError",
     "evalue": "name 'local_var' is not defined",
     "output_type": "error",
     "traceback": [
      "\u001b[1;31m---------------------------------------------------------------------------\u001b[0m",
      "\u001b[1;31mNameError\u001b[0m                                 Traceback (most recent call last)",
      "\u001b[1;32m<ipython-input-27-239beab4009e>\u001b[0m in \u001b[0;36m<module>\u001b[1;34m\u001b[0m\n\u001b[1;32m----> 1\u001b[1;33m \u001b[0mprint\u001b[0m\u001b[1;33m(\u001b[0m\u001b[0mlocal_var\u001b[0m\u001b[1;33m)\u001b[0m\u001b[1;33m\u001b[0m\u001b[1;33m\u001b[0m\u001b[0m\n\u001b[0m\u001b[0;32m      2\u001b[0m \u001b[1;31m#func2의 지역변수로 함수 외부에서 출력불가\u001b[0m\u001b[1;33m\u001b[0m\u001b[1;33m\u001b[0m\u001b[1;33m\u001b[0m\u001b[0m\n",
      "\u001b[1;31mNameError\u001b[0m: name 'local_var' is not defined"
     ]
    }
   ],
   "source": [
    "print(local_var)\n",
    "#func2의 지역변수로 함수 외부에서 출력불가"
   ]
  },
  {
   "cell_type": "code",
   "execution_count": 38,
   "id": "23a5284c",
   "metadata": {},
   "outputs": [],
   "source": [
    "q_var=100"
   ]
  },
  {
   "cell_type": "code",
   "execution_count": 39,
   "id": "cefeba18",
   "metadata": {},
   "outputs": [],
   "source": [
    "def func1():\n",
    "    print(\"before\",q_var) #1\n",
    "    q_var=200\n",
    "    print(\"after\",q_var) #2"
   ]
  },
  {
   "cell_type": "code",
   "execution_count": 40,
   "id": "35ec2913",
   "metadata": {},
   "outputs": [
    {
     "ename": "UnboundLocalError",
     "evalue": "local variable 'q_var' referenced before assignment",
     "output_type": "error",
     "traceback": [
      "\u001b[1;31m---------------------------------------------------------------------------\u001b[0m",
      "\u001b[1;31mUnboundLocalError\u001b[0m                         Traceback (most recent call last)",
      "\u001b[1;32m<ipython-input-40-d88c41ef3303>\u001b[0m in \u001b[0;36m<module>\u001b[1;34m\u001b[0m\n\u001b[1;32m----> 1\u001b[1;33m \u001b[0mfunc1\u001b[0m\u001b[1;33m(\u001b[0m\u001b[1;33m)\u001b[0m\u001b[1;33m\u001b[0m\u001b[1;33m\u001b[0m\u001b[0m\n\u001b[0m",
      "\u001b[1;32m<ipython-input-39-554ff6900591>\u001b[0m in \u001b[0;36mfunc1\u001b[1;34m()\u001b[0m\n\u001b[0;32m      1\u001b[0m \u001b[1;32mdef\u001b[0m \u001b[0mfunc1\u001b[0m\u001b[1;33m(\u001b[0m\u001b[1;33m)\u001b[0m\u001b[1;33m:\u001b[0m\u001b[1;33m\u001b[0m\u001b[1;33m\u001b[0m\u001b[0m\n\u001b[1;32m----> 2\u001b[1;33m     \u001b[0mprint\u001b[0m\u001b[1;33m(\u001b[0m\u001b[1;34m\"before\"\u001b[0m\u001b[1;33m,\u001b[0m\u001b[0mq_var\u001b[0m\u001b[1;33m)\u001b[0m \u001b[1;31m#1\u001b[0m\u001b[1;33m\u001b[0m\u001b[1;33m\u001b[0m\u001b[0m\n\u001b[0m\u001b[0;32m      3\u001b[0m     \u001b[0mq_var\u001b[0m\u001b[1;33m=\u001b[0m\u001b[1;36m200\u001b[0m\u001b[1;33m\u001b[0m\u001b[1;33m\u001b[0m\u001b[0m\n\u001b[0;32m      4\u001b[0m     \u001b[0mprint\u001b[0m\u001b[1;33m(\u001b[0m\u001b[1;34m\"after\"\u001b[0m\u001b[1;33m,\u001b[0m\u001b[0mq_var\u001b[0m\u001b[1;33m)\u001b[0m \u001b[1;31m#2\u001b[0m\u001b[1;33m\u001b[0m\u001b[1;33m\u001b[0m\u001b[0m\n",
      "\u001b[1;31mUnboundLocalError\u001b[0m: local variable 'q_var' referenced before assignment"
     ]
    }
   ],
   "source": [
    "func1()"
   ]
  },
  {
   "cell_type": "code",
   "execution_count": 41,
   "id": "3a9ed9fc",
   "metadata": {},
   "outputs": [],
   "source": [
    "q_var2=100"
   ]
  },
  {
   "cell_type": "code",
   "execution_count": 42,
   "id": "2407bfca",
   "metadata": {},
   "outputs": [],
   "source": [
    "def func2():\n",
    "    global q_var2\n",
    "    print(\"before\", q_var2)\n",
    "    q_var2=200\n",
    "    print(\"after\", q_var2)"
   ]
  },
  {
   "cell_type": "code",
   "execution_count": 44,
   "id": "609f22f1",
   "metadata": {},
   "outputs": [
    {
     "name": "stdout",
     "output_type": "stream",
     "text": [
      "before 100\n",
      "after 200\n"
     ]
    }
   ],
   "source": [
    "func2()"
   ]
  },
  {
   "cell_type": "code",
   "execution_count": 52,
   "id": "3aa90134",
   "metadata": {},
   "outputs": [
    {
     "name": "stdout",
     "output_type": "stream",
     "text": [
      "140705273033616\n"
     ]
    }
   ],
   "source": [
    "foo=100\n",
    "print(id(foo))"
   ]
  },
  {
   "cell_type": "code",
   "execution_count": 54,
   "id": "0260adc0",
   "metadata": {},
   "outputs": [],
   "source": [
    "def func1(foo):\n",
    "    print(\"before\",id(foo))\n",
    "    foo=200\n",
    "    print(\"after\",id(foo))\n",
    "    print(foo)\n",
    "    "
   ]
  },
  {
   "cell_type": "code",
   "execution_count": 55,
   "id": "ff9f55ca",
   "metadata": {},
   "outputs": [
    {
     "name": "stdout",
     "output_type": "stream",
     "text": [
      "before 140705273033616\n",
      "after 140705273036816\n",
      "200\n"
     ]
    }
   ],
   "source": [
    "func1(foo)"
   ]
  },
  {
   "cell_type": "code",
   "execution_count": 48,
   "id": "88e7cb55",
   "metadata": {},
   "outputs": [
    {
     "data": {
      "text/plain": [
       "2522721680640"
      ]
     },
     "execution_count": 48,
     "metadata": {},
     "output_type": "execute_result"
    }
   ],
   "source": [
    "L=[1,2,3,4,5]\n",
    "id(L)"
   ]
  },
  {
   "cell_type": "code",
   "execution_count": 49,
   "id": "e6bbfd08",
   "metadata": {},
   "outputs": [],
   "source": [
    "#참조를 사용해서 값을 가져오면 주소를 통해 전달받은 L의 값이  변경된다\n",
    "def func2(foo):\n",
    "    foo.append(6)\n",
    "    print(id(foo))\n",
    "    print(foo)"
   ]
  },
  {
   "cell_type": "code",
   "execution_count": 50,
   "id": "c0cb5333",
   "metadata": {},
   "outputs": [
    {
     "name": "stdout",
     "output_type": "stream",
     "text": [
      "2522721680640\n",
      "[1, 2, 3, 4, 5, 6]\n"
     ]
    }
   ],
   "source": [
    "func2(L)"
   ]
  },
  {
   "cell_type": "code",
   "execution_count": 56,
   "id": "a8967262",
   "metadata": {},
   "outputs": [],
   "source": [
    "# =연산자를 이용해 새로운 리스트를 할당하면 새로운 주소를 만들어서 값을 전달한다\n",
    "def func3(foo):\n",
    "    foo=[6,7,8,9,10]\n",
    "    print(id(foo))"
   ]
  },
  {
   "cell_type": "code",
   "execution_count": 108,
   "id": "9f92f90a",
   "metadata": {},
   "outputs": [
    {
     "name": "stdout",
     "output_type": "stream",
     "text": [
      "2522719897728\n"
     ]
    }
   ],
   "source": [
    "func3(L)"
   ]
  },
  {
   "cell_type": "code",
   "execution_count": 109,
   "id": "e8ce9706",
   "metadata": {},
   "outputs": [
    {
     "name": "stdout",
     "output_type": "stream",
     "text": [
      "1 1 2 3 5 8 13 21 34 55 89 144 233 377 610 987 1597 \n"
     ]
    }
   ],
   "source": [
    "fibo=fibonacci\n",
    "fibo(2000)"
   ]
  },
  {
   "cell_type": "code",
   "execution_count": 110,
   "id": "b6e43104",
   "metadata": {},
   "outputs": [
    {
     "name": "stdout",
     "output_type": "stream",
     "text": [
      "1 1 2 3 5 8 13 21 34 55 89 144 233 377 610 987 1597 \n"
     ]
    }
   ],
   "source": [
    "fibonacci(2000)"
   ]
  },
  {
   "cell_type": "code",
   "execution_count": 111,
   "id": "1979df1e",
   "metadata": {},
   "outputs": [
    {
     "data": {
      "text/plain": [
       "(2522721553424, 2522721553424)"
      ]
     },
     "execution_count": 111,
     "metadata": {},
     "output_type": "execute_result"
    }
   ],
   "source": [
    "id(fibonacci),id(fibo) #이름만 다르지 주소가 똑같음 같은객체임"
   ]
  },
  {
   "cell_type": "code",
   "execution_count": 112,
   "id": "4189abca",
   "metadata": {},
   "outputs": [
    {
     "data": {
      "text/plain": [
       "function"
      ]
     },
     "execution_count": 112,
     "metadata": {},
     "output_type": "execute_result"
    }
   ],
   "source": [
    "type(fibo)"
   ]
  },
  {
   "cell_type": "code",
   "execution_count": 113,
   "id": "84477e23",
   "metadata": {},
   "outputs": [
    {
     "name": "stdout",
     "output_type": "stream",
     "text": [
      "1 1 2 3 5 8 13 21 34 55 89 144 233 377 610 987 1597 \n"
     ]
    }
   ],
   "source": [
    "fibo1=fibonacci # 함수를 변수에 할당\n",
    "fibo2=fibonacci(2000) #함수 결과를 변수에 할당\n",
    "# return이 없으므로 값이 할당되어 있지 않다"
   ]
  }
 ],
 "metadata": {
  "kernelspec": {
   "display_name": "Python 3",
   "language": "python",
   "name": "python3"
  },
  "language_info": {
   "codemirror_mode": {
    "name": "ipython",
    "version": 3
   },
   "file_extension": ".py",
   "mimetype": "text/x-python",
   "name": "python",
   "nbconvert_exporter": "python",
   "pygments_lexer": "ipython3",
   "version": "3.8.8"
  },
  "toc": {
   "base_numbering": 1,
   "nav_menu": {},
   "number_sections": true,
   "sideBar": true,
   "skip_h1_title": false,
   "title_cell": "Table of Contents",
   "title_sidebar": "Contents",
   "toc_cell": false,
   "toc_position": {},
   "toc_section_display": true,
   "toc_window_display": false
  }
 },
 "nbformat": 4,
 "nbformat_minor": 5
}
