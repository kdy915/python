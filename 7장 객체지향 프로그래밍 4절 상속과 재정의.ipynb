{
 "cells": [
  {
   "cell_type": "markdown",
   "id": "9f08be86",
   "metadata": {},
   "source": [
    "### 상속"
   ]
  },
  {
   "cell_type": "code",
   "execution_count": 1,
   "id": "696f88c3",
   "metadata": {},
   "outputs": [],
   "source": [
    "class Person:\n",
    "    pass"
   ]
  },
  {
   "cell_type": "code",
   "execution_count": 2,
   "id": "00335033",
   "metadata": {},
   "outputs": [],
   "source": [
    "class Student(Person):\n",
    "    pass"
   ]
  },
  {
   "cell_type": "code",
   "execution_count": 3,
   "id": "a607307c",
   "metadata": {},
   "outputs": [
    {
     "data": {
      "text/plain": [
       "True"
      ]
     },
     "execution_count": 3,
     "metadata": {},
     "output_type": "execute_result"
    }
   ],
   "source": [
    "issubclass(Student,Person) #issubclass(자식,부모)"
   ]
  },
  {
   "cell_type": "code",
   "execution_count": 64,
   "id": "cd847425",
   "metadata": {},
   "outputs": [],
   "source": [
    "class person:\n",
    "    def __init__(self,name,gender):\n",
    "        self.name=name\n",
    "        self.gender=gender\n",
    "    def __str__(self):\n",
    "        return \"name: {0}, gender:{1}\".format(self.name,self.gender)\n",
    "    def print_info(self):\n",
    "        print(\"{}님은 {}입니다.\".format(self.name,self.gender))"
   ]
  },
  {
   "cell_type": "code",
   "execution_count": 65,
   "id": "771186d2",
   "metadata": {},
   "outputs": [],
   "source": [
    "class Student(person): # 하위 클래스는 상위 클래스보다 구체적이다.\n",
    "    def __init__(self,name,gender,major):\n",
    "        self.name=name\n",
    "        self.gender=gender\n",
    "        self.major=major\n",
    "    def __del__(self):\n",
    "        pass"
   ]
  },
  {
   "cell_type": "code",
   "execution_count": 66,
   "id": "974b8b1f",
   "metadata": {},
   "outputs": [],
   "source": [
    "s1=Student(\"김\",\"남자\",\"공\")"
   ]
  },
  {
   "cell_type": "code",
   "execution_count": 67,
   "id": "12a61426",
   "metadata": {},
   "outputs": [
    {
     "name": "stdout",
     "output_type": "stream",
     "text": [
      "김님은 남자입니다.\n"
     ]
    }
   ],
   "source": [
    "s1.print_info()"
   ]
  },
  {
   "cell_type": "code",
   "execution_count": 68,
   "id": "73fa5dfb",
   "metadata": {},
   "outputs": [
    {
     "name": "stdout",
     "output_type": "stream",
     "text": [
      "name: 김, gender:남자\n"
     ]
    }
   ],
   "source": [
    "print(s1)"
   ]
  },
  {
   "cell_type": "code",
   "execution_count": 69,
   "id": "7e06f6f3",
   "metadata": {},
   "outputs": [],
   "source": [
    "class Student(person): # super()를 이용하면 부모클래스의 생성자 또는 메서드를 참조가능\n",
    "    def __init__(self,name,gender,major):\n",
    "        super().__init__(name,gender)\n",
    "        self.major=major"
   ]
  },
  {
   "cell_type": "code",
   "execution_count": 70,
   "id": "f17b6e61",
   "metadata": {},
   "outputs": [
    {
     "name": "stderr",
     "output_type": "stream",
     "text": [
      "Exception ignored in: <function Student.__del__ at 0x000001C810C81160>\n",
      "Traceback (most recent call last):\n",
      "  File \"<ipython-input-57-e2e87e43381f>\", line 10, in __del__\n",
      "AttributeError: type object 'Student' has no attribute '_Student__count'\n"
     ]
    },
    {
     "name": "stdout",
     "output_type": "stream",
     "text": [
      "홍길남님은 남자입니다.\n"
     ]
    }
   ],
   "source": [
    "s2=Student(\"홍길남\",\"남자\",\"경제학\")\n",
    "s2.print_info()"
   ]
  },
  {
   "cell_type": "code",
   "execution_count": 71,
   "id": "de56f0da",
   "metadata": {},
   "outputs": [],
   "source": [
    "class Student(Person):\n",
    "    def __init__(self,name,gender,major): #부모에 있는 인자들은 최대한 활용하는것이 좋다\n",
    "        person.__init__(self,name,gender) #Person.=super().과 동일하다 부모클래스 참조\n",
    "        self.major = major\n",
    "    def __del__(self):\n",
    "        pass\n",
    "    def print_info(self):\n",
    "        print(\"{}님은 {}이며, 전공은 {}입니다.\".format(self.name,self.gender,self.major))"
   ]
  },
  {
   "cell_type": "code",
   "execution_count": 72,
   "id": "a877bae7",
   "metadata": {},
   "outputs": [
    {
     "name": "stdout",
     "output_type": "stream",
     "text": [
      "홍길서님은 여자이며, 전공은 컴퓨터공학입니다.\n"
     ]
    }
   ],
   "source": [
    "s2=Student(\"홍길서\",\"여자\",\"컴퓨터공학\")\n",
    "s2.print_info()\n"
   ]
  },
  {
   "cell_type": "code",
   "execution_count": 77,
   "id": "2dfa3b30",
   "metadata": {},
   "outputs": [],
   "source": [
    "class Student(person):\n",
    "    __count=0\n",
    "    \n",
    "    def __init__(self,name,gender,major): \n",
    "        Student._Student__count +=1\n",
    "        person.__init__(self,name,gender) \n",
    "        self.major = major\n",
    "        \n",
    "    def __del__(self):\n",
    "        Student._Student__count -= 1\n",
    "    \n",
    "    def print_info(self):\n",
    "        print(\"{}님은 {}이며, 전공은 {}입니다.\".format(self.name,self.gender,self.major))\n",
    "        \n",
    "    def __str__(self):\n",
    "        return super().__str__()+\",major:{}\".format(self.major)\n",
    "    \n",
    "    @staticmethod\n",
    "    def get_count():\n",
    "        return Student._Student__count"
   ]
  },
  {
   "cell_type": "code",
   "execution_count": 78,
   "id": "99ff291a",
   "metadata": {},
   "outputs": [
    {
     "data": {
      "text/plain": [
       "0"
      ]
     },
     "execution_count": 78,
     "metadata": {},
     "output_type": "execute_result"
    }
   ],
   "source": [
    "s1=Student(\"홍길동\",\"남자\",\"컴퓨터공학\")\n",
    "Student.get_count()"
   ]
  },
  {
   "cell_type": "code",
   "execution_count": 79,
   "id": "343cdd1c",
   "metadata": {},
   "outputs": [
    {
     "data": {
      "text/plain": [
       "0"
      ]
     },
     "execution_count": 79,
     "metadata": {},
     "output_type": "execute_result"
    }
   ],
   "source": [
    "s2=Student(\"홍길녀\",\"여자\",\"생물학\")\n",
    "Student._Student__count"
   ]
  },
  {
   "cell_type": "code",
   "execution_count": 80,
   "id": "018d1ee7",
   "metadata": {},
   "outputs": [
    {
     "name": "stdout",
     "output_type": "stream",
     "text": [
      "name: 홍길녀, gender:여자,major:생물학\n"
     ]
    }
   ],
   "source": [
    "print(s2)"
   ]
  },
  {
   "cell_type": "code",
   "execution_count": 62,
   "id": "f84fc058",
   "metadata": {},
   "outputs": [
    {
     "data": {
      "text/plain": [
       "0"
      ]
     },
     "execution_count": 62,
     "metadata": {},
     "output_type": "execute_result"
    }
   ],
   "source": [
    "s1=None\n",
    "Student.get_count()"
   ]
  },
  {
   "cell_type": "code",
   "execution_count": 81,
   "id": "56d90af6",
   "metadata": {},
   "outputs": [],
   "source": [
    "s3=Student(\"홍길북\",\"남자\",\"심리학\")"
   ]
  },
  {
   "cell_type": "code",
   "execution_count": 82,
   "id": "30ed949f",
   "metadata": {},
   "outputs": [
    {
     "name": "stdout",
     "output_type": "stream",
     "text": [
      "name: 홍길북, gender:남자,major:심리학\n"
     ]
    }
   ],
   "source": [
    "print(s3)"
   ]
  },
  {
   "cell_type": "code",
   "execution_count": 83,
   "id": "eaa088be",
   "metadata": {},
   "outputs": [
    {
     "name": "stdout",
     "output_type": "stream",
     "text": [
      "홍길북님은 남자이며, 전공은 심리학입니다.\n"
     ]
    }
   ],
   "source": [
    "s3.print_info()"
   ]
  }
 ],
 "metadata": {
  "kernelspec": {
   "display_name": "Python 3",
   "language": "python",
   "name": "python3"
  },
  "language_info": {
   "codemirror_mode": {
    "name": "ipython",
    "version": 3
   },
   "file_extension": ".py",
   "mimetype": "text/x-python",
   "name": "python",
   "nbconvert_exporter": "python",
   "pygments_lexer": "ipython3",
   "version": "3.8.8"
  },
  "toc": {
   "base_numbering": 1,
   "nav_menu": {},
   "number_sections": true,
   "sideBar": true,
   "skip_h1_title": false,
   "title_cell": "Table of Contents",
   "title_sidebar": "Contents",
   "toc_cell": false,
   "toc_position": {},
   "toc_section_display": true,
   "toc_window_display": false
  }
 },
 "nbformat": 4,
 "nbformat_minor": 5
}
