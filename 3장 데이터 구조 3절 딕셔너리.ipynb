{
 "cells": [
  {
   "cell_type": "markdown",
   "id": "71723f8b",
   "metadata": {},
   "source": [
    "### 딕셔너리"
   ]
  },
  {
   "cell_type": "code",
   "execution_count": 2,
   "id": "34f90221",
   "metadata": {},
   "outputs": [],
   "source": [
    "my_favorite={\"fruit\":\"apple\",\"number\":1,\"sports\":\"golf\"}"
   ]
  },
  {
   "cell_type": "code",
   "execution_count": 3,
   "id": "17a3b252",
   "metadata": {},
   "outputs": [
    {
     "data": {
      "text/plain": [
       "dict"
      ]
     },
     "execution_count": 3,
     "metadata": {},
     "output_type": "execute_result"
    }
   ],
   "source": [
    "type(my_favorite)"
   ]
  },
  {
   "cell_type": "code",
   "execution_count": 4,
   "id": "95aafc61",
   "metadata": {},
   "outputs": [
    {
     "data": {
      "text/plain": [
       "'apple'"
      ]
     },
     "execution_count": 4,
     "metadata": {},
     "output_type": "execute_result"
    }
   ],
   "source": [
    "my_favorite.get('fruit')"
   ]
  },
  {
   "cell_type": "code",
   "execution_count": 5,
   "id": "21035135",
   "metadata": {},
   "outputs": [
    {
     "data": {
      "text/plain": [
       "'golf'"
      ]
     },
     "execution_count": 5,
     "metadata": {},
     "output_type": "execute_result"
    }
   ],
   "source": [
    "my_favorite.get(\"sports\")"
   ]
  },
  {
   "cell_type": "code",
   "execution_count": 6,
   "id": "aa8546fd",
   "metadata": {},
   "outputs": [
    {
     "data": {
      "text/plain": [
       "{'fruit': 'banna', 'number': 1, 'sports': 'golf'}"
      ]
     },
     "execution_count": 6,
     "metadata": {},
     "output_type": "execute_result"
    }
   ],
   "source": [
    "my_favorite={\"fruit\":\"apple\",\"number\":1,\"sports\":\"golf\"}\n",
    "my_favorite['fruit']='banna'\n",
    "my_favorite"
   ]
  },
  {
   "cell_type": "code",
   "execution_count": 7,
   "id": "efe3d713",
   "metadata": {},
   "outputs": [
    {
     "data": {
      "text/plain": [
       "{'fruit': 'banna', 'number': 1, 'sports': 'golf', 'language': 'python'}"
      ]
     },
     "execution_count": 7,
     "metadata": {},
     "output_type": "execute_result"
    }
   ],
   "source": [
    "my_favorite['language']='python'\n",
    "my_favorite"
   ]
  },
  {
   "cell_type": "code",
   "execution_count": 8,
   "id": "ef572b59",
   "metadata": {},
   "outputs": [
    {
     "data": {
      "text/plain": [
       "{'number': 1, 'sports': 'golf', 'language': 'python'}"
      ]
     },
     "execution_count": 8,
     "metadata": {},
     "output_type": "execute_result"
    }
   ],
   "source": [
    "del my_favorite['fruit']\n",
    "my_favorite"
   ]
  },
  {
   "cell_type": "code",
   "execution_count": 9,
   "id": "071173c4",
   "metadata": {},
   "outputs": [
    {
     "data": {
      "text/plain": [
       "1"
      ]
     },
     "execution_count": 9,
     "metadata": {},
     "output_type": "execute_result"
    }
   ],
   "source": [
    "my_favorite.pop('number')"
   ]
  },
  {
   "cell_type": "code",
   "execution_count": 10,
   "id": "23054465",
   "metadata": {},
   "outputs": [
    {
     "data": {
      "text/plain": [
       "{'sports': 'golf', 'language': 'python'}"
      ]
     },
     "execution_count": 10,
     "metadata": {},
     "output_type": "execute_result"
    }
   ],
   "source": [
    "my_favorite"
   ]
  },
  {
   "cell_type": "code",
   "execution_count": 11,
   "id": "56318520",
   "metadata": {},
   "outputs": [
    {
     "name": "stdout",
     "output_type": "stream",
     "text": [
      "fruit\n",
      "number\n",
      "sports\n",
      "food\n"
     ]
    }
   ],
   "source": [
    "my_favorite={\"fruit\":\"apple\",\"number\":1,\"sports\":\"golf\",'food':'라면'}\n",
    "for fav in my_favorite:\n",
    "    print(fav)"
   ]
  },
  {
   "cell_type": "code",
   "execution_count": 12,
   "id": "d1dd403f",
   "metadata": {},
   "outputs": [
    {
     "name": "stdout",
     "output_type": "stream",
     "text": [
      "apple\n",
      "1\n",
      "golf\n",
      "라면\n"
     ]
    }
   ],
   "source": [
    "for fav in my_favorite:\n",
    "    print(my_favorite[fav])"
   ]
  },
  {
   "cell_type": "code",
   "execution_count": 15,
   "id": "b892f315",
   "metadata": {},
   "outputs": [
    {
     "name": "stdout",
     "output_type": "stream",
     "text": [
      "apple\n",
      "1\n",
      "golf\n",
      "라면\n"
     ]
    }
   ],
   "source": [
    "for fav in my_favorite:\n",
    "    print(my_favorite.get(fav))"
   ]
  },
  {
   "cell_type": "code",
   "execution_count": 16,
   "id": "52075296",
   "metadata": {},
   "outputs": [
    {
     "name": "stdout",
     "output_type": "stream",
     "text": [
      "fruit\n",
      "number\n",
      "sports\n",
      "food\n"
     ]
    }
   ],
   "source": [
    "for key in my_favorite.keys():\n",
    "    print(key)"
   ]
  },
  {
   "cell_type": "code",
   "execution_count": 17,
   "id": "93e62a25",
   "metadata": {},
   "outputs": [
    {
     "name": "stdout",
     "output_type": "stream",
     "text": [
      "apple\n",
      "1\n",
      "golf\n",
      "라면\n"
     ]
    }
   ],
   "source": [
    "for value in my_favorite.values():\n",
    "    print(value)"
   ]
  },
  {
   "cell_type": "code",
   "execution_count": 20,
   "id": "dfdc64ef",
   "metadata": {},
   "outputs": [
    {
     "name": "stdout",
     "output_type": "stream",
     "text": [
      "fruit apple\n",
      "number 1\n",
      "sports golf\n",
      "food 라면\n"
     ]
    }
   ],
   "source": [
    "for items in my_favorite.items():\n",
    "    print(items[0],items[1])"
   ]
  },
  {
   "cell_type": "code",
   "execution_count": 21,
   "id": "f2ecb544",
   "metadata": {},
   "outputs": [
    {
     "data": {
      "text/plain": [
       "True"
      ]
     },
     "execution_count": 21,
     "metadata": {},
     "output_type": "execute_result"
    }
   ],
   "source": [
    "\"sports\" in my_favorite"
   ]
  },
  {
   "cell_type": "code",
   "execution_count": 22,
   "id": "74585a38",
   "metadata": {},
   "outputs": [
    {
     "data": {
      "text/plain": [
       "False"
      ]
     },
     "execution_count": 22,
     "metadata": {},
     "output_type": "execute_result"
    }
   ],
   "source": [
    "\"golf\" in my_favorite"
   ]
  },
  {
   "cell_type": "code",
   "execution_count": 23,
   "id": "d30a5f85",
   "metadata": {},
   "outputs": [
    {
     "name": "stdout",
     "output_type": "stream",
     "text": [
      "{'fruit': 'apple', 'number': 1, 'sports': 'golf', 'food': '라면'}\n",
      "{'fruit': 'apple', 'number': 1, 'sports': 'golf', 'food': '라면'}\n"
     ]
    }
   ],
   "source": [
    "my_fav = my_favorite.copy()\n",
    "print(my_favorite)\n",
    "print(my_fav)"
   ]
  },
  {
   "cell_type": "code",
   "execution_count": 24,
   "id": "dbd015af",
   "metadata": {},
   "outputs": [
    {
     "name": "stdout",
     "output_type": "stream",
     "text": [
      "{'fruit': 'apple', 'number': 1, 'sports': 'golf', 'food': '라면'}\n",
      "{'number': 1, 'sports': 'golf', 'food': '라면'}\n"
     ]
    }
   ],
   "source": [
    "del my_fav[\"fruit\"]\n",
    "print(my_favorite)\n",
    "print(my_fav)"
   ]
  }
 ],
 "metadata": {
  "kernelspec": {
   "display_name": "Python 3",
   "language": "python",
   "name": "python3"
  },
  "language_info": {
   "codemirror_mode": {
    "name": "ipython",
    "version": 3
   },
   "file_extension": ".py",
   "mimetype": "text/x-python",
   "name": "python",
   "nbconvert_exporter": "python",
   "pygments_lexer": "ipython3",
   "version": "3.8.8"
  }
 },
 "nbformat": 4,
 "nbformat_minor": 5
}
