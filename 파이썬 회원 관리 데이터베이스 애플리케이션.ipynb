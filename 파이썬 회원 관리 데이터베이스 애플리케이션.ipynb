{
 "cells": [
  {
   "cell_type": "markdown",
   "id": "1bc1a3eb",
   "metadata": {},
   "source": [
    "### 회원 관리 데이터베이스 애플리케이션"
   ]
  },
  {
   "cell_type": "code",
   "execution_count": 5,
   "id": "4fa81905",
   "metadata": {},
   "outputs": [],
   "source": [
    "# 회원 정보를 저장할 클래스를 정의합니다\n",
    "class Member:\n",
    "    def __init__(self,name,phone,email,age,grade,etc):\n",
    "        self.name=name\n",
    "        self.phone=phone\n",
    "        self.email=email\n",
    "        self.age=age\n",
    "        self.grade=grade\n",
    "        self.etc=etc\n",
    "    def __str__(self):\n",
    "        return(f\"name: {self.name}, phone:{self.phone},\"\n",
    "               f\"email:{self.email}, age:{self.age},\"\n",
    "               f\"grade:{self.grade}, etc:{self.etc}\")\n",
    "    def to_dict(self):\n",
    "        return{\"name\":self.name,\"phone\":self.phone, \"email\":self.email,\n",
    "              \"age\":self.age,\"grade\":self.grade,\"etc\":self.etc}"
   ]
  },
  {
   "cell_type": "code",
   "execution_count": 11,
   "id": "6f3d8072",
   "metadata": {},
   "outputs": [],
   "source": [
    "# 회원 정보를 입력받아 데이터베이스에 저장하는 함수입니다.\n",
    "def insert_member_info():\n",
    "    cursor=conn.cursor()\n",
    "    name=input(\"이름:\")\n",
    "    phone=input(\"전화번호:\")\n",
    "    email=input(\"이메일\")\n",
    "    age=int(input(\"나이:\"))\n",
    "    grade=int(input(\"고객등급(1~5):\"))\n",
    "    etc=input(\"기타정보:\")\n",
    "    member=Member(name,phone,email,age,grade,etc)\n",
    "    sql='insert into member_a values(:name,:phone,:email,:age,:grade,:etc)'\n",
    "    cursor.execute(sql,member.to_dict())"
   ]
  },
  {
   "cell_type": "code",
   "execution_count": 12,
   "id": "c42e1d9b",
   "metadata": {},
   "outputs": [],
   "source": [
    "#모든 회원 정보를 데이터베이스에서 조회한 후 출력하는 함수입니다.\n",
    "def get_all_members():\n",
    "    cursor=conn.cursor()\n",
    "    cursor.execute(\"select * from member_a\")\n",
    "    for data in cursor:\n",
    "        print(Member(*data))"
   ]
  },
  {
   "cell_type": "code",
   "execution_count": 13,
   "id": "804b4f08",
   "metadata": {},
   "outputs": [],
   "source": [
    "#이름으로 회원 정보를 조회하는 함수입니다.\n",
    "def search_member(name):\n",
    "    cursor=conn.cursor()\n",
    "    sql=\"select * from member_a where name=:name\"\n",
    "    cursor.execute(sql,(name,))\n",
    "    for data in cursor:\n",
    "        print(Member(*data))"
   ]
  },
  {
   "cell_type": "code",
   "execution_count": 14,
   "id": "4d8b26ca",
   "metadata": {},
   "outputs": [],
   "source": [
    "#회원의 정보를 삭제하는 함수입니다. 이메일을 통해서\n",
    "def delete_member(email):\n",
    "    cursor=conn.cursor()\n",
    "    sql=\"delete from member_a where email=:email\"\n",
    "    cursor.execute(sql,(email,))"
   ]
  },
  {
   "cell_type": "code",
   "execution_count": 16,
   "id": "1ddb2375",
   "metadata": {},
   "outputs": [],
   "source": [
    "#데이터베이스에서 조회한 정보를 CSV파일로 저장하는 함수입니다.\n",
    "def export_member():\n",
    "    file_name=input(\"파일명을 입력하세요.\")\n",
    "    cursor=conn.cursor()\n",
    "    cursor.execute(\"select * from member_a\")\n",
    "    members=cursor.fetchall()\n",
    "    colnames=[row[0] for row in cursor.description]\n",
    "    import csv\n",
    "    with open(file_name, 'w', newline='' ,encoding=\"utf-8-sig\") as file:\n",
    "        w = csv.writer(file, quoting=csv.QUOTE_NONNUMERIC)\n",
    "        w.writerow(colnames)\n",
    "        w.writerows(members)"
   ]
  },
  {
   "cell_type": "code",
   "execution_count": 17,
   "id": "3486e115",
   "metadata": {},
   "outputs": [],
   "source": [
    "def print_menu():\n",
    "    print(\"1.입력\", \"2.전체조회\", \"3.찾기\", \"4.삭제\", \"5.내보내기(CSV)\", \"0.종료\",\n",
    "         sep=\"|\", end=\"\")\n",
    "    menu=input(\"메뉴선택:\")\n",
    "    return int(menu)"
   ]
  },
  {
   "cell_type": "code",
   "execution_count": 18,
   "id": "e72bcffb",
   "metadata": {},
   "outputs": [],
   "source": [
    "def main():\n",
    "    while True:\n",
    "        menu=print_menu()\n",
    "        if menu==1:\n",
    "            insert_member_info()\n",
    "            conn.commit()\n",
    "        elif menu==2:\n",
    "            get_all_members()\n",
    "        elif menu==3:\n",
    "            name=input(\"찾고 싶은 회원의 이름을 입력하시오\")\n",
    "            search_member(name)\n",
    "        elif menu==4:\n",
    "            email=input(\"삭제할 회원의 이메일을 입력하시오\")\n",
    "            delete_member(email)\n",
    "            conn.commit()\n",
    "        elif menu==5:\n",
    "            export_member()\n",
    "        elif menu==0:\n",
    "            conn.close()\n",
    "            break"
   ]
  },
  {
   "cell_type": "code",
   "execution_count": 21,
   "id": "439dcdea",
   "metadata": {},
   "outputs": [],
   "source": [
    "#오라클에 연결할 conn객체 생성\n",
    "import cx_Oracle\n",
    "oracle_dsn=cx_Oracle.makedsn(host=\"localhost\", port=1521,sid=\"xe\")\n",
    "conn=cx_Oracle.connect(dsn=oracle_dsn,user=\"hr\",password=\"hr\")"
   ]
  },
  {
   "cell_type": "code",
   "execution_count": 22,
   "id": "97f580d0",
   "metadata": {},
   "outputs": [
    {
     "name": "stdout",
     "output_type": "stream",
     "text": [
      "1.입력|2.전체조회|3.찾기|4.삭제|5.내보내기(CSV)|0.종료메뉴선택:1\n",
      "이름:김동영\n",
      "전화번호:010-4593-4276\n",
      "이메일지메일\n",
      "나이:28\n",
      "고객등급(1~5):1\n",
      "기타정보:없음\n",
      "1.입력|2.전체조회|3.찾기|4.삭제|5.내보내기(CSV)|0.종료메뉴선택:2\n",
      "name: 김동영, phone:010-4593-4276,email:지메일, age:28,grade:1, etc:없음\n",
      "1.입력|2.전체조회|3.찾기|4.삭제|5.내보내기(CSV)|0.종료메뉴선택:1\n",
      "이름:ㄱㅁㄴㄷ\n",
      "전화번호:ㅁㄴㄷㄴ\n",
      "이메일ㅁㄷㄹㅇ\n",
      "나이:12\n",
      "고객등급(1~5):2\n",
      "기타정보:없음\n",
      "1.입력|2.전체조회|3.찾기|4.삭제|5.내보내기(CSV)|0.종료메뉴선택:2\n",
      "name: 김동영, phone:010-4593-4276,email:지메일, age:28,grade:1, etc:없음\n",
      "name: ㄱㅁㄴㄷ, phone:ㅁㄴㄷㄴ,email:ㅁㄷㄹㅇ, age:12,grade:2, etc:없음\n",
      "1.입력|2.전체조회|3.찾기|4.삭제|5.내보내기(CSV)|0.종료메뉴선택:5\n",
      "파일명을 입력하세요.연습\n",
      "1.입력|2.전체조회|3.찾기|4.삭제|5.내보내기(CSV)|0.종료메뉴선택:3\n",
      "찾고 싶은 회원의 이름을 입력하시오김동영\n",
      "name: 김동영, phone:010-4593-4276,email:지메일, age:28,grade:1, etc:없음\n",
      "1.입력|2.전체조회|3.찾기|4.삭제|5.내보내기(CSV)|0.종료메뉴선택:0\n"
     ]
    }
   ],
   "source": [
    "main()"
   ]
  }
 ],
 "metadata": {
  "kernelspec": {
   "display_name": "Python 3",
   "language": "python",
   "name": "python3"
  },
  "language_info": {
   "codemirror_mode": {
    "name": "ipython",
    "version": 3
   },
   "file_extension": ".py",
   "mimetype": "text/x-python",
   "name": "python",
   "nbconvert_exporter": "python",
   "pygments_lexer": "ipython3",
   "version": "3.8.8"
  }
 },
 "nbformat": 4,
 "nbformat_minor": 5
}
