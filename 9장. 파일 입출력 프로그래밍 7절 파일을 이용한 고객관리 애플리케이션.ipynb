{
 "cells": [
  {
   "cell_type": "markdown",
   "id": "8d5399a6",
   "metadata": {},
   "source": [
    "# 1절. 파일에 데이터 저장하고 불러오기"
   ]
  },
  {
   "cell_type": "code",
   "execution_count": 15,
   "id": "b84a7002",
   "metadata": {},
   "outputs": [
    {
     "name": "stdout",
     "output_type": "stream",
     "text": [
      "True\n"
     ]
    }
   ],
   "source": [
    "f = open(\"sample.txt\", \"a\", encoding=\"utf-8\")\n",
    "print(f.writable())"
   ]
  },
  {
   "cell_type": "code",
   "execution_count": 16,
   "id": "bf846032",
   "metadata": {},
   "outputs": [
    {
     "data": {
      "text/plain": [
       "12"
      ]
     },
     "execution_count": 16,
     "metadata": {},
     "output_type": "execute_result"
    }
   ],
   "source": [
    "f.write(\"Hello\\nWorld\\n\")"
   ]
  },
  {
   "cell_type": "code",
   "execution_count": 17,
   "id": "db44baa8",
   "metadata": {},
   "outputs": [],
   "source": [
    "f.close()"
   ]
  },
  {
   "cell_type": "code",
   "execution_count": 19,
   "id": "97ee1fb9",
   "metadata": {},
   "outputs": [
    {
     "name": "stdout",
     "output_type": "stream",
     "text": [
      "True\n"
     ]
    }
   ],
   "source": [
    "with open(\"sample.txt\", \"w\", encoding=\"utf-8\") as f:\n",
    "    print(f.writable())\n",
    "    f.write(\"Hello\\nWorld\\n\")"
   ]
  },
  {
   "cell_type": "code",
   "execution_count": 20,
   "id": "12ee98ca",
   "metadata": {},
   "outputs": [],
   "source": [
    "with open(\"sample.txt\", \"a\", encoding=\"utf-8\") as f:\n",
    "    print(\"프린트 함수로 쓸 수 있습니다.\", file=f)"
   ]
  },
  {
   "cell_type": "code",
   "execution_count": 1,
   "id": "67401964",
   "metadata": {},
   "outputs": [
    {
     "name": "stdout",
     "output_type": "stream",
     "text": [
      "Hello\n",
      "World\n",
      "프린트 함수로 쓸 수 있습니다.\n"
     ]
    }
   ],
   "source": [
    "with open(\"sample.txt\", \"r\", encoding=\"utf-8\") as f:\n",
    "    lines = f.readlines()\n",
    "    for line in lines:\n",
    "        print(line.strip())"
   ]
  },
  {
   "cell_type": "markdown",
   "id": "7c439fe2",
   "metadata": {},
   "source": [
    "# 2절. 피클을 이용한 객체 저장하고 불러오기"
   ]
  },
  {
   "cell_type": "code",
   "execution_count": 7,
   "id": "1289aeaf",
   "metadata": {},
   "outputs": [
    {
     "name": "stdout",
     "output_type": "stream",
     "text": [
      "p <class 'list'>\n",
      "이름 : 홍길동, 나이 : 20, 이메일 : kildong@hong.com, 주소 : 서울시 강동구\n",
      "이름 : 홍길서, 나이 : 25, 이메일 : kilseo@hong.com, 주소 : 서울시 강서구\n"
     ]
    }
   ],
   "source": [
    "with open(\"member.txt\", \"r\", encoding=\"utf-8\") as f:\n",
    "    lines = f.readlines()\n",
    "    print(\"p\", type(lines))\n",
    "    for line in lines:\n",
    "        data = line.strip().split(\",\")\n",
    "        name = data[0]\n",
    "        age = int(data[1])\n",
    "        email = data[2]\n",
    "        address = data[3]\n",
    "        print(f\"이름 : {name}, 나이 : {age}, 이메일 : {email}, 주소 : {address}\")"
   ]
  },
  {
   "cell_type": "code",
   "execution_count": 6,
   "id": "d07256f4",
   "metadata": {},
   "outputs": [],
   "source": [
    "class Member:\n",
    "    def __init__(self, name, age, email, address):\n",
    "        self.name = name\n",
    "        self.age = age\n",
    "        self.email = email\n",
    "        self.address = address\n",
    "        \n",
    "    def __str__(self):\n",
    "        return f\"이름 : {self.name}, 나이 : {self.age}, 이메일 : {self.email}, 주소 : {self.address}\""
   ]
  },
  {
   "cell_type": "code",
   "execution_count": 7,
   "id": "f4102941",
   "metadata": {},
   "outputs": [],
   "source": [
    "user1 = Member(\"홍\", 20, \"asd@asd.com\", \"서울시 강남\")\n",
    "user2 = Member(\"김\", 23, \"eee@eee.com\", \"서울시 강서\")\n",
    "user_list = [user1, user2]"
   ]
  },
  {
   "cell_type": "code",
   "execution_count": 8,
   "id": "c8487c6b",
   "metadata": {},
   "outputs": [],
   "source": [
    "f = open(\"member.data\", \"wb\")\n",
    "import pickle\n",
    "pickle.dump(user_list, file=f)\n",
    "f.close()"
   ]
  },
  {
   "cell_type": "markdown",
   "id": "46ec9780",
   "metadata": {},
   "source": [
    "언피클링"
   ]
  },
  {
   "cell_type": "code",
   "execution_count": 9,
   "id": "193489c6",
   "metadata": {},
   "outputs": [
    {
     "name": "stdout",
     "output_type": "stream",
     "text": [
      "[<__main__.Member object at 0x00000256C5527C10>, <__main__.Member object at 0x00000256C5527D30>]\n"
     ]
    }
   ],
   "source": [
    "import pickle\n",
    "f = open(\"member.data\", \"rb\")\n",
    "user_list = pickle.load(f)\n",
    "print(user_list)"
   ]
  },
  {
   "cell_type": "code",
   "execution_count": 10,
   "id": "eae71e44",
   "metadata": {},
   "outputs": [
    {
     "name": "stdout",
     "output_type": "stream",
     "text": [
      "이름 : 홍, 나이 : 20, 이메일 : asd@asd.com, 주소 : 서울시 강남\n",
      "이름 : 김, 나이 : 23, 이메일 : eee@eee.com, 주소 : 서울시 강서\n"
     ]
    }
   ],
   "source": [
    "for user in user_list:\n",
    "    print(user)\n",
    "f.close()"
   ]
  },
  {
   "cell_type": "markdown",
   "id": "8aabde01",
   "metadata": {},
   "source": [
    "# 3절. CSV 형식 파일 읽기/쓰기"
   ]
  },
  {
   "cell_type": "code",
   "execution_count": 12,
   "id": "e6ae3bdd",
   "metadata": {},
   "outputs": [
    {
     "name": "stdout",
     "output_type": "stream",
     "text": [
      "['홍길동', '20', 'kildong@hong.com', '서울시 강동구']\n",
      "['홍길서', '25', 'kilseo@hong.com', '서울시 강서구']\n"
     ]
    }
   ],
   "source": [
    "import csv\n",
    "with open(\"member1.csv\", \"r\", encoding=\"utf-8-sig\") as f:\n",
    "    r = csv.reader(f)\n",
    "    for row in r:\n",
    "        print(row)"
   ]
  },
  {
   "cell_type": "code",
   "execution_count": 19,
   "id": "85d3a60d",
   "metadata": {},
   "outputs": [
    {
     "name": "stdout",
     "output_type": "stream",
     "text": [
      "['홍길동', 20.0, 'kildong@hong.com', '서울시 강동구']\n",
      "['홍길서', 25.0, 'kilseo@hong.com', '서울시 강서구']\n"
     ]
    }
   ],
   "source": [
    "import csv\n",
    "with open(\"member1.csv\", \"r\", encoding=\"utf-8-sig\") as f:\n",
    "    r = csv.reader(f, quotechar='\"', quoting=csv.QUOTE_NONNUMERIC)\n",
    "    for row in r:\n",
    "        print(row)"
   ]
  },
  {
   "cell_type": "code",
   "execution_count": 20,
   "id": "749f55fa",
   "metadata": {},
   "outputs": [],
   "source": [
    "user_list=[[\"홍길동\", 20.0, \"kildong@hong.com\", \"서울시 강동구\"],\n",
    "          [\"홍길서\", 25.0, \"kilseo@hong.com\", \"서울시 강서구\"]]"
   ]
  },
  {
   "cell_type": "code",
   "execution_count": 24,
   "id": "4f6ae1d4",
   "metadata": {},
   "outputs": [],
   "source": [
    "import csv\n",
    "with open(\"member2.csv\", \"w\", newline=\"\", encoding=\"utf-8-sig\") as f:\n",
    "    w = csv.writer(f)\n",
    "    w.writerows(user_list)"
   ]
  },
  {
   "cell_type": "code",
   "execution_count": 25,
   "id": "ff9f8468",
   "metadata": {},
   "outputs": [],
   "source": [
    "with open(\"member2.csv\", \"w\", newline=\"\", encoding=\"utf-8-sig\") as f:\n",
    "    w = csv.writer(f, quoting=csv.QUOTE_NONNUMERIC)\n",
    "    w.writerows(user_list)"
   ]
  },
  {
   "cell_type": "code",
   "execution_count": 34,
   "id": "8268f0cb",
   "metadata": {},
   "outputs": [
    {
     "name": "stdout",
     "output_type": "stream",
     "text": [
      "홍길동 20 kildong@hong.com 서울시 강동구\n",
      "홍길서 25 kilseo@hong.com 서울시 강서구\n"
     ]
    }
   ],
   "source": [
    "import csv\n",
    "with open(\"member3.csv\", encoding=\"utf-8-sig\") as f:\n",
    "    dict_reader = csv.DictReader(f)\n",
    "    for row in dict_reader:\n",
    "        print(row[\"Name\"], row[\"Age\"], row[\"Email\"], row[\"Address\"])"
   ]
  },
  {
   "cell_type": "code",
   "execution_count": 29,
   "id": "38077749",
   "metadata": {},
   "outputs": [
    {
     "name": "stdout",
     "output_type": "stream",
     "text": [
      "홍길동 20 kildong@hong.com 서울시 강동구\n",
      "홍길서 25 kilseo@hong.com 서울시 강서구\n"
     ]
    }
   ],
   "source": [
    "import csv\n",
    "with open(\"member1.csv\", encoding=\"utf-8-sig\") as f:\n",
    "    dict_reader = csv.DictReader(f, fieldnames=[\"Name\", \"Age\", \"Email\", \"Address\"])\n",
    "    for row in dict_reader:\n",
    "        print(row[\"Name\"], row[\"Age\"], row[\"Email\"], row[\"Address\"])"
   ]
  },
  {
   "cell_type": "code",
   "execution_count": 30,
   "id": "4baf3896",
   "metadata": {},
   "outputs": [
    {
     "name": "stdout",
     "output_type": "stream",
     "text": [
      "홍길동 20 kildong@hong.com ['서울시 강동구']\n",
      "홍길서 25 kilseo@hong.com ['서울시 강서구']\n"
     ]
    }
   ],
   "source": [
    "import csv\n",
    "with open(\"member1.csv\", encoding=\"utf-8-sig\") as f:\n",
    "    dict_reader = csv.DictReader(f, fieldnames=[\"Name\", \"Age\", \"Email\"], restkey=\"Etc\")\n",
    "    for row in dict_reader:\n",
    "        print(row[\"Name\"], row[\"Age\"], row[\"Email\"], row[\"Etc\"])"
   ]
  },
  {
   "cell_type": "code",
   "execution_count": 33,
   "id": "e02178aa",
   "metadata": {},
   "outputs": [
    {
     "name": "stdout",
     "output_type": "stream",
     "text": [
      "{'Name': '홍길동', 'Age': '20', 'Email': 'kildong@hong.com', 'Address': '서울시 강동구', 'Etc': ' 동해번쩍'}\n",
      "{'Name': '홍길서', 'Age': '25', 'Email': 'kilseo@hong.com', 'Address': '서울시 강서구', 'Etc': '없음'}\n"
     ]
    }
   ],
   "source": [
    "import csv\n",
    "with open(\"member3-2.csv\", encoding=\"utf-8-sig\") as f:\n",
    "    dict_reader = csv.DictReader(f, restval=\"없음\")\n",
    "    for row in dict_reader:\n",
    "        print(row)"
   ]
  },
  {
   "cell_type": "code",
   "execution_count": 37,
   "id": "17c81ddb",
   "metadata": {},
   "outputs": [],
   "source": [
    "user1 = {\"Name\":\"홍길동\", \"Age\":20, \"Email\":\"kildong@hong.com\", \"Address\":\"서울시 강동구\"}\n",
    "user2 = {\"Name\":\"홍길2\", \"Age\":25, \"Email\":\"kilseo@hong.com\", \"Address\":\"서울시 강서구\"}\n",
    "\n",
    "import csv\n",
    "with open(\"member4.csv\", \"w\", newline=\"\", encoding=\"utf-8-sig\") as f:\n",
    "    fieldnames = [\"Name\", \"Age\", \"Email\", \"Address\"]\n",
    "    dict_writer = csv.DictWriter(f, fieldnames=fieldnames)\n",
    "    dict_writer.writeheader()\n",
    "    dict_writer.writerow(user1)\n",
    "    dict_writer.writerow(user2)"
   ]
  },
  {
   "cell_type": "code",
   "execution_count": 39,
   "id": "7e85f7c4",
   "metadata": {},
   "outputs": [],
   "source": [
    "user_list = [{\"Name\":\"홍길동\", \"Age\":20, \"Email\":\"kildong@hong.com\", \"Address\":\"서울시 강동구\"}, \n",
    "            {\"Name\":\"홍길2\", \"Age\":25, \"Email\":\"kilseo@hong.com\", \"Address\":\"서울시 강서구\"}]\n",
    "\n",
    "import csv\n",
    "with open(\"member5.csv\", \"w\", newline=\"\", encoding=\"utf-8-sig\") as f:\n",
    "    fieldnames = [\"Name\", \"Age\", \"Email\", \"Address\"]\n",
    "    dict_writer = csv.DictWriter(f, fieldnames=fieldnames)\n",
    "    dict_writer.writeheader()\n",
    "    dict_writer.writerows(user_list)"
   ]
  },
  {
   "cell_type": "code",
   "execution_count": 41,
   "id": "1ab9878a",
   "metadata": {},
   "outputs": [],
   "source": [
    "user_list = [{\"Name\":\"홍길동\", \"Age\":20, \"Email\":\"kildong@hong.com\", \"Address\":\"서울시 강동구\"}, \n",
    "            {\"Name\":\"홍길2\", \"Age\":25, \"Email\":\"kilseo@hong.com\", \"Address\":\"서울시 강서구\"}]\n",
    "\n",
    "import csv\n",
    "with open(\"member5-2.csv\", \"w\", newline=\"\", encoding=\"utf-8-sig\") as f:\n",
    "    fieldnames = [\"Name\", \"Age\", \"Email\"]\n",
    "    dict_writer = csv.DictWriter(f, fieldnames=fieldnames, extrasaction=\"ignore\")\n",
    "    dict_writer.writeheader()\n",
    "    dict_writer.writerows(user_list)"
   ]
  },
  {
   "cell_type": "markdown",
   "id": "acf3d309",
   "metadata": {},
   "source": [
    "# 4절. JSON 데이터 저장하고 불러오기"
   ]
  },
  {
   "cell_type": "code",
   "execution_count": 42,
   "id": "2c1bbd96",
   "metadata": {},
   "outputs": [],
   "source": [
    "data = [\"foo\", {\"bar\": (\"baz\", None, 1.0, 2)}]"
   ]
  },
  {
   "cell_type": "code",
   "execution_count": 44,
   "id": "e80fdea8",
   "metadata": {},
   "outputs": [],
   "source": [
    "import json\n",
    "with open(\"sample.json\", \"w\") as jsonfile:\n",
    "    json.dump(data,jsonfile, indent=True)"
   ]
  },
  {
   "cell_type": "code",
   "execution_count": 45,
   "id": "3d450271",
   "metadata": {},
   "outputs": [],
   "source": [
    "class Member:\n",
    "    def __init__(self, name, age, email, address):\n",
    "        self.name = name\n",
    "        self.age = age\n",
    "        self.email = email\n",
    "        self.address = address\n",
    "        \n",
    "    def as_dict(self):\n",
    "        return {\"name\":self.name, \"age\":self.age, \"email\":self.email, \"address\":self.address}"
   ]
  },
  {
   "cell_type": "code",
   "execution_count": 46,
   "id": "f21d0ae8",
   "metadata": {},
   "outputs": [],
   "source": [
    "user1 = Member(\"홍\", 20, \"asd@asd.com\", \"서울시 강남\")\n",
    "user2 = Member(\"김\", 23, \"eee@eee.com\", \"서울시 강서\")\n",
    "user_list = [user1, user2]"
   ]
  },
  {
   "cell_type": "code",
   "execution_count": 47,
   "id": "b1eba6da",
   "metadata": {},
   "outputs": [],
   "source": [
    "import json\n",
    "with open(\"member.json\", \"w\", encoding=\"utf-8-sig\") as jsonfile:\n",
    "    json.dump(user_list, jsonfile, ensure_ascii=False, indent=\"\\t\", default=Member.as_dict)"
   ]
  },
  {
   "cell_type": "code",
   "execution_count": 54,
   "id": "1df31eb7",
   "metadata": {},
   "outputs": [
    {
     "name": "stdout",
     "output_type": "stream",
     "text": [
      "<class 'list'>\n"
     ]
    }
   ],
   "source": [
    "import json \n",
    "with open(\"member.json\", encoding=\"utf-8-sig\") as jsonfile:\n",
    "    user_list = json.load(jsonfile)\n",
    "    print(type(user_list))"
   ]
  },
  {
   "cell_type": "code",
   "execution_count": 51,
   "id": "2362965f",
   "metadata": {},
   "outputs": [],
   "source": [
    "class Member:\n",
    "    def __init__(self, name, age, email, address):\n",
    "        self.name = name\n",
    "        self.age = age\n",
    "        self.email = email\n",
    "        self.address = address\n",
    "        \n",
    "    def as_dict(self):\n",
    "        return {\"name\":self.name, \"age\":self.age, \"email\":self.email, \"address\":self.address}\n",
    "    \n",
    "    def __str__(self):\n",
    "        return f\"Name:{self.name}, Age:{self.age}, Email:{self.email}, Address:{self.address}\"\n",
    "    \n",
    "def as_member(dct):\n",
    "    return Member(dct[\"name\"], dct[\"age\"], dct[\"email\"], dct[\"address\"])"
   ]
  },
  {
   "cell_type": "code",
   "execution_count": 52,
   "id": "cbdb13ae",
   "metadata": {},
   "outputs": [
    {
     "name": "stdout",
     "output_type": "stream",
     "text": [
      "Name:홍, Age:20, Email:asd@asd.com, Address:서울시 강남\n",
      "Name:김, Age:23, Email:eee@eee.com, Address:서울시 강서\n"
     ]
    }
   ],
   "source": [
    "import json\n",
    "with open(\"member.json\", encoding=\"utf-8-sig\") as jsonfile:\n",
    "    user_list = json.load(jsonfile, object_hook=as_member)\n",
    "    for user in user_list:\n",
    "        print(user)"
   ]
  },
  {
   "cell_type": "code",
   "execution_count": 55,
   "id": "ea1d455f",
   "metadata": {},
   "outputs": [],
   "source": [
    "import json\n",
    "\n",
    "class MemberEncoder(json.JSONEncoder):\n",
    "    def default(self, obj):\n",
    "        if isinstance(obj, Member):\n",
    "            return [obj.name, obj.age, obj.email, obj.address]\n",
    "        return json.JSONEncoder.default(self, obj)"
   ]
  },
  {
   "cell_type": "code",
   "execution_count": 56,
   "id": "466f5798",
   "metadata": {},
   "outputs": [],
   "source": [
    "with open(\"member2.json\", \"w\", encoding=\"utf-8-sig\") as jsonfile:\n",
    "    json.dump(user_list, jsonfile, indent=\"\\t\", ensure_ascii=False, cls=MemberEncoder)"
   ]
  },
  {
   "cell_type": "code",
   "execution_count": 59,
   "id": "9849805d",
   "metadata": {},
   "outputs": [],
   "source": [
    "class MemberDecoder(json.JSONDecoder):\n",
    "    def __init__(self, *args, **kwargs):\n",
    "        json.JSONDecoder.__init__(self, object_hook=self.object_hook, *args, **kwargs)\n",
    "        \n",
    "    def object_hook(self, obj):\n",
    "        if(\"name\" in obj):\n",
    "            return Member(obj[\"name\"], obj[\"age\"], obj[\"email\"], obj[\"address\"])"
   ]
  },
  {
   "cell_type": "code",
   "execution_count": 60,
   "id": "b7f61b7b",
   "metadata": {},
   "outputs": [
    {
     "name": "stdout",
     "output_type": "stream",
     "text": [
      "Name:홍, Age:20, Email:asd@asd.com, Address:서울시 강남\n",
      "Name:김, Age:23, Email:eee@eee.com, Address:서울시 강서\n"
     ]
    }
   ],
   "source": [
    "with open(\"member.json\", encoding=\"utf-8-sig\") as jsonfile:\n",
    "    user_list = json.load(jsonfile, cls=MemberDecoder)\n",
    "    for user in user_list:\n",
    "        print(user)"
   ]
  },
  {
   "cell_type": "markdown",
   "id": "6d0d5a1f",
   "metadata": {},
   "source": [
    "# 7절. 파일을 이용한 고객관리 애플리케이션 프로젝트"
   ]
  },
  {
   "cell_type": "markdown",
   "id": "25cd0233",
   "metadata": {},
   "source": [
    "1. 고객정보는 이름, 전화번호, 나이, 고객 등급(1~5), 이메일, 기타 특징점\n",
    "2. 고객 클래스를 이용하여 정보를 저장하고 리스트를 이용하여 관리\n",
    "3. 고객 정보들은 파일에 저장하고 불러올 수 있어야 함, 데이터 저장은 피클을 사용\n",
    "4. 리스트 데이터는 csv파일로 내보내기 기능이 있어야 함\n",
    "5. 고객의 정보는 입력, 고객정보 전체 조회, 검색(이름으로 검색), 삭제(이름으로) 할수 있어야 함"
   ]
  },
  {
   "cell_type": "code",
   "execution_count": 82,
   "id": "4a0ec44e",
   "metadata": {},
   "outputs": [
    {
     "name": "stdout",
     "output_type": "stream",
     "text": [
      "데이터파일이 로드되었습니다.\n",
      "1. 입력\n",
      "2. 전체 조회\n",
      "3. 삭제\n",
      "4. 찾기\n",
      "5. 내보내기(CSV)\n",
      "9. 종료\n",
      "메뉴를 선택해 주세요 : 5\n",
      "저장할 파일 이름을 입력하세요.member6.csv\n",
      "csv파일이 저장되었습니다, 파일명 :  member6.csv\n",
      "1. 입력\n",
      "2. 전체 조회\n",
      "3. 삭제\n",
      "4. 찾기\n",
      "5. 내보내기(CSV)\n",
      "9. 종료\n"
     ]
    },
    {
     "ename": "KeyboardInterrupt",
     "evalue": "Interrupted by user",
     "output_type": "error",
     "traceback": [
      "\u001b[1;31m---------------------------------------------------------------------------\u001b[0m",
      "\u001b[1;31mKeyboardInterrupt\u001b[0m                         Traceback (most recent call last)",
      "\u001b[1;32m<ipython-input-82-1047aa5cf745>\u001b[0m in \u001b[0;36m<module>\u001b[1;34m\u001b[0m\n\u001b[0;32m    127\u001b[0m \u001b[1;33m\u001b[0m\u001b[0m\n\u001b[0;32m    128\u001b[0m \u001b[1;32mif\u001b[0m \u001b[0m__name__\u001b[0m \u001b[1;33m==\u001b[0m \u001b[1;34m\"__main__\"\u001b[0m\u001b[1;33m:\u001b[0m\u001b[1;33m\u001b[0m\u001b[1;33m\u001b[0m\u001b[0m\n\u001b[1;32m--> 129\u001b[1;33m     \u001b[0mmain\u001b[0m\u001b[1;33m(\u001b[0m\u001b[1;33m)\u001b[0m\u001b[1;33m\u001b[0m\u001b[1;33m\u001b[0m\u001b[0m\n\u001b[0m",
      "\u001b[1;32m<ipython-input-82-1047aa5cf745>\u001b[0m in \u001b[0;36mmain\u001b[1;34m()\u001b[0m\n\u001b[0;32m    102\u001b[0m         \u001b[0mprint\u001b[0m\u001b[1;33m(\u001b[0m\u001b[1;34m\"데이터파일이 로드되었습니다.\"\u001b[0m\u001b[1;33m)\u001b[0m\u001b[1;33m\u001b[0m\u001b[1;33m\u001b[0m\u001b[0m\n\u001b[0;32m    103\u001b[0m     \u001b[1;32mwhile\u001b[0m \u001b[1;36m1\u001b[0m\u001b[1;33m:\u001b[0m\u001b[1;33m\u001b[0m\u001b[1;33m\u001b[0m\u001b[0m\n\u001b[1;32m--> 104\u001b[1;33m         \u001b[0mmenu\u001b[0m \u001b[1;33m=\u001b[0m \u001b[0mprint_menu\u001b[0m\u001b[1;33m(\u001b[0m\u001b[1;33m)\u001b[0m\u001b[1;33m\u001b[0m\u001b[1;33m\u001b[0m\u001b[0m\n\u001b[0m\u001b[0;32m    105\u001b[0m \u001b[1;33m\u001b[0m\u001b[0m\n\u001b[0;32m    106\u001b[0m         \u001b[1;32mif\u001b[0m \u001b[0mmenu\u001b[0m \u001b[1;33m==\u001b[0m \u001b[1;36m1\u001b[0m\u001b[1;33m:\u001b[0m\u001b[1;33m\u001b[0m\u001b[1;33m\u001b[0m\u001b[0m\n",
      "\u001b[1;32m<ipython-input-82-1047aa5cf745>\u001b[0m in \u001b[0;36mprint_menu\u001b[1;34m()\u001b[0m\n\u001b[0;32m     90\u001b[0m     \u001b[0mprint\u001b[0m\u001b[1;33m(\u001b[0m\u001b[1;34m\"5. 내보내기(CSV)\"\u001b[0m\u001b[1;33m)\u001b[0m\u001b[1;33m\u001b[0m\u001b[1;33m\u001b[0m\u001b[0m\n\u001b[0;32m     91\u001b[0m     \u001b[0mprint\u001b[0m\u001b[1;33m(\u001b[0m\u001b[1;34m\"9. 종료\"\u001b[0m\u001b[1;33m)\u001b[0m\u001b[1;33m\u001b[0m\u001b[1;33m\u001b[0m\u001b[0m\n\u001b[1;32m---> 92\u001b[1;33m     \u001b[0mmenu\u001b[0m \u001b[1;33m=\u001b[0m \u001b[0mint\u001b[0m\u001b[1;33m(\u001b[0m\u001b[0minput\u001b[0m\u001b[1;33m(\u001b[0m\u001b[1;34m\"메뉴를 선택해 주세요 : \"\u001b[0m\u001b[1;33m)\u001b[0m\u001b[1;33m)\u001b[0m\u001b[1;33m\u001b[0m\u001b[1;33m\u001b[0m\u001b[0m\n\u001b[0m\u001b[0;32m     93\u001b[0m     \u001b[1;32mreturn\u001b[0m \u001b[0mmenu\u001b[0m\u001b[1;33m\u001b[0m\u001b[1;33m\u001b[0m\u001b[0m\n\u001b[0;32m     94\u001b[0m \u001b[1;33m\u001b[0m\u001b[0m\n",
      "\u001b[1;32m~\\anaconda3\\lib\\site-packages\\ipykernel\\kernelbase.py\u001b[0m in \u001b[0;36mraw_input\u001b[1;34m(self, prompt)\u001b[0m\n\u001b[0;32m    858\u001b[0m                 \u001b[1;34m\"raw_input was called, but this frontend does not support input requests.\"\u001b[0m\u001b[1;33m\u001b[0m\u001b[1;33m\u001b[0m\u001b[0m\n\u001b[0;32m    859\u001b[0m             )\n\u001b[1;32m--> 860\u001b[1;33m         return self._input_request(str(prompt),\n\u001b[0m\u001b[0;32m    861\u001b[0m             \u001b[0mself\u001b[0m\u001b[1;33m.\u001b[0m\u001b[0m_parent_ident\u001b[0m\u001b[1;33m,\u001b[0m\u001b[1;33m\u001b[0m\u001b[1;33m\u001b[0m\u001b[0m\n\u001b[0;32m    862\u001b[0m             \u001b[0mself\u001b[0m\u001b[1;33m.\u001b[0m\u001b[0m_parent_header\u001b[0m\u001b[1;33m,\u001b[0m\u001b[1;33m\u001b[0m\u001b[1;33m\u001b[0m\u001b[0m\n",
      "\u001b[1;32m~\\anaconda3\\lib\\site-packages\\ipykernel\\kernelbase.py\u001b[0m in \u001b[0;36m_input_request\u001b[1;34m(self, prompt, ident, parent, password)\u001b[0m\n\u001b[0;32m    902\u001b[0m             \u001b[1;32mexcept\u001b[0m \u001b[0mKeyboardInterrupt\u001b[0m\u001b[1;33m:\u001b[0m\u001b[1;33m\u001b[0m\u001b[1;33m\u001b[0m\u001b[0m\n\u001b[0;32m    903\u001b[0m                 \u001b[1;31m# re-raise KeyboardInterrupt, to truncate traceback\u001b[0m\u001b[1;33m\u001b[0m\u001b[1;33m\u001b[0m\u001b[1;33m\u001b[0m\u001b[0m\n\u001b[1;32m--> 904\u001b[1;33m                 \u001b[1;32mraise\u001b[0m \u001b[0mKeyboardInterrupt\u001b[0m\u001b[1;33m(\u001b[0m\u001b[1;34m\"Interrupted by user\"\u001b[0m\u001b[1;33m)\u001b[0m \u001b[1;32mfrom\u001b[0m \u001b[1;32mNone\u001b[0m\u001b[1;33m\u001b[0m\u001b[1;33m\u001b[0m\u001b[0m\n\u001b[0m\u001b[0;32m    905\u001b[0m             \u001b[1;32mexcept\u001b[0m \u001b[0mException\u001b[0m \u001b[1;32mas\u001b[0m \u001b[0me\u001b[0m\u001b[1;33m:\u001b[0m\u001b[1;33m\u001b[0m\u001b[1;33m\u001b[0m\u001b[0m\n\u001b[0;32m    906\u001b[0m                 \u001b[0mself\u001b[0m\u001b[1;33m.\u001b[0m\u001b[0mlog\u001b[0m\u001b[1;33m.\u001b[0m\u001b[0mwarning\u001b[0m\u001b[1;33m(\u001b[0m\u001b[1;34m\"Invalid Message:\"\u001b[0m\u001b[1;33m,\u001b[0m \u001b[0mexc_info\u001b[0m\u001b[1;33m=\u001b[0m\u001b[1;32mTrue\u001b[0m\u001b[1;33m)\u001b[0m\u001b[1;33m\u001b[0m\u001b[1;33m\u001b[0m\u001b[0m\n",
      "\u001b[1;31mKeyboardInterrupt\u001b[0m: Interrupted by user"
     ]
    },
    {
     "name": "stdout",
     "output_type": "stream",
     "text": [
      "메뉴를 선택해 주세요 : 2\n"
     ]
    }
   ],
   "source": [
    "class Customer:\n",
    "    def __init__(self, name, phone, email, age, grade, etc):\n",
    "        self.name = name\n",
    "        self.phone = phone\n",
    "        self.email = email\n",
    "        self.age = age\n",
    "        self.grade = grade\n",
    "        self.etc = etc\n",
    "    \n",
    "    def print_info(self):\n",
    "        print(f\"{'*' * self.grade:>5} {self.name:<3} {self.phone:<15} {self.email:<15} {self.age:>3} {self.etc}\")\n",
    "        \n",
    "def insert_customer_info():\n",
    "    name = input(\"이름 : \")\n",
    "    phone = input(\"연락처 : \")\n",
    "    email = input(\"이메일 : \")\n",
    "    age = input(\"나이 : \")\n",
    "    grade = input(\"고객등급(1~5) : \")\n",
    "    etc = input(\"기타정보 : \")\n",
    "    customer = Customer(name, phone, email, age, int(grade), etc)\n",
    "    return customer\n",
    "\n",
    "def print_customer(customer_list):\n",
    "    print(\"=\"*30)\n",
    "    print(f\"{'고객정보리스트':^30}\")\n",
    "    print(\"-\"*30)\n",
    "    print(f\"{'grage':<5} {'name':<6} {'phone':<15} {'email':<15} {'age':>3} {'etc':}\")\n",
    "    print(\"=\"*30)\n",
    "    for cust in customer_list:\n",
    "        cust.print_info()\n",
    "    print(\"=\"*30)\n",
    "    \n",
    "def delete_customer(customer_list, name):\n",
    "    for i, cust in enumerate(customer_list):\n",
    "        if cust.name == name:\n",
    "            del customer_list[i]\n",
    "            break\n",
    "\n",
    "def search_customer(customer_list, name):\n",
    "    search_list = []\n",
    "    for i, cust in enumerate(customer_list):\n",
    "        if cust.name == name:\n",
    "            search_list.append(customer_list[i])\n",
    "    return search_list\n",
    "    \n",
    "    \n",
    "def load_customer():\n",
    "    import pickle\n",
    "    customer_list = []\n",
    "    try:\n",
    "        f = open(\"customer_db.data\", \"rb\")\n",
    "        customer_list = pickle.load(f)\n",
    "    except Exception as e:\n",
    "        print(\"데이터 로드 예외 : \", e)\n",
    "    finally:\n",
    "        try:\n",
    "            f.close()\n",
    "        except Exception:\n",
    "            pass\n",
    "    return customer_list\n",
    "\n",
    "def save_customer(customer_list):\n",
    "    import pickle\n",
    "    try:\n",
    "        f = open(\"customer_db.data\", \"wb\")\n",
    "        pickle.dump(customer_list, f)\n",
    "    except Exception as e:\n",
    "        print(\"데이터 저장 예외 : \", e)\n",
    "    finally:\n",
    "        f.close()\n",
    "\n",
    "def save_csv(customer_list):\n",
    "    try:\n",
    "        file_name = input(\"저장할 파일 이름을 입력하세요 : \")\n",
    "        f = open(file_name, \"wt\")\n",
    "        for cust in customer_list:\n",
    "            print(cust.name, cust.phone, cust.email, cust.age, cust.grade, cust.etc, sep=\",\", end=\"\\n\", file=f)\n",
    "    except Exception as e:\n",
    "        print(\"예외 발생 : \", e)\n",
    "    else:\n",
    "        print(\"csv파일이 저장되었습니다, 파일명 : \", file_name)\n",
    "    finally:\n",
    "        f.close()\n",
    "        \n",
    "def print_menu():\n",
    "    print(\"1. 입력\")\n",
    "    print(\"2. 전체 조회\")\n",
    "    print(\"3. 삭제\")\n",
    "    print(\"4. 찾기\")\n",
    "    print(\"5. 내보내기(CSV)\")\n",
    "    print(\"9. 종료\")\n",
    "    menu = int(input(\"메뉴를 선택해 주세요 : \"))\n",
    "    return menu\n",
    "\n",
    "def main():\n",
    "    customer_list = []\n",
    "    try:\n",
    "        customer_list = load_customer()\n",
    "    except OSError as e:\n",
    "        print(e)\n",
    "    else:\n",
    "        print(\"데이터파일이 로드되었습니다.\")\n",
    "    while 1:\n",
    "        menu = print_menu()\n",
    "\n",
    "        if menu == 1:\n",
    "            cust = insert_customer_info()\n",
    "            customer_list.append(cust)\n",
    "        elif menu == 2:\n",
    "            print_customer(customer_list)\n",
    "        elif menu == 3:\n",
    "            name = input(\"삭제할 이름을 입력하세요 : \")\n",
    "            delete_customer(customer_list, name)\n",
    "        elif menu == 4:\n",
    "            name = input(\"찾을 고객의 이름을 입력하세요 : \")\n",
    "            print_customer(search_customer(customer_list, name))\n",
    "        elif menu == 5:\n",
    "            save_csv(customer_list)\n",
    "        elif menu == 9:\n",
    "            print(\"프로그램을 종료합니다.\")\n",
    "            save_customer(customer_list)\n",
    "            break\n",
    "        else:\n",
    "            print(\"잘못 입력되었습니다. 다시 입력해주세요.\")\n",
    "            print()\n",
    "            continue\n",
    "\n",
    "if __name__ == \"__main__\":\n",
    "    main()"
   ]
  }
 ],
 "metadata": {
  "kernelspec": {
   "display_name": "Python 3",
   "language": "python",
   "name": "python3"
  },
  "language_info": {
   "codemirror_mode": {
    "name": "ipython",
    "version": 3
   },
   "file_extension": ".py",
   "mimetype": "text/x-python",
   "name": "python",
   "nbconvert_exporter": "python",
   "pygments_lexer": "ipython3",
   "version": "3.8.8"
  },
  "toc": {
   "base_numbering": 1,
   "nav_menu": {},
   "number_sections": false,
   "sideBar": true,
   "skip_h1_title": false,
   "title_cell": "Table of Contents",
   "title_sidebar": "Contents",
   "toc_cell": false,
   "toc_position": {
    "height": "calc(100% - 180px)",
    "left": "10px",
    "top": "150px",
    "width": "384px"
   },
   "toc_section_display": true,
   "toc_window_display": true
  }
 },
 "nbformat": 4,
 "nbformat_minor": 5
}
