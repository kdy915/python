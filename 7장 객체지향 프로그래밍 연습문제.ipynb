{
 "cells": [
  {
   "cell_type": "markdown",
   "id": "a2c9bae2",
   "metadata": {},
   "source": [
    "### 7장 연습문제 실습형"
   ]
  },
  {
   "cell_type": "code",
   "execution_count": 1,
   "id": "56898dec",
   "metadata": {},
   "outputs": [],
   "source": [
    "class Shape:\n",
    "    def __init__(self,x=0,y=0):\n",
    "        self.x=x\n",
    "        self.y=y\n",
    "        \n",
    "    def __str__(self):\n",
    "        return \"x:{} y:{}\".format(self.x,self.y)\n",
    "    \n",
    "    def move(self,_x,_y):\n",
    "        self.x += _x\n",
    "        self.y += _y\n",
    "        \n",
    "    def calc_area(self):\n",
    "        print(\"구현되어 있지 않음\")\n",
    "    \n",
    "    @staticmethod\n",
    "    def info():\n",
    "        print(\"도형 클래스 입니다.\")        "
   ]
  },
  {
   "cell_type": "code",
   "execution_count": 2,
   "id": "da30a4ca",
   "metadata": {},
   "outputs": [],
   "source": [
    "class Triangle(Shape):\n",
    "    __count=0\n",
    "    \n",
    "    def __init__(self,width,height,x=0,y=0):\n",
    "        Triangle._Triangle__count = Triangle._Triangle__count+1\n",
    "        self.width=width\n",
    "        self.height=height\n",
    "        Shape.__init__(self,x,y)\n",
    "        \n",
    "    def __del__(self):\n",
    "        Triangle._Triangle__count += -1\n",
    "        \n",
    "    def calc_area(self):\n",
    "        return self.width*self.height/2\n",
    "    \n",
    "    def __str__(self):\n",
    "        return \"좌표 x:{}, y:{} 너비:{}, 높이:{} {}\".format(self.x,self.y,self.width,self.height,Triangle._Triangle__count)\n",
    "    \n",
    "    @classmethod\n",
    "    def get_count(cls):\n",
    "        return(cls.__count)"
   ]
  },
  {
   "cell_type": "code",
   "execution_count": 3,
   "id": "94ef89a5",
   "metadata": {},
   "outputs": [
    {
     "name": "stdout",
     "output_type": "stream",
     "text": [
      "100.0\n"
     ]
    }
   ],
   "source": [
    "t1=Triangle(10,20)\n",
    "print(t1.calc_area())"
   ]
  },
  {
   "cell_type": "code",
   "execution_count": 4,
   "id": "f1d4787d",
   "metadata": {},
   "outputs": [
    {
     "name": "stdout",
     "output_type": "stream",
     "text": [
      "좌표 x:0, y:0 너비:10, 높이:20 1\n"
     ]
    }
   ],
   "source": [
    "print(t1)"
   ]
  },
  {
   "cell_type": "code",
   "execution_count": 5,
   "id": "e77b879d",
   "metadata": {},
   "outputs": [
    {
     "name": "stdout",
     "output_type": "stream",
     "text": [
      "좌표 x:5, y:10 너비:10, 높이:20 1\n"
     ]
    }
   ],
   "source": [
    "t1.move(5,10)\n",
    "print(t1)"
   ]
  },
  {
   "cell_type": "code",
   "execution_count": 6,
   "id": "5fc0e858",
   "metadata": {},
   "outputs": [
    {
     "name": "stdout",
     "output_type": "stream",
     "text": [
      "1\n"
     ]
    }
   ],
   "source": [
    "print(Triangle._Triangle__count)"
   ]
  },
  {
   "cell_type": "code",
   "execution_count": 7,
   "id": "bd8dc384",
   "metadata": {},
   "outputs": [
    {
     "name": "stdout",
     "output_type": "stream",
     "text": [
      "2\n"
     ]
    }
   ],
   "source": [
    "t2=Triangle(20,40)\n",
    "print(Triangle._Triangle__count)"
   ]
  },
  {
   "cell_type": "code",
   "execution_count": 8,
   "id": "529c1be5",
   "metadata": {},
   "outputs": [
    {
     "name": "stdout",
     "output_type": "stream",
     "text": [
      "2\n"
     ]
    }
   ],
   "source": [
    "print(Triangle.get_count())"
   ]
  },
  {
   "cell_type": "code",
   "execution_count": 9,
   "id": "8cf829d4",
   "metadata": {},
   "outputs": [
    {
     "name": "stdout",
     "output_type": "stream",
     "text": [
      "1\n"
     ]
    }
   ],
   "source": [
    "t1=None\n",
    "print(Triangle._Triangle__count)"
   ]
  },
  {
   "cell_type": "markdown",
   "id": "4a03d730",
   "metadata": {},
   "source": [
    "### 문제 풀이형"
   ]
  },
  {
   "cell_type": "code",
   "execution_count": null,
   "id": "3e09b884",
   "metadata": {},
   "outputs": [],
   "source": [
    "1. 정답 1번 class Person: 으로 정의한다\n",
    "2. 정답 2번 p1=Person()으로 객체를 생성한다\n",
    "3. 정답 4번 def print_info(self): 와 같이 인스턴스 메서드를 선언합니다.\n",
    "4. 정답 1번 생성자는 중복으로 정의해서 사용할 수 없습니다.\n",
    "5. 정답 2번 Student is Person은 Student는 Person에 속해 있다 라고 해석이 가능하다 class Student(Person)\n",
    "6. 정답 3번 재정의할 때는 메서드의 이름과 매개변수의 수도 동일해야한다.\n",
    "7. 정답 3번 인스턴스의 메서드를 호출 할때는 객체를 생성해서 호출해야 한다.\n",
    "8. 정답 4번 super를 가져오려면 Super.do_ 나 super()를 사용해야 한다.\n",
    "9. 정답 2번 __str__(self)를 통해서 호출한다."
   ]
  }
 ],
 "metadata": {
  "kernelspec": {
   "display_name": "Python 3",
   "language": "python",
   "name": "python3"
  },
  "language_info": {
   "codemirror_mode": {
    "name": "ipython",
    "version": 3
   },
   "file_extension": ".py",
   "mimetype": "text/x-python",
   "name": "python",
   "nbconvert_exporter": "python",
   "pygments_lexer": "ipython3",
   "version": "3.8.8"
  },
  "toc": {
   "base_numbering": 1,
   "nav_menu": {},
   "number_sections": true,
   "sideBar": true,
   "skip_h1_title": false,
   "title_cell": "Table of Contents",
   "title_sidebar": "Contents",
   "toc_cell": false,
   "toc_position": {},
   "toc_section_display": true,
   "toc_window_display": false
  }
 },
 "nbformat": 4,
 "nbformat_minor": 5
}
