{
 "cells": [
  {
   "cell_type": "markdown",
   "id": "404b7b49",
   "metadata": {},
   "source": [
    "### 파이썬 내장함수"
   ]
  },
  {
   "cell_type": "code",
   "execution_count": 13,
   "id": "515e0693",
   "metadata": {},
   "outputs": [
    {
     "data": {
      "text/plain": [
       "{'__name__': '__main__',\n",
       " '__doc__': 'Automatically created module for IPython interactive environment',\n",
       " '__package__': None,\n",
       " '__loader__': None,\n",
       " '__spec__': None,\n",
       " '__builtin__': <module 'builtins' (built-in)>,\n",
       " '__builtins__': <module 'builtins' (built-in)>,\n",
       " '_ih': ['',\n",
       "  'globals() #전역변수들을 출력해 줍니다.',\n",
       "  'x = [1,2,3,4,5]',\n",
       "  'del x',\n",
       "  'del x #객체를 공간에서 삭제한다',\n",
       "  'x = [1,2,3,4,5]',\n",
       "  'del x #객체를 공간에서 삭제한다',\n",
       "  'eval(expr) ',\n",
       "  'eval(\"hello\") ',\n",
       "  'eval(print(\"hello\")) ',\n",
       "  'eval(print(\"hello\")) ',\n",
       "  'del eval',\n",
       "  'del eval()',\n",
       "  'globals() #전역변수들을 출력해 줍니다.'],\n",
       " '_oh': {1: {...}},\n",
       " '_dh': ['C:\\\\projects\\\\python_workspace\\\\the python programming'],\n",
       " 'In': ['',\n",
       "  'globals() #전역변수들을 출력해 줍니다.',\n",
       "  'x = [1,2,3,4,5]',\n",
       "  'del x',\n",
       "  'del x #객체를 공간에서 삭제한다',\n",
       "  'x = [1,2,3,4,5]',\n",
       "  'del x #객체를 공간에서 삭제한다',\n",
       "  'eval(expr) ',\n",
       "  'eval(\"hello\") ',\n",
       "  'eval(print(\"hello\")) ',\n",
       "  'eval(print(\"hello\")) ',\n",
       "  'del eval',\n",
       "  'del eval()',\n",
       "  'globals() #전역변수들을 출력해 줍니다.'],\n",
       " 'Out': {1: {...}},\n",
       " 'get_ipython': <bound method InteractiveShell.get_ipython of <ipykernel.zmqshell.ZMQInteractiveShell object at 0x0000029F093D1850>>,\n",
       " 'exit': <IPython.core.autocall.ZMQExitAutocall at 0x29f09443580>,\n",
       " 'quit': <IPython.core.autocall.ZMQExitAutocall at 0x29f09443580>,\n",
       " '_': {...},\n",
       " '__': '',\n",
       " '___': '',\n",
       " '_i': 'del eval()',\n",
       " '_ii': 'del eval',\n",
       " '_iii': 'eval(print(\"hello\")) ',\n",
       " '_i1': 'globals() #전역변수들을 출력해 줍니다.',\n",
       " '_1': {...},\n",
       " '_i2': 'x = [1,2,3,4,5]',\n",
       " '_i3': 'del x',\n",
       " '_i4': 'del x #객체를 공간에서 삭제한다',\n",
       " '_i5': 'x = [1,2,3,4,5]',\n",
       " '_i6': 'del x #객체를 공간에서 삭제한다',\n",
       " '_i7': 'eval(expr) ',\n",
       " '_i8': 'eval(\"hello\") ',\n",
       " '_i9': 'eval(print(\"hello\")) ',\n",
       " '_i10': 'eval(print(\"hello\")) ',\n",
       " '_i11': 'del eval',\n",
       " '_i12': 'del eval()',\n",
       " '_i13': 'globals() #전역변수들을 출력해 줍니다.'}"
      ]
     },
     "execution_count": 13,
     "metadata": {},
     "output_type": "execute_result"
    }
   ],
   "source": [
    "globals() #전역변수들을 출력해 줍니다."
   ]
  },
  {
   "cell_type": "code",
   "execution_count": 14,
   "id": "c1079fda",
   "metadata": {},
   "outputs": [],
   "source": [
    "x = [1,2,3,4,5]"
   ]
  },
  {
   "cell_type": "code",
   "execution_count": 15,
   "id": "b683e8cb",
   "metadata": {},
   "outputs": [],
   "source": [
    "del x #객체를 공간에서 삭제한다\n"
   ]
  },
  {
   "cell_type": "code",
   "execution_count": 17,
   "id": "068cad80",
   "metadata": {},
   "outputs": [],
   "source": [
    "x=[1,2,3,]"
   ]
  },
  {
   "cell_type": "code",
   "execution_count": 18,
   "id": "24469341",
   "metadata": {},
   "outputs": [
    {
     "data": {
      "text/plain": [
       "['__add__',\n",
       " '__class__',\n",
       " '__contains__',\n",
       " '__delattr__',\n",
       " '__delitem__',\n",
       " '__dir__',\n",
       " '__doc__',\n",
       " '__eq__',\n",
       " '__format__',\n",
       " '__ge__',\n",
       " '__getattribute__',\n",
       " '__getitem__',\n",
       " '__gt__',\n",
       " '__hash__',\n",
       " '__iadd__',\n",
       " '__imul__',\n",
       " '__init__',\n",
       " '__init_subclass__',\n",
       " '__iter__',\n",
       " '__le__',\n",
       " '__len__',\n",
       " '__lt__',\n",
       " '__mul__',\n",
       " '__ne__',\n",
       " '__new__',\n",
       " '__reduce__',\n",
       " '__reduce_ex__',\n",
       " '__repr__',\n",
       " '__reversed__',\n",
       " '__rmul__',\n",
       " '__setattr__',\n",
       " '__setitem__',\n",
       " '__sizeof__',\n",
       " '__str__',\n",
       " '__subclasshook__',\n",
       " 'append',\n",
       " 'clear',\n",
       " 'copy',\n",
       " 'count',\n",
       " 'extend',\n",
       " 'index',\n",
       " 'insert',\n",
       " 'pop',\n",
       " 'remove',\n",
       " 'reverse',\n",
       " 'sort']"
      ]
     },
     "execution_count": 18,
     "metadata": {},
     "output_type": "execute_result"
    }
   ],
   "source": [
    "dir(x) #객체가 가진 함수와 변수들을 리스트형태로 변환"
   ]
  },
  {
   "cell_type": "markdown",
   "id": "b243664e",
   "metadata": {},
   "source": [
    "### 5장 연습문제"
   ]
  },
  {
   "cell_type": "code",
   "execution_count": 19,
   "id": "24ba042e",
   "metadata": {},
   "outputs": [],
   "source": [
    "#1\n",
    "def get_max_min(data_list):\n",
    "    return max(data_list),min(data_list)"
   ]
  },
  {
   "cell_type": "code",
   "execution_count": 21,
   "id": "ba3ede42",
   "metadata": {},
   "outputs": [
    {
     "data": {
      "text/plain": [
       "(3, 1)"
      ]
     },
     "execution_count": 21,
     "metadata": {},
     "output_type": "execute_result"
    }
   ],
   "source": [
    "get_max_min([1,2,3])"
   ]
  },
  {
   "cell_type": "code",
   "execution_count": 22,
   "id": "cdb40dea",
   "metadata": {},
   "outputs": [],
   "source": [
    "#2\n",
    "def bmi(kg,m):\n",
    "    bmi=kg/m**2\n",
    "    if bmi<18.5:\n",
    "        return \"마른 체형\"\n",
    "    elif bmi<25:\n",
    "        return \"표준\"\n",
    "    elif bmi<30:\n",
    "        return \"비만\"\n",
    "    else:\n",
    "        return \"고도비만\"\n",
    "    "
   ]
  },
  {
   "cell_type": "code",
   "execution_count": 31,
   "id": "2004b86d",
   "metadata": {},
   "outputs": [
    {
     "data": {
      "text/plain": [
       "'마른 체형'"
      ]
     },
     "execution_count": 31,
     "metadata": {},
     "output_type": "execute_result"
    }
   ],
   "source": [
    "bmi(60,1.83)"
   ]
  },
  {
   "cell_type": "code",
   "execution_count": 34,
   "id": "df5c681c",
   "metadata": {},
   "outputs": [],
   "source": [
    "#3\n",
    "from math import sqrt\n",
    "def get_triangle(width,height):\n",
    "    return width*height/2,round(width+height+sqrt(width**2+height**2),2)"
   ]
  },
  {
   "cell_type": "code",
   "execution_count": 36,
   "id": "e4245739",
   "metadata": {},
   "outputs": [
    {
     "data": {
      "text/plain": [
       "(6.0, 12.0)"
      ]
     },
     "execution_count": 36,
     "metadata": {},
     "output_type": "execute_result"
    }
   ],
   "source": [
    "get_triangle(3,4)"
   ]
  },
  {
   "cell_type": "code",
   "execution_count": 55,
   "id": "6cb79045",
   "metadata": {},
   "outputs": [],
   "source": [
    "#4\n",
    "def mysum(start,end):\n",
    "    sum=0\n",
    "    for i in range(start,end+1):\n",
    "        sum += i\n",
    "    return sum"
   ]
  },
  {
   "cell_type": "code",
   "execution_count": 57,
   "id": "b6cbcb63",
   "metadata": {},
   "outputs": [
    {
     "data": {
      "text/plain": [
       "55"
      ]
     },
     "execution_count": 57,
     "metadata": {},
     "output_type": "execute_result"
    }
   ],
   "source": [
    "mysum(1,10)"
   ]
  },
  {
   "cell_type": "code",
   "execution_count": 66,
   "id": "4b91ae34",
   "metadata": {},
   "outputs": [],
   "source": [
    "test=['Seoul','Daegu','busan']\n",
    "def get_abbrs(list):\n",
    "    for i in range(len(list)):\n",
    "        list[i]=list[i][0:3]\n",
    "    return list"
   ]
  },
  {
   "cell_type": "code",
   "execution_count": 67,
   "id": "ffdcfe4e",
   "metadata": {},
   "outputs": [
    {
     "data": {
      "text/plain": [
       "['Seo', 'Dae', 'bus']"
      ]
     },
     "execution_count": 67,
     "metadata": {},
     "output_type": "execute_result"
    }
   ],
   "source": [
    "get_abbrs(test)"
   ]
  },
  {
   "cell_type": "markdown",
   "id": "fa4c9a70",
   "metadata": {},
   "source": [
    "### 5장 문제 풀이형"
   ]
  },
  {
   "cell_type": "code",
   "execution_count": null,
   "id": "724c60a9",
   "metadata": {},
   "outputs": [],
   "source": [
    "#1\n",
    "\"902\"\n",
    "def mapping(addr):\n",
    "    table=[1,2,5,9,6,4,0,3,8,7]\n",
    "    return table[abbr//SIZE]\n",
    "SIZE=20\n",
    "group=[9,8,7,6,5,4,3,2,1]\n",
    "loc=[127,64,188]\n",
    "    \n",
    "for a,b in enumerate(loc):\n",
    "    print(group[mapping(loc[a])],end='')\n",
    "\n",
    "enumerate는 인덱스와 값을 반환함으로 loc[0]이 들어가 group[mapping(127)]이 되고\n",
    "mapping함수에 127값이 들어가게 되면 return 문에서 table[127//20]=table[6] table의 인덱스가 6인 0이 반환된다.\n",
    "group[0]=9 반복문에서 처음 나온 결과밧은 9가 되고 다음과 같이 반복해서 실행하면 \"902\" 가 출력된다.\n",
    "\n",
    "#2 \n",
    "\"612613\"\n",
    "3번째 라인에서 a에 초기화가 되어 있지 않아서 +1한 값을 다시 a에 저장할 수 없다 \n",
    "전역필드에 선언된 a를 함수에서 사용하여 초기화를 하려면 \"global a\"를 추가해서 초기화를 진행하여야 한다.\n",
    "\"global a\"를 추가해서 함수를 순차적으로 실행하면 10번째 줄에서 더해서 func() 내부에 지역변수 a는 6을 3,13라인에서 전역변수에 값을 더해 12를 출력한다.\n",
    "반복을 실행하면 결과는 \"612613\"을 출력한다.\n",
    "\n",
    "#3\n",
    "100\n",
    "함수에서 전역변수 선언을 하지 않았기 때문에 함수 내부에 \"var\"와 전역필드에 있는 \"var\"는 주소가 다르다\n",
    "\n",
    "#4\n",
    "1번이 정답\n",
    "np.add함수를 my_func에 전달해 주고 *args에 (2,3)이 튜플형식으로 전달받아 return문에서는 np.add(2,3)이 실행되어 5를 반환한다\n",
    "\n",
    "#5\n",
    "3번이 정답\n",
    "func이 람다식으로 들어갔을 뿐 4번과 유사한 문제이다.\n",
    "\n",
    "#6\n",
    "1번이 정답\n",
    "overloading은 파이썬의 함수에서는 불가능하다.\n",
    "\n",
    "#7\n",
    "4번이 정답\n",
    "함수에 인자를 넣을 때 순차적으로 값을 넣어주어야 하는데 순서를 변경해서 값을 넣을 때는 변수명=값 으로 전달해 주어야 한다.\n",
    "\n",
    "#8\n",
    "lambda\n",
    "작은 익명함수를 의미, 함수가 실행될 때 한 문장일 경우에 만들어서 사용, 다른 함수의 인수 또는 인자로 사용\n",
    "\n",
    "#9\n",
    "2번이 정답\n",
    "pairs=[(1,'d'),(2,'c'),(3,'b'),(4,'a')]\n",
    "pairs.sort(key=lambda pair:pair[1])\n",
    "pairs\n",
    "key에 람다식으로 함수를 넣어 key맞춰 정렬시킨다.\n",
    "\n"
   ]
  },
  {
   "cell_type": "code",
   "execution_count": 69,
   "id": "90e9517d",
   "metadata": {},
   "outputs": [
    {
     "data": {
      "text/plain": [
       "[(4, 'a'), (3, 'b'), (2, 'c'), (1, 'd')]"
      ]
     },
     "execution_count": 69,
     "metadata": {},
     "output_type": "execute_result"
    }
   ],
   "source": [
    "pairs=[(1,'d'),(2,'c'),(3,'b'),(4,'a')]\n",
    "pairs.sort(key=lambda pair:pair[1])\n",
    "pairs"
   ]
  },
  {
   "cell_type": "code",
   "execution_count": null,
   "id": "162be6a9",
   "metadata": {},
   "outputs": [],
   "source": []
  }
 ],
 "metadata": {
  "kernelspec": {
   "display_name": "Python 3",
   "language": "python",
   "name": "python3"
  },
  "language_info": {
   "codemirror_mode": {
    "name": "ipython",
    "version": 3
   },
   "file_extension": ".py",
   "mimetype": "text/x-python",
   "name": "python",
   "nbconvert_exporter": "python",
   "pygments_lexer": "ipython3",
   "version": "3.8.8"
  }
 },
 "nbformat": 4,
 "nbformat_minor": 5
}
