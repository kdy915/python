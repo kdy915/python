{
 "cells": [
  {
   "cell_type": "markdown",
   "id": "410d73b4",
   "metadata": {},
   "source": [
    "### 중첩 루프"
   ]
  },
  {
   "cell_type": "code",
   "execution_count": 1,
   "id": "7796021b",
   "metadata": {},
   "outputs": [
    {
     "name": "stdout",
     "output_type": "stream",
     "text": [
      "2 4 6 8 10 12 14 16 18 \n",
      "3 6 9 12 15 18 21 24 27 \n",
      "4 8 12 16 20 24 28 32 36 \n",
      "5 10 15 20 25 30 35 40 45 \n",
      "6 12 18 24 30 36 42 48 54 \n",
      "7 14 21 28 35 42 49 56 63 \n",
      "8 16 24 32 40 48 56 64 72 \n",
      "9 18 27 36 45 54 63 72 81 \n"
     ]
    }
   ],
   "source": [
    "for i in range(2,10):\n",
    "    for j in range(1,10):\n",
    "        print(i*j, end=\" \")\n",
    "    print()"
   ]
  },
  {
   "cell_type": "code",
   "execution_count": 2,
   "id": "b2c097f0",
   "metadata": {},
   "outputs": [
    {
     "name": "stdout",
     "output_type": "stream",
     "text": [
      "2 3 4 5 6 7 8 9 \n",
      "4 6 8 10 12 14 16 18 \n",
      "6 9 12 15 18 21 24 27 \n",
      "8 12 16 20 24 28 32 36 \n",
      "10 15 20 25 30 35 40 45 \n",
      "12 18 24 30 36 42 48 54 \n",
      "14 21 28 35 42 49 56 63 \n",
      "16 24 32 40 48 56 64 72 \n",
      "18 27 36 45 54 63 72 81 \n"
     ]
    }
   ],
   "source": [
    "for i in range(1,10):\n",
    "    for j in range(2,10):\n",
    "        print(i*j, end=' ')\n",
    "    print()"
   ]
  },
  {
   "cell_type": "code",
   "execution_count": 3,
   "id": "2bb04412",
   "metadata": {},
   "outputs": [
    {
     "name": "stdout",
     "output_type": "stream",
     "text": [
      "2x1=2  3x1=3  4x1=4  5x1=5  6x1=6  7x1=7  8x1=8  9x1=9  \n",
      "2x2=4  3x2=6  4x2=8  5x2=10 6x2=12 7x2=14 8x2=16 9x2=18 \n",
      "2x3=6  3x3=9  4x3=12 5x3=15 6x3=18 7x3=21 8x3=24 9x3=27 \n",
      "2x4=8  3x4=12 4x4=16 5x4=20 6x4=24 7x4=28 8x4=32 9x4=36 \n",
      "2x5=10 3x5=15 4x5=20 5x5=25 6x5=30 7x5=35 8x5=40 9x5=45 \n",
      "2x6=12 3x6=18 4x6=24 5x6=30 6x6=36 7x6=42 8x6=48 9x6=54 \n",
      "2x7=14 3x7=21 4x7=28 5x7=35 6x7=42 7x7=49 8x7=56 9x7=63 \n",
      "2x8=16 3x8=24 4x8=32 5x8=40 6x8=48 7x8=56 8x8=64 9x8=72 \n",
      "2x9=18 3x9=27 4x9=36 5x9=45 6x9=54 7x9=63 8x9=72 9x9=81 \n"
     ]
    }
   ],
   "source": [
    "for i in range(1,10):\n",
    "    for j in range(2,10):\n",
    "        print(\"{}x{}={:<2}\".format(j,i,i*j), end=' ')\n",
    "    print()"
   ]
  },
  {
   "cell_type": "code",
   "execution_count": 4,
   "id": "a95e4872",
   "metadata": {},
   "outputs": [
    {
     "name": "stdout",
     "output_type": "stream",
     "text": [
      "100.0% [##################################################] 100\r"
     ]
    }
   ],
   "source": [
    "import time\n",
    "progress = ''\n",
    "percent = 0\n",
    "num=100\n",
    "for i in range(1, num+1):\n",
    "    percent=(i/num)*100\n",
    "    progress= int(percent*5/10)*'#'\n",
    "    time.sleep(0.1)\n",
    "    print(f\"{percent:5.1f}% [{progress:<50s}] {i}\", end='\\r')"
   ]
  },
  {
   "cell_type": "code",
   "execution_count": 9,
   "id": "d90e6683",
   "metadata": {},
   "outputs": [
    {
     "name": "stderr",
     "output_type": "stream",
     "text": [
      "100%|████████████████████████████████████████████████████████████████████████████████| 100/100 [00:10<00:00,  9.46it/s]\n"
     ]
    }
   ],
   "source": [
    "from tqdm import tqdm\n",
    "import time\n",
    "for i in tqdm(range(100)):\n",
    "    time.sleep(0.1)\n",
    "    pass"
   ]
  },
  {
   "cell_type": "code",
   "execution_count": 13,
   "id": "199467e7",
   "metadata": {},
   "outputs": [
    {
     "name": "stderr",
     "output_type": "stream",
     "text": [
      "100%|████████████████████████████████████████████████████████████████████████████████| 100/100 [00:06<00:00, 16.55it/s]\n"
     ]
    }
   ],
   "source": [
    "from tqdm import trange\n",
    "import time\n",
    "for i in trange(100):\n",
    "    time.sleep(0.05)\n",
    "    pass"
   ]
  },
  {
   "cell_type": "markdown",
   "id": "ffa16a74",
   "metadata": {},
   "source": [
    "### 중첩 루프 탈출"
   ]
  },
  {
   "cell_type": "code",
   "execution_count": 20,
   "id": "03f4065f",
   "metadata": {},
   "outputs": [
    {
     "name": "stdout",
     "output_type": "stream",
     "text": [
      "0 1\n",
      "0 2\n",
      "1 2\n",
      "2 1\n"
     ]
    }
   ],
   "source": [
    "for a in range(0, 3):\n",
    "    for b in range(1,3):\n",
    "        if a==b:\n",
    "            continue\n",
    "        print(a,b)"
   ]
  },
  {
   "cell_type": "code",
   "execution_count": 22,
   "id": "01de2204",
   "metadata": {},
   "outputs": [
    {
     "name": "stdout",
     "output_type": "stream",
     "text": [
      "준비되면 엔터를 치세요\n",
      "\n",
      "*단어 1\n",
      "flask\n",
      "flask\n",
      "통과\n",
      "*단어 2\n",
      "react\n",
      "react\n",
      "통과\n",
      "*단어 3\n",
      "svlete\n",
      "svlete\n",
      "통과\n",
      "*단어 4\n",
      "python\n",
      "python\n",
      "통과\n",
      "*단어 5\n",
      "python\n",
      "python\n",
      "통과\n",
      "종료\n"
     ]
    }
   ],
   "source": [
    "import random\n",
    "import time\n",
    "\n",
    "words = ['oracle', 'python', 'java', 'django', 'flask', 'spring', 'svlete', 'react']\n",
    "n = 1\n",
    "print('준비되면 엔터를 치세요')\n",
    "\n",
    "input()\n",
    "start = time.time()\n",
    "q = random.choice(words)\n",
    "while n <= 5 :\n",
    "    print('*단어', n)\n",
    "    print(q)\n",
    "    x = input()\n",
    "    if q == x :\n",
    "        print('통과')\n",
    "        n += 1\n",
    "        q = random.choice(words)\n",
    "    else :\n",
    "        prinn('오타입니다. 재입력하세요.')\n",
    "    end = 'e'\n",
    "print('종료')"
   ]
  },
  {
   "cell_type": "code",
   "execution_count": 23,
   "id": "8e73c2a5",
   "metadata": {
    "scrolled": true
   },
   "outputs": [
    {
     "name": "stdout",
     "output_type": "stream",
     "text": [
      "2  x 1 = 2\t3  x 1 = 3\t4  x 1 = 4\t5  x 1 = 5\t\n",
      "2  x 2 = 4\t3  x 2 = 6\t4  x 2 = 8\t5  x 2 = 10\t\n",
      "2  x 3 = 6\t3  x 3 = 9\t4  x 3 = 12\t5  x 3 = 15\t\n",
      "2  x 4 = 8\t3  x 4 = 12\t4  x 4 = 16\t5  x 4 = 20\t\n",
      "2  x 5 = 10\t3  x 5 = 15\t4  x 5 = 20\t5  x 5 = 25\t\n",
      "2  x 6 = 12\t3  x 6 = 18\t4  x 6 = 24\t5  x 6 = 30\t\n",
      "2  x 7 = 14\t3  x 7 = 21\t4  x 7 = 28\t5  x 7 = 35\t\n",
      "2  x 8 = 16\t3  x 8 = 24\t4  x 8 = 32\t5  x 8 = 40\t\n",
      "2  x 9 = 18\t3  x 9 = 27\t4  x 9 = 36\t5  x 9 = 45\t\n",
      "\n",
      "6  x 1 = 6\t7  x 1 = 7\t8  x 1 = 8\t9  x 1 = 9\t\n",
      "6  x 2 = 12\t7  x 2 = 14\t8  x 2 = 16\t9  x 2 = 18\t\n",
      "6  x 3 = 18\t7  x 3 = 21\t8  x 3 = 24\t9  x 3 = 27\t\n",
      "6  x 4 = 24\t7  x 4 = 28\t8  x 4 = 32\t9  x 4 = 36\t\n",
      "6  x 5 = 30\t7  x 5 = 35\t8  x 5 = 40\t9  x 5 = 45\t\n",
      "6  x 6 = 36\t7  x 6 = 42\t8  x 6 = 48\t9  x 6 = 54\t\n",
      "6  x 7 = 42\t7  x 7 = 49\t8  x 7 = 56\t9  x 7 = 63\t\n",
      "6  x 8 = 48\t7  x 8 = 56\t8  x 8 = 64\t9  x 8 = 72\t\n",
      "6  x 9 = 54\t7  x 9 = 63\t8  x 9 = 72\t9  x 9 = 81\t\n",
      "\n"
     ]
    }
   ],
   "source": [
    "for i in range(2,10,4):\n",
    "    for j in range(1,10):\n",
    "        for k in range(4):\n",
    "            print('{0}  x {1} = {2}'.format(i+k,j,(i+k)*j,), end=\"\\t\")\n",
    "        print()\n",
    "    print()"
   ]
  },
  {
   "cell_type": "code",
   "execution_count": 48,
   "id": "1cad6b36",
   "metadata": {},
   "outputs": [
    {
     "name": "stdout",
     "output_type": "stream",
     "text": [
      "2 * 1 = 2\t3 * 1 = 3\t4 * 1 = 4\t5 * 1 = 5\t\n",
      "2 * 2 = 4\t3 * 2 = 6\t4 * 2 = 8\t5 * 2 = 10\t\n",
      "2 * 3 = 6\t3 * 3 = 9\t4 * 3 = 12\t5 * 3 = 15\t\n",
      "2 * 4 = 8\t3 * 4 = 12\t4 * 4 = 16\t5 * 4 = 20\t\n",
      "2 * 5 = 10\t3 * 5 = 15\t4 * 5 = 20\t5 * 5 = 25\t\n",
      "2 * 6 = 12\t3 * 6 = 18\t4 * 6 = 24\t5 * 6 = 30\t\n",
      "2 * 7 = 14\t3 * 7 = 21\t4 * 7 = 28\t5 * 7 = 35\t\n",
      "2 * 8 = 16\t3 * 8 = 24\t4 * 8 = 32\t5 * 8 = 40\t\n",
      "2 * 9 = 18\t3 * 9 = 27\t4 * 9 = 36\t5 * 9 = 45\t\n",
      "\n",
      "6 * 1 = 6\t7 * 1 = 7\t8 * 1 = 8\t9 * 1 = 9\t\n",
      "6 * 2 = 12\t7 * 2 = 14\t8 * 2 = 16\t9 * 2 = 18\t\n",
      "6 * 3 = 18\t7 * 3 = 21\t8 * 3 = 24\t9 * 3 = 27\t\n",
      "6 * 4 = 24\t7 * 4 = 28\t8 * 4 = 32\t9 * 4 = 36\t\n",
      "6 * 5 = 30\t7 * 5 = 35\t8 * 5 = 40\t9 * 5 = 45\t\n",
      "6 * 6 = 36\t7 * 6 = 42\t8 * 6 = 48\t9 * 6 = 54\t\n",
      "6 * 7 = 42\t7 * 7 = 49\t8 * 7 = 56\t9 * 7 = 63\t\n",
      "6 * 8 = 48\t7 * 8 = 56\t8 * 8 = 64\t9 * 8 = 72\t\n",
      "6 * 9 = 54\t7 * 9 = 63\t8 * 9 = 72\t9 * 9 = 81\t\n",
      "\n"
     ]
    }
   ],
   "source": [
    "i = 2\n",
    "while i<=9:\n",
    "    j=1\n",
    "    while j<=9:\n",
    "        k=0\n",
    "        while k<4:\n",
    "            print(f'{i+k} * {j} = {(i+k)*j}', end='\\t')\n",
    "            k+=1\n",
    "        print()\n",
    "        j+=1\n",
    "    print()\n",
    "    i+=4\n",
    "        "
   ]
  }
 ],
 "metadata": {
  "kernelspec": {
   "display_name": "Python 3",
   "language": "python",
   "name": "python3"
  },
  "language_info": {
   "codemirror_mode": {
    "name": "ipython",
    "version": 3
   },
   "file_extension": ".py",
   "mimetype": "text/x-python",
   "name": "python",
   "nbconvert_exporter": "python",
   "pygments_lexer": "ipython3",
   "version": "3.8.8"
  }
 },
 "nbformat": 4,
 "nbformat_minor": 5
}
