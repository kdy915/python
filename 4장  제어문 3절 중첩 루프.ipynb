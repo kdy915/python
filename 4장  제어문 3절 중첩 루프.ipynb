{
 "cells": [
  {
   "cell_type": "markdown",
   "id": "410d73b4",
   "metadata": {},
   "source": [
    "### 중첩 루프"
   ]
  },
  {
   "cell_type": "code",
   "execution_count": 1,
   "id": "7796021b",
   "metadata": {},
   "outputs": [
    {
     "name": "stdout",
     "output_type": "stream",
     "text": [
      "2 4 6 8 10 12 14 16 18 \n",
      "3 6 9 12 15 18 21 24 27 \n",
      "4 8 12 16 20 24 28 32 36 \n",
      "5 10 15 20 25 30 35 40 45 \n",
      "6 12 18 24 30 36 42 48 54 \n",
      "7 14 21 28 35 42 49 56 63 \n",
      "8 16 24 32 40 48 56 64 72 \n",
      "9 18 27 36 45 54 63 72 81 \n"
     ]
    }
   ],
   "source": [
    "for i in range(2,10):\n",
    "    for j in range(1,10):\n",
    "        print(i*j, end=\" \")\n",
    "    print()"
   ]
  },
  {
   "cell_type": "code",
   "execution_count": 2,
   "id": "b2c097f0",
   "metadata": {},
   "outputs": [
    {
     "name": "stdout",
     "output_type": "stream",
     "text": [
      "2 3 4 5 6 7 8 9 \n",
      "4 6 8 10 12 14 16 18 \n",
      "6 9 12 15 18 21 24 27 \n",
      "8 12 16 20 24 28 32 36 \n",
      "10 15 20 25 30 35 40 45 \n",
      "12 18 24 30 36 42 48 54 \n",
      "14 21 28 35 42 49 56 63 \n",
      "16 24 32 40 48 56 64 72 \n",
      "18 27 36 45 54 63 72 81 \n"
     ]
    }
   ],
   "source": [
    "for i in range(1,10):\n",
    "    for j in range(2,10):\n",
    "        print(i*j, end=' ')\n",
    "    print()"
   ]
  },
  {
   "cell_type": "code",
   "execution_count": 3,
   "id": "2bb04412",
   "metadata": {},
   "outputs": [
    {
     "name": "stdout",
     "output_type": "stream",
     "text": [
      "2x1=2  3x1=3  4x1=4  5x1=5  6x1=6  7x1=7  8x1=8  9x1=9  \n",
      "2x2=4  3x2=6  4x2=8  5x2=10 6x2=12 7x2=14 8x2=16 9x2=18 \n",
      "2x3=6  3x3=9  4x3=12 5x3=15 6x3=18 7x3=21 8x3=24 9x3=27 \n",
      "2x4=8  3x4=12 4x4=16 5x4=20 6x4=24 7x4=28 8x4=32 9x4=36 \n",
      "2x5=10 3x5=15 4x5=20 5x5=25 6x5=30 7x5=35 8x5=40 9x5=45 \n",
      "2x6=12 3x6=18 4x6=24 5x6=30 6x6=36 7x6=42 8x6=48 9x6=54 \n",
      "2x7=14 3x7=21 4x7=28 5x7=35 6x7=42 7x7=49 8x7=56 9x7=63 \n",
      "2x8=16 3x8=24 4x8=32 5x8=40 6x8=48 7x8=56 8x8=64 9x8=72 \n",
      "2x9=18 3x9=27 4x9=36 5x9=45 6x9=54 7x9=63 8x9=72 9x9=81 \n"
     ]
    }
   ],
   "source": [
    "for i in range(1,10):\n",
    "    for j in range(2,10):\n",
    "        print(\"{}x{}={:<2}\".format(j,i,i*j), end=' ')\n",
    "    print()"
   ]
  },
  {
   "cell_type": "code",
   "execution_count": 4,
   "id": "a95e4872",
   "metadata": {},
   "outputs": [
    {
     "name": "stdout",
     "output_type": "stream",
     "text": [
      "100.0% [##################################################] 100\r"
     ]
    }
   ],
   "source": [
    "import time\n",
    "progress = ''\n",
    "percent = 0\n",
    "num=100\n",
    "for i in range(1, num+1):\n",
    "    percent=(i/num)*100\n",
    "    progress= int(percent*5/10)*'#'\n",
    "    time.sleep(0.1)\n",
    "    print(f\"{percent:5.1f}% [{progress:<50s}] {i}\", end='\\r')"
   ]
  },
  {
   "cell_type": "code",
   "execution_count": 5,
   "id": "d90e6683",
   "metadata": {},
   "outputs": [
    {
     "name": "stderr",
     "output_type": "stream",
     "text": [
      "100%|████████████████████████████████████████████████████████████████████████████████| 100/100 [00:10<00:00,  9.84it/s]\n"
     ]
    }
   ],
   "source": [
    "from tqdm import tqdm\n",
    "import time\n",
    "for i in tqdm(range(100)):\n",
    "    time.sleep(0.1)\n",
    "    pass"
   ]
  },
  {
   "cell_type": "code",
   "execution_count": 6,
   "id": "199467e7",
   "metadata": {},
   "outputs": [
    {
     "name": "stderr",
     "output_type": "stream",
     "text": [
      "100%|████████████████████████████████████████████████████████████████████████████████| 100/100 [00:05<00:00, 19.44it/s]\n"
     ]
    }
   ],
   "source": [
    "from tqdm import trange\n",
    "import time\n",
    "for i in trange(100):\n",
    "    time.sleep(0.05)\n",
    "    pass"
   ]
  },
  {
   "cell_type": "markdown",
   "id": "5070685f",
   "metadata": {},
   "source": [
    "### for, while 연습문제"
   ]
  },
  {
   "cell_type": "code",
   "execution_count": 7,
   "id": "01de2204",
   "metadata": {},
   "outputs": [
    {
     "name": "stdout",
     "output_type": "stream",
     "text": [
      "준비되면 엔터를 치세요\n",
      "\n",
      "*단어 1\n",
      "python\n",
      "\n"
     ]
    },
    {
     "ename": "NameError",
     "evalue": "name 'prinn' is not defined",
     "output_type": "error",
     "traceback": [
      "\u001b[1;31m---------------------------------------------------------------------------\u001b[0m",
      "\u001b[1;31mNameError\u001b[0m                                 Traceback (most recent call last)",
      "\u001b[1;32m<ipython-input-7-d5e669c11170>\u001b[0m in \u001b[0;36m<module>\u001b[1;34m\u001b[0m\n\u001b[0;32m     18\u001b[0m         \u001b[0mq\u001b[0m \u001b[1;33m=\u001b[0m \u001b[0mrandom\u001b[0m\u001b[1;33m.\u001b[0m\u001b[0mchoice\u001b[0m\u001b[1;33m(\u001b[0m\u001b[0mwords\u001b[0m\u001b[1;33m)\u001b[0m\u001b[1;33m\u001b[0m\u001b[1;33m\u001b[0m\u001b[0m\n\u001b[0;32m     19\u001b[0m     \u001b[1;32melse\u001b[0m \u001b[1;33m:\u001b[0m\u001b[1;33m\u001b[0m\u001b[1;33m\u001b[0m\u001b[0m\n\u001b[1;32m---> 20\u001b[1;33m         \u001b[0mprinn\u001b[0m\u001b[1;33m(\u001b[0m\u001b[1;34m'오타입니다. 재입력하세요.'\u001b[0m\u001b[1;33m)\u001b[0m\u001b[1;33m\u001b[0m\u001b[1;33m\u001b[0m\u001b[0m\n\u001b[0m\u001b[0;32m     21\u001b[0m     \u001b[0mend\u001b[0m \u001b[1;33m=\u001b[0m \u001b[1;34m'e'\u001b[0m\u001b[1;33m\u001b[0m\u001b[1;33m\u001b[0m\u001b[0m\n\u001b[0;32m     22\u001b[0m \u001b[0mprint\u001b[0m\u001b[1;33m(\u001b[0m\u001b[1;34m'종료'\u001b[0m\u001b[1;33m)\u001b[0m\u001b[1;33m\u001b[0m\u001b[1;33m\u001b[0m\u001b[0m\n",
      "\u001b[1;31mNameError\u001b[0m: name 'prinn' is not defined"
     ]
    }
   ],
   "source": [
    "import random\n",
    "import time\n",
    "\n",
    "words = ['oracle', 'python', 'java', 'django', 'flask', 'spring', 'svlete', 'react']\n",
    "n = 1\n",
    "print('준비되면 엔터를 치세요')\n",
    "\n",
    "input()\n",
    "start = time.time()\n",
    "q = random.choice(words)\n",
    "while n <= 5 :\n",
    "    print('*단어', n)\n",
    "    print(q)\n",
    "    x = input()\n",
    "    if q == x :\n",
    "        print('통과')\n",
    "        n += 1\n",
    "        q = random.choice(words)\n",
    "    else :\n",
    "        prinn('오타입니다. 재입력하세요.')\n",
    "    end = 'e'\n",
    "print('종료')"
   ]
  },
  {
   "cell_type": "code",
   "execution_count": null,
   "id": "8e73c2a5",
   "metadata": {
    "scrolled": true
   },
   "outputs": [],
   "source": [
    "for i in range(2,10,4):\n",
    "    for j in range(1,10):\n",
    "        for k in range(4):\n",
    "            print('{0}  x {1} = {2}'.format(i+k,j,(i+k)*j,), end=\"\\t\")\n",
    "        print()\n",
    "    print()"
   ]
  },
  {
   "cell_type": "code",
   "execution_count": null,
   "id": "1cad6b36",
   "metadata": {
    "scrolled": true
   },
   "outputs": [],
   "source": [
    "i = 2\n",
    "while i<=9:\n",
    "    j=1\n",
    "    while j<=9:\n",
    "        k=0\n",
    "        while k<4:\n",
    "            print(f'{i+k} * {j} = {(i+k)*j}', end='\\t')\n",
    "            k+=1\n",
    "        print()\n",
    "        j+=1\n",
    "    print()\n",
    "    i+=4\n",
    "        "
   ]
  },
  {
   "cell_type": "markdown",
   "id": "03517371",
   "metadata": {},
   "source": [
    "### 중첩 루프 탈출"
   ]
  },
  {
   "cell_type": "code",
   "execution_count": null,
   "id": "0d77a0b2",
   "metadata": {},
   "outputs": [],
   "source": [
    "for a in range(0, 3):\n",
    "    for b in range(1,3):\n",
    "        if a==b:\n",
    "            break\n",
    "        print(a,b)"
   ]
  },
  {
   "cell_type": "code",
   "execution_count": null,
   "id": "54242796",
   "metadata": {},
   "outputs": [],
   "source": [
    "for a in range(0,3):\n",
    "    break_out_flag = False\n",
    "    for b in range(1,3):\n",
    "        if a==b:\n",
    "            break_out_flag = True\n",
    "            break\n",
    "        print(a,b)\n",
    "    if break_out_flag:\n",
    "        break"
   ]
  },
  {
   "cell_type": "code",
   "execution_count": null,
   "id": "7806721b",
   "metadata": {},
   "outputs": [],
   "source": [
    "class BreakOutOfALoop(Exception):\n",
    "    pass"
   ]
  },
  {
   "cell_type": "code",
   "execution_count": null,
   "id": "43c05071",
   "metadata": {},
   "outputs": [],
   "source": [
    "for a in range(0,3):\n",
    "    try:\n",
    "        for b in range(1,3):\n",
    "            if a==b:\n",
    "                raise BreakOutOfALoop\n",
    "            print(a,b)\n",
    "    except BreakOutOfALoop:\n",
    "        break\n"
   ]
  },
  {
   "cell_type": "markdown",
   "id": "4dd9d9c6",
   "metadata": {},
   "source": [
    "연습문제"
   ]
  },
  {
   "cell_type": "code",
   "execution_count": null,
   "id": "27fe538c",
   "metadata": {},
   "outputs": [],
   "source": []
  },
  {
   "cell_type": "code",
   "execution_count": 1,
   "id": "aff55c6a",
   "metadata": {},
   "outputs": [
    {
     "name": "stdout",
     "output_type": "stream",
     "text": [
      "양의 정수를 입력해 주세요: \t2\n",
      "짝수입니다\n",
      "양의 정수를 입력해 주세요: \t5\n",
      "홀수입니다\n",
      "양의 정수를 입력해 주세요: \t4\n",
      "짝수입니다\n",
      "양의 정수를 입력해 주세요: \t0\n",
      "프로그램 종료\n"
     ]
    }
   ],
   "source": [
    "while(True):\n",
    "    num=eval(input(\"양의 정수를 입력해 주세요: \\t\"))\n",
    "    if (isinstance(num, int) and num>=0):\n",
    "        if num==0:\n",
    "            print(\"프로그램 종료\")\n",
    "            break\n",
    "        elif num%2==0:\n",
    "            print(\"짝수입니다\")\n",
    "        else:\n",
    "            print(\"홀수입니다\")\n",
    "    else:\n",
    "        print(\"양의 정수가 아닙니다.\")\n",
    "    "
   ]
  },
  {
   "cell_type": "code",
   "execution_count": 5,
   "id": "225fccde",
   "metadata": {},
   "outputs": [
    {
     "name": "stdout",
     "output_type": "stream",
     "text": [
      "408\n"
     ]
    }
   ],
   "source": [
    "sum=0\n",
    "i=1\n",
    "while(i<51):\n",
    "    if i%3==0:\n",
    "        sum += i\n",
    "    i += 1\n",
    "print(sum)\n"
   ]
  },
  {
   "cell_type": "code",
   "execution_count": 8,
   "id": "6476512f",
   "metadata": {},
   "outputs": [
    {
     "name": "stdout",
     "output_type": "stream",
     "text": [
      "    *     \n",
      "   ***    \n",
      "  *****   \n",
      " *******  \n",
      "********* \n"
     ]
    }
   ],
   "source": [
    "for i in range(1,6):\n",
    "    print(' '*(5-i)+'*'*i+ '*'*(i-1)+' '*(6-i) )\n",
    "[print(' '*(5-i)+'*'*i+ '*'*(i-1)+' '*(6-i) for i in range(1,6))]"
   ]
  },
  {
   "cell_type": "code",
   "execution_count": 12,
   "id": "ce7351c4",
   "metadata": {},
   "outputs": [
    {
     "name": "stdout",
     "output_type": "stream",
     "text": [
      "    *     \n",
      "   ***    \n",
      "  *****   \n",
      " *******  \n",
      "********* \n"
     ]
    }
   ],
   "source": [
    "list = [print(' '*(5-i)+'*'*i+ '*'*(i-1)+' '*(6-i)) for i in range(1,6)]"
   ]
  },
  {
   "cell_type": "markdown",
   "id": "fcd5fe31",
   "metadata": {},
   "source": [
    "5.2 4장 문제 풀이형 연습문제\n",
    "\n",
    "1) 4\n",
    "a는 range에 범위를 확인하는 문제이다. range(1,31)이 문제에서 원하는 1~30을 포함하는 답이다.\n",
    "b는 i%3==0 i를 3으로 나눈 나머지가 0인 3의 배수를 의미한다\n",
    "\n",
    "2) 2\n",
    "while을 통해 조건문이 참일 때 반복수행할 수 있도록 한다.\n",
    "\n",
    "3) for data in row\n",
    "2차원 리스트에서 for row in list_2d를 통해 각각의 1차원리스트를 가져오고 \n",
    "다음과 같이 작성하여 data 하나씩 가져와서 출력한다\n",
    "\n",
    "4) enumerate\n",
    "인덱스와 값을 순차적으로 불러와서 반환합니다.\n",
    "\n",
    "5) 3\n",
    "처음 실행에서 (0,0)이 실행되 안쪽의 반복문이 중단되고 바깥쪽 다음 반복문이 실행되므로 (1,0) 출력\n",
    "\n",
    "6) 2\n",
    "안쪽 반복문에서 바로 중단되어 실행되지 않는 값은 (0,1)이다\n",
    "\n",
    "7) 1\n",
    "인덱스를 2로 나눈 값이 0인 data를 출력한다.\n",
    "\n"
   ]
  },
  {
   "cell_type": "markdown",
   "id": "0cb88790",
   "metadata": {},
   "source": [
    "### 몬티홀 문제"
   ]
  },
  {
   "cell_type": "code",
   "execution_count": 412,
   "id": "dcb60f75",
   "metadata": {},
   "outputs": [
    {
     "name": "stdout",
     "output_type": "stream",
     "text": [
      "선택을 바꾸지 않을때 포르쉐를 받을 확률:0.324\n",
      "선택을 바꿀때 포르쉐를 받을 확률:0.676\n",
      "처음에 선택을 하게되면 3/1이지만 다음에 선택을 하게되면 하나가 아니라는 조건을 가지고 2중에 하나를 선택하는 조건부 2/1임으로 바꿀때 확률이 더 높다\n"
     ]
    }
   ],
   "source": [
    "import random\n",
    "data=1000\n",
    "car=[\"포\",\"양\",\"양\"]\n",
    "\n",
    "count_a=0\n",
    "count_b=0\n",
    "\n",
    "for i in range(data):\n",
    "    choice_num = random.randint(1,3)\n",
    "    door_list=[]\n",
    "    for i in range(100):\n",
    "        a = random.randint(1,3)\n",
    "        if a in door_list:\n",
    "            continue\n",
    "        door_list.append(a)\n",
    "    dic={x:y for x,y in zip(door_list,car)}\n",
    "    yang=[k for k,v in dic.items() if v==\"양\"]\n",
    "    po=[k for k,v in dic.items() if v==\"포\"]\n",
    "    if choice_num in po:\n",
    "        del yang[0]\n",
    "    elif yang[0]==choice_num:\n",
    "        del yang[1]\n",
    "    elif yang[1]==choice_num:\n",
    "        del yang[0]\n",
    "    if choice_num in po:\n",
    "        count_a += 1\n",
    "    if choice_num not in po:\n",
    "        count_b += 1\n",
    "print(f\"선택을 바꾸지 않을때 포르쉐를 받을 확률:{count_a/data}\")\n",
    "print(f\"선택을 바꿀때 포르쉐를 받을 확률:{count_b/data}\")\n",
    "print(\"처음에 선택을 하게되면 3/1이지만 다음에 선택을 하게되면 하나가 아니라는 조건을 가지고 2중에 하나를 선택하는 조건부 2/1임으로 바꿀때 확률이 더 높다\")"
   ]
  },
  {
   "cell_type": "code",
   "execution_count": 231,
   "id": "8ace9c5c",
   "metadata": {},
   "outputs": [
    {
     "name": "stdout",
     "output_type": "stream",
     "text": [
      "{3: '포', 1: '양', 2: '양'}\n",
      "[1, 2]\n"
     ]
    }
   ],
   "source": [
    "import random\n",
    "data=1000\n",
    "car=[\"포\",\"양\",\"양\"]\n",
    "choice_num = random.randint(1,3)\n",
    "door_list=[]\n",
    "for i in range(100):\n",
    "    a = random.randint(1,3)\n",
    "    if a in door_list:\n",
    "        continue\n",
    "    door_list.append(a)\n",
    "dic={x:y for x,y in zip(door_list,car)}\n",
    "print(dic)\n",
    "print([k for k,v in dic.items() if v==\"양\"])"
   ]
  },
  {
   "cell_type": "code",
   "execution_count": 425,
   "id": "40de531b",
   "metadata": {},
   "outputs": [
    {
     "name": "stdout",
     "output_type": "stream",
     "text": [
      "선택을 바꾸지 않을 때 포르쉐를 받는 확률 : 32.0, 320\n",
      "선택을 바꿀 때 포르쉐를 받는 확률 :68.0, 680\n",
      "if로 하나하나 구현해 본 결과\n",
      "변경해서 차가 있는 곳으로 바꿀 확률이 3개 중 2개\n"
     ]
    }
   ],
   "source": [
    "import random\n",
    "opend=answer\n",
    "first, second = 0, 0\n",
    "\n",
    "for i in range(1000):\n",
    "    door = [\"염소\",\"염소\",\"염소\"]\n",
    "    choice = random.randint(0,2)\n",
    "    answer = random.randint(0,2)\n",
    "    door[answer] = \"차\"\n",
    "    \n",
    "    #바꾸지 않을 때\n",
    "    if door[choice] == \"차\": first += 1\n",
    "    \n",
    "    #바꿀 때\n",
    "    while door.index(\"차\") == opend or choice == opend:\n",
    "        opend = random.randint(0,2)\n",
    "        \n",
    "    if door.index(\"차\") == 0:\n",
    "        if choice == 0:\n",
    "            if opend == 1:\n",
    "                change = 2\n",
    "            elif opend == 2:\n",
    "                change = 1\n",
    "        if choice == 1:\n",
    "            if opend == 2:\n",
    "                change = 0\n",
    "        if choice == 2:\n",
    "            if opend == 1:\n",
    "                change = 0\n",
    "    elif door.index(\"차\") == 1:\n",
    "        if choice == 0:\n",
    "            if opend == 2:\n",
    "                change = 1\n",
    "        if choice == 1:\n",
    "            if opend == 0:\n",
    "                change = 2\n",
    "            elif opend == 2:\n",
    "                change = 0\n",
    "        if choice == 2:\n",
    "            if opend == 0:\n",
    "                change = 1\n",
    "    elif door.index(\"차\") == 2:\n",
    "        if choice == 0:\n",
    "            if opend == 1:\n",
    "                change = 2\n",
    "        if choice == 1:\n",
    "            if opend == 0:\n",
    "                change = 2\n",
    "        if choice == 2:\n",
    "            if opend == 0:\n",
    "                change = 1\n",
    "            elif opend == 1:\n",
    "                change = 0\n",
    "                \n",
    "    if change==answer: second += 1\n",
    "    \n",
    "print(f\"선택을 바꾸지 않을 때 포르쉐를 받는 확률 : {(first*100)/1000}, {first}\")\n",
    "print(f\"선택을 바꿀 때 포르쉐를 받는 확률 :{(second*100)/1000}, {second}\")\n",
    "##\n",
    "print(\"if로 하나하나 구현해 본 결과\")\n",
    "print(\"변경해서 차가 있는 곳으로 바꿀 확률이 3개 중 2개\")"
   ]
  },
  {
   "cell_type": "code",
   "execution_count": 426,
   "id": "1b5d5448",
   "metadata": {},
   "outputs": [
    {
     "name": "stdout",
     "output_type": "stream",
     "text": [
      "    *    \n",
      "   ***   \n",
      "  *****  \n",
      " ******* \n",
      "*********\n"
     ]
    }
   ],
   "source": [
    "star = [print(\"{:^9s}\".format(\"*\"*(2*i+1))) for i in range(5)]"
   ]
  }
 ],
 "metadata": {
  "kernelspec": {
   "display_name": "Python 3",
   "language": "python",
   "name": "python3"
  },
  "language_info": {
   "codemirror_mode": {
    "name": "ipython",
    "version": 3
   },
   "file_extension": ".py",
   "mimetype": "text/x-python",
   "name": "python",
   "nbconvert_exporter": "python",
   "pygments_lexer": "ipython3",
   "version": "3.8.8"
  },
  "toc": {
   "base_numbering": 1,
   "nav_menu": {},
   "number_sections": true,
   "sideBar": true,
   "skip_h1_title": false,
   "title_cell": "Table of Contents",
   "title_sidebar": "Contents",
   "toc_cell": false,
   "toc_position": {},
   "toc_section_display": true,
   "toc_window_display": false
  }
 },
 "nbformat": 4,
 "nbformat_minor": 5
}
