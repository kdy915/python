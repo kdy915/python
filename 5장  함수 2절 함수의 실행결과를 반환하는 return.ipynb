{
 "cells": [
  {
   "cell_type": "markdown",
   "id": "0f7b7dac",
   "metadata": {},
   "source": [
    "### 함수의 실행결과를 반환하는 return"
   ]
  },
  {
   "cell_type": "code",
   "execution_count": 1,
   "id": "9a26f02c",
   "metadata": {},
   "outputs": [],
   "source": [
    "def fibonacci(n):\n",
    "    \"n값 미만까지 피보나치수열을 출력합니다.\"\n",
    "    a,b = 0,1\n",
    "    while b<n:\n",
    "        print(b, end=' ')\n",
    "        a, b = b, a+b\n",
    "    print()"
   ]
  },
  {
   "cell_type": "code",
   "execution_count": 2,
   "id": "1b12e5a2",
   "metadata": {},
   "outputs": [
    {
     "name": "stdout",
     "output_type": "stream",
     "text": [
      "1 1 2 3 5 8 13 21 34 55 89 144 233 377 610 987 1597 \n"
     ]
    }
   ],
   "source": [
    "f200=fibonacci(2000)"
   ]
  },
  {
   "cell_type": "code",
   "execution_count": 5,
   "id": "6e9d4908",
   "metadata": {},
   "outputs": [
    {
     "name": "stdout",
     "output_type": "stream",
     "text": [
      "None\n"
     ]
    }
   ],
   "source": [
    "print(f200)"
   ]
  },
  {
   "cell_type": "code",
   "execution_count": 7,
   "id": "7616d1ec",
   "metadata": {},
   "outputs": [],
   "source": [
    "def fibonacci2(n):\n",
    "    \"n값 미만까지 피보나치수열을 출력합니다\"\n",
    "    result=[]\n",
    "    a, b =0,1\n",
    "    while b<n:\n",
    "        result.append(b)\n",
    "        a,b = b,a+b\n",
    "    return result"
   ]
  },
  {
   "cell_type": "code",
   "execution_count": 9,
   "id": "17949611",
   "metadata": {},
   "outputs": [
    {
     "name": "stdout",
     "output_type": "stream",
     "text": [
      "[1, 1, 2, 3, 5, 8, 13, 21, 34, 55, 89]\n"
     ]
    }
   ],
   "source": [
    "f100=fibonacci2(100)\n",
    "print(f100)"
   ]
  },
  {
   "cell_type": "code",
   "execution_count": 10,
   "id": "50000786",
   "metadata": {},
   "outputs": [],
   "source": [
    "def swap(a,b):\n",
    "    return b,a"
   ]
  },
  {
   "cell_type": "code",
   "execution_count": 11,
   "id": "df9d7636",
   "metadata": {},
   "outputs": [
    {
     "data": {
      "text/plain": [
       "tuple"
      ]
     },
     "execution_count": 11,
     "metadata": {},
     "output_type": "execute_result"
    }
   ],
   "source": [
    "a= swap(1,2)\n",
    "type(a)"
   ]
  },
  {
   "cell_type": "code",
   "execution_count": 12,
   "id": "8b95b265",
   "metadata": {},
   "outputs": [
    {
     "name": "stdout",
     "output_type": "stream",
     "text": [
      "(2, 1)\n"
     ]
    }
   ],
   "source": [
    "print(a)"
   ]
  },
  {
   "cell_type": "code",
   "execution_count": 13,
   "id": "27ede4f4",
   "metadata": {},
   "outputs": [
    {
     "name": "stdout",
     "output_type": "stream",
     "text": [
      "2 1\n"
     ]
    }
   ],
   "source": [
    "x, y = swap(1,2)\n",
    "print(x,y)"
   ]
  },
  {
   "cell_type": "code",
   "execution_count": 14,
   "id": "7c63b896",
   "metadata": {},
   "outputs": [],
   "source": [
    "#함수 객체를 반환\n",
    "def outer(num):\n",
    "    def inner(data):\n",
    "        return num*data\n",
    "    return inner"
   ]
  },
  {
   "cell_type": "code",
   "execution_count": 15,
   "id": "82b2c8e1",
   "metadata": {},
   "outputs": [],
   "source": [
    "temp = outer(5)"
   ]
  },
  {
   "cell_type": "code",
   "execution_count": 16,
   "id": "8bb37346",
   "metadata": {},
   "outputs": [
    {
     "data": {
      "text/plain": [
       "50"
      ]
     },
     "execution_count": 16,
     "metadata": {},
     "output_type": "execute_result"
    }
   ],
   "source": [
    "temp(10)"
   ]
  },
  {
   "cell_type": "code",
   "execution_count": 17,
   "id": "f4a45c67",
   "metadata": {},
   "outputs": [],
   "source": [
    "temp1=outer(15)"
   ]
  },
  {
   "cell_type": "code",
   "execution_count": 18,
   "id": "a2ed2391",
   "metadata": {},
   "outputs": [
    {
     "data": {
      "text/plain": [
       "150"
      ]
     },
     "execution_count": 18,
     "metadata": {},
     "output_type": "execute_result"
    }
   ],
   "source": [
    "temp1(10)"
   ]
  },
  {
   "cell_type": "markdown",
   "id": "85fbb7d5",
   "metadata": {},
   "source": [
    "### 함수 매개변수"
   ]
  },
  {
   "cell_type": "code",
   "execution_count": 19,
   "id": "7afce4af",
   "metadata": {},
   "outputs": [],
   "source": [
    "#기본값을 갖는 매개변수\n",
    "def make_url(ip,port=80):\n",
    "    return \"http://{}:{}\".format(ip,port)"
   ]
  },
  {
   "cell_type": "code",
   "execution_count": 20,
   "id": "3fc7a047",
   "metadata": {},
   "outputs": [
    {
     "data": {
      "text/plain": [
       "'http://localhost:80'"
      ]
     },
     "execution_count": 20,
     "metadata": {},
     "output_type": "execute_result"
    }
   ],
   "source": [
    "make_url(\"localhost\")"
   ]
  },
  {
   "cell_type": "code",
   "execution_count": 21,
   "id": "80ac4640",
   "metadata": {},
   "outputs": [
    {
     "data": {
      "text/plain": [
       "'http://localhost:8080'"
      ]
     },
     "execution_count": 21,
     "metadata": {},
     "output_type": "execute_result"
    }
   ],
   "source": [
    "make_url(\"localhost\",8080)"
   ]
  },
  {
   "cell_type": "code",
   "execution_count": 22,
   "id": "dd0f2807",
   "metadata": {},
   "outputs": [
    {
     "data": {
      "text/plain": [
       "'http://coderby.com:80'"
      ]
     },
     "execution_count": 22,
     "metadata": {},
     "output_type": "execute_result"
    }
   ],
   "source": [
    "make_url(\"coderby.com\")"
   ]
  },
  {
   "cell_type": "code",
   "execution_count": 23,
   "id": "6037055b",
   "metadata": {},
   "outputs": [],
   "source": [
    "#기본 변수를 갖는 매개변수\n",
    "i=5"
   ]
  },
  {
   "cell_type": "code",
   "execution_count": 24,
   "id": "d094ac86",
   "metadata": {},
   "outputs": [],
   "source": [
    "def func2(arg=i):\n",
    "    print(arg)"
   ]
  },
  {
   "cell_type": "code",
   "execution_count": 25,
   "id": "a5e436f1",
   "metadata": {},
   "outputs": [],
   "source": [
    "i=6"
   ]
  },
  {
   "cell_type": "code",
   "execution_count": 26,
   "id": "32f8c636",
   "metadata": {},
   "outputs": [
    {
     "name": "stdout",
     "output_type": "stream",
     "text": [
      "5\n"
     ]
    }
   ],
   "source": [
    "func2()"
   ]
  },
  {
   "cell_type": "code",
   "execution_count": 27,
   "id": "2c99269e",
   "metadata": {},
   "outputs": [],
   "source": [
    "list_=[]\n",
    "def func3(a,L=list_):\n",
    "    L.append(a)\n",
    "    return L"
   ]
  },
  {
   "cell_type": "code",
   "execution_count": 28,
   "id": "b37b79d8",
   "metadata": {},
   "outputs": [
    {
     "name": "stdout",
     "output_type": "stream",
     "text": [
      "[3]\n"
     ]
    }
   ],
   "source": [
    "print(func3(3))"
   ]
  },
  {
   "cell_type": "code",
   "execution_count": 29,
   "id": "f3b88526",
   "metadata": {},
   "outputs": [
    {
     "name": "stdout",
     "output_type": "stream",
     "text": [
      "[3, 4]\n"
     ]
    }
   ],
   "source": [
    "print(func3(4))"
   ]
  },
  {
   "cell_type": "code",
   "execution_count": 30,
   "id": "3b340d83",
   "metadata": {},
   "outputs": [
    {
     "name": "stdout",
     "output_type": "stream",
     "text": [
      "[3, 4, 5]\n"
     ]
    }
   ],
   "source": [
    "print(func3(5))"
   ]
  },
  {
   "cell_type": "code",
   "execution_count": 33,
   "id": "25c3d9d9",
   "metadata": {},
   "outputs": [],
   "source": [
    "# 기변 변수를 함수들 호출 사이에 공유하지 않으려면\n",
    "def func4(a,L=None):\n",
    "    if L is None:\n",
    "        L=[]\n",
    "    L.append(a)\n",
    "    return L"
   ]
  },
  {
   "cell_type": "code",
   "execution_count": 34,
   "id": "9726fb64",
   "metadata": {},
   "outputs": [
    {
     "name": "stdout",
     "output_type": "stream",
     "text": [
      "[2]\n",
      "[3]\n"
     ]
    }
   ],
   "source": [
    "print(func4(2))\n",
    "print(func4(3))"
   ]
  },
  {
   "cell_type": "code",
   "execution_count": 35,
   "id": "74a2b9ee",
   "metadata": {},
   "outputs": [],
   "source": [
    "#순서 인수와 키워드 인수\n",
    "def func4(a,L=None):\n",
    "    if L is None:\n",
    "        L=[]\n",
    "    L.append(a)\n",
    "    return L"
   ]
  },
  {
   "cell_type": "code",
   "execution_count": 36,
   "id": "c340ff91",
   "metadata": {},
   "outputs": [],
   "source": [
    "list_=[]"
   ]
  },
  {
   "cell_type": "code",
   "execution_count": 37,
   "id": "0924a1d3",
   "metadata": {},
   "outputs": [
    {
     "data": {
      "text/plain": [
       "[10]"
      ]
     },
     "execution_count": 37,
     "metadata": {},
     "output_type": "execute_result"
    }
   ],
   "source": [
    "func4(10,list_)"
   ]
  },
  {
   "cell_type": "code",
   "execution_count": 39,
   "id": "d0773640",
   "metadata": {},
   "outputs": [
    {
     "data": {
      "text/plain": [
       "[10, 20]"
      ]
     },
     "execution_count": 39,
     "metadata": {},
     "output_type": "execute_result"
    }
   ],
   "source": [
    "func4(20,list_)"
   ]
  },
  {
   "cell_type": "code",
   "execution_count": 40,
   "id": "66b27ad5",
   "metadata": {},
   "outputs": [
    {
     "data": {
      "text/plain": [
       "[10, 20, 30]"
      ]
     },
     "execution_count": 40,
     "metadata": {},
     "output_type": "execute_result"
    }
   ],
   "source": [
    "func4(30,list_)"
   ]
  },
  {
   "cell_type": "code",
   "execution_count": 42,
   "id": "1261703b",
   "metadata": {},
   "outputs": [
    {
     "data": {
      "text/plain": [
       "[10, 20, 30, 40]"
      ]
     },
     "execution_count": 42,
     "metadata": {},
     "output_type": "execute_result"
    }
   ],
   "source": [
    "# 매개변수 이름을 입력하면 순서를 바꿔 함수를 호출 할 수 있다.\n",
    "func4(L=list_,a=40)"
   ]
  },
  {
   "cell_type": "code",
   "execution_count": 43,
   "id": "cb88cc95",
   "metadata": {},
   "outputs": [
    {
     "data": {
      "text/plain": [
       "[50]"
      ]
     },
     "execution_count": 43,
     "metadata": {},
     "output_type": "execute_result"
    }
   ],
   "source": [
    "# 기본값이 있으면 생략가능\n",
    "func4(a=50)"
   ]
  },
  {
   "cell_type": "code",
   "execution_count": 44,
   "id": "6e7f6a25",
   "metadata": {},
   "outputs": [
    {
     "ename": "SyntaxError",
     "evalue": "positional argument follows keyword argument (<ipython-input-44-b6c70e3994ec>, line 2)",
     "output_type": "error",
     "traceback": [
      "\u001b[1;36m  File \u001b[1;32m\"<ipython-input-44-b6c70e3994ec>\"\u001b[1;36m, line \u001b[1;32m2\u001b[0m\n\u001b[1;33m    func4(L=list_,60)\u001b[0m\n\u001b[1;37m                  ^\u001b[0m\n\u001b[1;31mSyntaxError\u001b[0m\u001b[1;31m:\u001b[0m positional argument follows keyword argument\n"
     ]
    }
   ],
   "source": [
    "# 키워드 인수는 순서 인수 뒤에 와야 한다\n",
    "func4(L=list_,60)"
   ]
  },
  {
   "cell_type": "code",
   "execution_count": null,
   "id": "a6ec052b",
   "metadata": {},
   "outputs": [],
   "source": [
    "\n"
   ]
  }
 ],
 "metadata": {
  "kernelspec": {
   "display_name": "Python 3",
   "language": "python",
   "name": "python3"
  },
  "language_info": {
   "codemirror_mode": {
    "name": "ipython",
    "version": 3
   },
   "file_extension": ".py",
   "mimetype": "text/x-python",
   "name": "python",
   "nbconvert_exporter": "python",
   "pygments_lexer": "ipython3",
   "version": "3.8.8"
  },
  "toc": {
   "base_numbering": 1,
   "nav_menu": {},
   "number_sections": true,
   "sideBar": true,
   "skip_h1_title": false,
   "title_cell": "Table of Contents",
   "title_sidebar": "Contents",
   "toc_cell": false,
   "toc_position": {},
   "toc_section_display": true,
   "toc_window_display": false
  }
 },
 "nbformat": 4,
 "nbformat_minor": 5
}
